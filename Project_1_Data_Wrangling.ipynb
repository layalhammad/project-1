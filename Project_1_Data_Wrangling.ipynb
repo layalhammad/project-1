{
 "cells": [
  {
   "cell_type": "code",
   "execution_count": 135,
   "id": "48120fb3",
   "metadata": {},
   "outputs": [],
   "source": [
    "'''importing all necessary modules to deal with different pathnames, \n",
    "to extract multiple csvs, to clean up data, to analyze, and graph data'''\n",
    "import pandas as pd\n",
    "import os \n",
    "import glob\n",
    "import re\n",
    "import numpy as np\n",
    "from matplotlib import pyplot as plt\n",
    "plt.style.use('ggplot')\n",
    "import plotly.express as px\n",
    "import plotly.graph_objects as go"
   ]
  },
  {
   "cell_type": "code",
   "execution_count": 2,
   "id": "14788fc8",
   "metadata": {},
   "outputs": [
    {
     "data": {
      "text/plain": [
       "'/Users/layalhammad/git_proj/projects/project-1/scrapped_dia'"
      ]
     },
     "execution_count": 2,
     "metadata": {},
     "output_type": "execute_result"
    }
   ],
   "source": [
    "'''finding out the directory containing compound csv files related Diazepam'''\n",
    "path_dia = os.path.expanduser('/Users/layalhammad/git_proj/projects/project-1/scrapped_dia')\n",
    "path_dia"
   ]
  },
  {
   "cell_type": "code",
   "execution_count": 3,
   "id": "70fc1c0c",
   "metadata": {},
   "outputs": [],
   "source": [
    "'''Extracting compound csv files related to Diazepam'''\n",
    "csv_files_dia = glob.glob(os.path.join(path_dia, \"*.csv\"))"
   ]
  },
  {
   "cell_type": "code",
   "execution_count": 4,
   "id": "26eec1ac",
   "metadata": {},
   "outputs": [],
   "source": [
    "'''reading csv files,\n",
    "    puting the length of each file in a list,\n",
    "    putting all files in one list'''\n",
    "lst_dia= []\n",
    "data_dia = []\n",
    "for file in csv_files_dia:\n",
    "    df_dia = pd.read_csv(file)\n",
    "    df_dia = df_dia.set_index('cid')\n",
    "    lst_dia.append(len(df_dia)) \n",
    "    data_dia.append(df_dia)"
   ]
  },
  {
   "cell_type": "code",
   "execution_count": 5,
   "id": "19986894",
   "metadata": {},
   "outputs": [
    {
     "name": "stdout",
     "output_type": "stream",
     "text": [
      "390\n",
      "390\n",
      "69\n"
     ]
    }
   ],
   "source": [
    "'''making sure that all files in directory are read'''\n",
    "print(len(lst_dia))\n",
    "'''confirming the number of datasets in a list'''\n",
    "print(len(data_dia))\n",
    "'''checking compound libraries that contain more than 50 bioligical test:\n",
    "the nuumber shown gives an indication that many compounds are not tested thoroughly'''\n",
    "print(len(list(filter(lambda x: x>50,lst_dia))))"
   ]
  },
  {
   "cell_type": "code",
   "execution_count": 6,
   "id": "1abfb5e3",
   "metadata": {
    "scrolled": true
   },
   "outputs": [
    {
     "data": {
      "text/html": [
       "<div>\n",
       "<style scoped>\n",
       "    .dataframe tbody tr th:only-of-type {\n",
       "        vertical-align: middle;\n",
       "    }\n",
       "\n",
       "    .dataframe tbody tr th {\n",
       "        vertical-align: top;\n",
       "    }\n",
       "\n",
       "    .dataframe thead th {\n",
       "        text-align: right;\n",
       "    }\n",
       "</style>\n",
       "<table border=\"1\" class=\"dataframe\">\n",
       "  <thead>\n",
       "    <tr style=\"text-align: right;\">\n",
       "      <th></th>\n",
       "      <th>baid</th>\n",
       "      <th>acvalue</th>\n",
       "      <th>aid</th>\n",
       "      <th>sid</th>\n",
       "      <th>geneid</th>\n",
       "      <th>pmid</th>\n",
       "      <th>aidtype</th>\n",
       "      <th>aidmdate</th>\n",
       "      <th>hasdrc</th>\n",
       "      <th>rnai</th>\n",
       "      <th>...</th>\n",
       "      <th>aidsrcname</th>\n",
       "      <th>aidname</th>\n",
       "      <th>cmpdname</th>\n",
       "      <th>targetname</th>\n",
       "      <th>targeturl</th>\n",
       "      <th>ecs</th>\n",
       "      <th>repacxn</th>\n",
       "      <th>taxids</th>\n",
       "      <th>cellids</th>\n",
       "      <th>targettaxid</th>\n",
       "    </tr>\n",
       "    <tr>\n",
       "      <th>cid</th>\n",
       "      <th></th>\n",
       "      <th></th>\n",
       "      <th></th>\n",
       "      <th></th>\n",
       "      <th></th>\n",
       "      <th></th>\n",
       "      <th></th>\n",
       "      <th></th>\n",
       "      <th></th>\n",
       "      <th></th>\n",
       "      <th></th>\n",
       "      <th></th>\n",
       "      <th></th>\n",
       "      <th></th>\n",
       "      <th></th>\n",
       "      <th></th>\n",
       "      <th></th>\n",
       "      <th></th>\n",
       "      <th></th>\n",
       "      <th></th>\n",
       "      <th></th>\n",
       "    </tr>\n",
       "  </thead>\n",
       "  <tbody>\n",
       "    <tr>\n",
       "      <th>71863527</th>\n",
       "      <td>351204313</td>\n",
       "      <td>NaN</td>\n",
       "      <td>1259398</td>\n",
       "      <td>354900018</td>\n",
       "      <td>115004.0</td>\n",
       "      <td>NaN</td>\n",
       "      <td>Screening</td>\n",
       "      <td>20190104</td>\n",
       "      <td>0</td>\n",
       "      <td>0</td>\n",
       "      <td>...</td>\n",
       "      <td>The Rockefeller University High Throughput Scr...</td>\n",
       "      <td>human cGAS chemiluminescence screen</td>\n",
       "      <td>1-Methyl-4-[3-(trifluoromethyl)cyclohexanecarb...</td>\n",
       "      <td>CGAS - cyclic GMP-AMP synthase (human)</td>\n",
       "      <td>/gene/115004</td>\n",
       "      <td>2.7.7.86</td>\n",
       "      <td>Q8N884</td>\n",
       "      <td>NaN</td>\n",
       "      <td>NaN</td>\n",
       "      <td>NaN</td>\n",
       "    </tr>\n",
       "    <tr>\n",
       "      <th>71863527</th>\n",
       "      <td>351491324</td>\n",
       "      <td>NaN</td>\n",
       "      <td>1259399</td>\n",
       "      <td>354900018</td>\n",
       "      <td>214763.0</td>\n",
       "      <td>NaN</td>\n",
       "      <td>Screening</td>\n",
       "      <td>20190104</td>\n",
       "      <td>0</td>\n",
       "      <td>0</td>\n",
       "      <td>...</td>\n",
       "      <td>The Rockefeller University High Throughput Scr...</td>\n",
       "      <td>mouse cGAS chemiluminescence screen</td>\n",
       "      <td>1-Methyl-4-[3-(trifluoromethyl)cyclohexanecarb...</td>\n",
       "      <td>Cgas - cyclic GMP-AMP synthase (house mouse)</td>\n",
       "      <td>/gene/214763</td>\n",
       "      <td>2.7.7.86</td>\n",
       "      <td>Q8C6L5</td>\n",
       "      <td>NaN</td>\n",
       "      <td>NaN</td>\n",
       "      <td>NaN</td>\n",
       "    </tr>\n",
       "    <tr>\n",
       "      <th>71863527</th>\n",
       "      <td>354413193</td>\n",
       "      <td>NaN</td>\n",
       "      <td>1259423</td>\n",
       "      <td>354900018</td>\n",
       "      <td>NaN</td>\n",
       "      <td>NaN</td>\n",
       "      <td>Screening</td>\n",
       "      <td>20180820</td>\n",
       "      <td>0</td>\n",
       "      <td>0</td>\n",
       "      <td>...</td>\n",
       "      <td>The Rockefeller University High Throughput Scr...</td>\n",
       "      <td>Primary cell-based high-throughput screening a...</td>\n",
       "      <td>1-Methyl-4-[3-(trifluoromethyl)cyclohexanecarb...</td>\n",
       "      <td>NaN</td>\n",
       "      <td>NaN</td>\n",
       "      <td>NaN</td>\n",
       "      <td>NaN</td>\n",
       "      <td>NaN</td>\n",
       "      <td>NaN</td>\n",
       "      <td>NaN</td>\n",
       "    </tr>\n",
       "    <tr>\n",
       "      <th>44366219</th>\n",
       "      <td>99428714</td>\n",
       "      <td>333426.0</td>\n",
       "      <td>40987</td>\n",
       "      <td>103395468</td>\n",
       "      <td>706.0</td>\n",
       "      <td>8978853.0</td>\n",
       "      <td>Confirmatory</td>\n",
       "      <td>20181015</td>\n",
       "      <td>0</td>\n",
       "      <td>0</td>\n",
       "      <td>...</td>\n",
       "      <td>ChEMBL</td>\n",
       "      <td>Binding affinity of compound towards Benzodiaz...</td>\n",
       "      <td>7-Chloro-5-(2-chloro-6-fluorophenyl)-1,3-dihyd...</td>\n",
       "      <td>TSPO - translocator protein (human)</td>\n",
       "      <td>/gene/706</td>\n",
       "      <td>NaN</td>\n",
       "      <td>P30536</td>\n",
       "      <td>NaN</td>\n",
       "      <td>NaN</td>\n",
       "      <td>NaN</td>\n",
       "    </tr>\n",
       "    <tr>\n",
       "      <th>44366219</th>\n",
       "      <td>99444804</td>\n",
       "      <td>333426.0</td>\n",
       "      <td>40994</td>\n",
       "      <td>103395468</td>\n",
       "      <td>NaN</td>\n",
       "      <td>7861419.0</td>\n",
       "      <td>Confirmatory</td>\n",
       "      <td>20181015</td>\n",
       "      <td>0</td>\n",
       "      <td>0</td>\n",
       "      <td>...</td>\n",
       "      <td>ChEMBL</td>\n",
       "      <td>Binding affinity towards benzodiazepine/GABA A...</td>\n",
       "      <td>7-Chloro-5-(2-chloro-6-fluorophenyl)-1,3-dihyd...</td>\n",
       "      <td>NaN</td>\n",
       "      <td>NaN</td>\n",
       "      <td>NaN</td>\n",
       "      <td>NaN</td>\n",
       "      <td>NaN</td>\n",
       "      <td>NaN</td>\n",
       "      <td>NaN</td>\n",
       "    </tr>\n",
       "    <tr>\n",
       "      <th>...</th>\n",
       "      <td>...</td>\n",
       "      <td>...</td>\n",
       "      <td>...</td>\n",
       "      <td>...</td>\n",
       "      <td>...</td>\n",
       "      <td>...</td>\n",
       "      <td>...</td>\n",
       "      <td>...</td>\n",
       "      <td>...</td>\n",
       "      <td>...</td>\n",
       "      <td>...</td>\n",
       "      <td>...</td>\n",
       "      <td>...</td>\n",
       "      <td>...</td>\n",
       "      <td>...</td>\n",
       "      <td>...</td>\n",
       "      <td>...</td>\n",
       "      <td>...</td>\n",
       "      <td>...</td>\n",
       "      <td>...</td>\n",
       "      <td>...</td>\n",
       "    </tr>\n",
       "    <tr>\n",
       "      <th>7198651</th>\n",
       "      <td>361416122</td>\n",
       "      <td>NaN</td>\n",
       "      <td>1347165</td>\n",
       "      <td>377660201</td>\n",
       "      <td>10765.0</td>\n",
       "      <td>NaN</td>\n",
       "      <td>Confirmatory</td>\n",
       "      <td>20191206</td>\n",
       "      <td>0</td>\n",
       "      <td>0</td>\n",
       "      <td>...</td>\n",
       "      <td>National Center for Advancing Translational Sc...</td>\n",
       "      <td>Primary screen for KDM5B Histone Demethylases ...</td>\n",
       "      <td>6-Hydroxy-4-(piperidin-1-ylmethyl)-2H-chromen-...</td>\n",
       "      <td>KDM5B - lysine demethylase 5B (human)</td>\n",
       "      <td>/gene/10765</td>\n",
       "      <td>NaN</td>\n",
       "      <td>NaN</td>\n",
       "      <td>NaN</td>\n",
       "      <td>NaN</td>\n",
       "      <td>NaN</td>\n",
       "    </tr>\n",
       "    <tr>\n",
       "      <th>7198651</th>\n",
       "      <td>363013306</td>\n",
       "      <td>NaN</td>\n",
       "      <td>1347430</td>\n",
       "      <td>377660201</td>\n",
       "      <td>57379.0</td>\n",
       "      <td>NaN</td>\n",
       "      <td>Confirmatory</td>\n",
       "      <td>20210615</td>\n",
       "      <td>1</td>\n",
       "      <td>0</td>\n",
       "      <td>...</td>\n",
       "      <td>National Center for Advancing Translational Sc...</td>\n",
       "      <td>Primary qHTS assay for inhibitors of Activatio...</td>\n",
       "      <td>6-Hydroxy-4-(piperidin-1-ylmethyl)-2H-chromen-...</td>\n",
       "      <td>AICDA - activation induced cytidine deaminase ...</td>\n",
       "      <td>/gene/57379</td>\n",
       "      <td>3.5.4.38</td>\n",
       "      <td>Q9GZX7</td>\n",
       "      <td>NaN</td>\n",
       "      <td>NaN</td>\n",
       "      <td>NaN</td>\n",
       "    </tr>\n",
       "    <tr>\n",
       "      <th>7198651</th>\n",
       "      <td>363146463</td>\n",
       "      <td>NaN</td>\n",
       "      <td>1347428</td>\n",
       "      <td>377660201</td>\n",
       "      <td>57379.0</td>\n",
       "      <td>NaN</td>\n",
       "      <td>Confirmatory</td>\n",
       "      <td>20210615</td>\n",
       "      <td>0</td>\n",
       "      <td>0</td>\n",
       "      <td>...</td>\n",
       "      <td>National Center for Advancing Translational Sc...</td>\n",
       "      <td>Primary qHTS assay for inhibitors of Activatio...</td>\n",
       "      <td>6-Hydroxy-4-(piperidin-1-ylmethyl)-2H-chromen-...</td>\n",
       "      <td>AICDA - activation induced cytidine deaminase ...</td>\n",
       "      <td>/gene/57379</td>\n",
       "      <td>3.5.4.38</td>\n",
       "      <td>Q9GZX7</td>\n",
       "      <td>NaN</td>\n",
       "      <td>NaN</td>\n",
       "      <td>NaN</td>\n",
       "    </tr>\n",
       "    <tr>\n",
       "      <th>7198651</th>\n",
       "      <td>363146464</td>\n",
       "      <td>NaN</td>\n",
       "      <td>1347428</td>\n",
       "      <td>377660201</td>\n",
       "      <td>57379.0</td>\n",
       "      <td>NaN</td>\n",
       "      <td>Confirmatory</td>\n",
       "      <td>20210615</td>\n",
       "      <td>0</td>\n",
       "      <td>0</td>\n",
       "      <td>...</td>\n",
       "      <td>National Center for Advancing Translational Sc...</td>\n",
       "      <td>Primary qHTS assay for inhibitors of Activatio...</td>\n",
       "      <td>6-Hydroxy-4-(piperidin-1-ylmethyl)-2H-chromen-...</td>\n",
       "      <td>AICDA - activation induced cytidine deaminase ...</td>\n",
       "      <td>/gene/57379</td>\n",
       "      <td>NaN</td>\n",
       "      <td>NaN</td>\n",
       "      <td>NaN</td>\n",
       "      <td>NaN</td>\n",
       "      <td>NaN</td>\n",
       "    </tr>\n",
       "    <tr>\n",
       "      <th>7198651</th>\n",
       "      <td>363930048</td>\n",
       "      <td>NaN</td>\n",
       "      <td>1508602</td>\n",
       "      <td>332891709</td>\n",
       "      <td>134391.0</td>\n",
       "      <td>NaN</td>\n",
       "      <td>Screening</td>\n",
       "      <td>20200731</td>\n",
       "      <td>0</td>\n",
       "      <td>0</td>\n",
       "      <td>...</td>\n",
       "      <td>The Scripps Research Institute Molecular Scree...</td>\n",
       "      <td>Cell-based high throughput primary assay to id...</td>\n",
       "      <td>6-Hydroxy-4-(piperidin-1-ylmethyl)-2H-chromen-...</td>\n",
       "      <td>GPR151 - G protein-coupled receptor 151 (human)</td>\n",
       "      <td>/gene/134391</td>\n",
       "      <td>NaN</td>\n",
       "      <td>Q8TDV0</td>\n",
       "      <td>9606</td>\n",
       "      <td>NaN</td>\n",
       "      <td>NaN</td>\n",
       "    </tr>\n",
       "  </tbody>\n",
       "</table>\n",
       "<p>47270 rows × 24 columns</p>\n",
       "</div>"
      ],
      "text/plain": [
       "               baid   acvalue      aid        sid    geneid       pmid  \\\n",
       "cid                                                                      \n",
       "71863527  351204313       NaN  1259398  354900018  115004.0        NaN   \n",
       "71863527  351491324       NaN  1259399  354900018  214763.0        NaN   \n",
       "71863527  354413193       NaN  1259423  354900018       NaN        NaN   \n",
       "44366219   99428714  333426.0    40987  103395468     706.0  8978853.0   \n",
       "44366219   99444804  333426.0    40994  103395468       NaN  7861419.0   \n",
       "...             ...       ...      ...        ...       ...        ...   \n",
       "7198651   361416122       NaN  1347165  377660201   10765.0        NaN   \n",
       "7198651   363013306       NaN  1347430  377660201   57379.0        NaN   \n",
       "7198651   363146463       NaN  1347428  377660201   57379.0        NaN   \n",
       "7198651   363146464       NaN  1347428  377660201   57379.0        NaN   \n",
       "7198651   363930048       NaN  1508602  332891709  134391.0        NaN   \n",
       "\n",
       "               aidtype  aidmdate  hasdrc  rnai  ...  \\\n",
       "cid                                             ...   \n",
       "71863527     Screening  20190104       0     0  ...   \n",
       "71863527     Screening  20190104       0     0  ...   \n",
       "71863527     Screening  20180820       0     0  ...   \n",
       "44366219  Confirmatory  20181015       0     0  ...   \n",
       "44366219  Confirmatory  20181015       0     0  ...   \n",
       "...                ...       ...     ...   ...  ...   \n",
       "7198651   Confirmatory  20191206       0     0  ...   \n",
       "7198651   Confirmatory  20210615       1     0  ...   \n",
       "7198651   Confirmatory  20210615       0     0  ...   \n",
       "7198651   Confirmatory  20210615       0     0  ...   \n",
       "7198651      Screening  20200731       0     0  ...   \n",
       "\n",
       "                                                 aidsrcname  \\\n",
       "cid                                                           \n",
       "71863527  The Rockefeller University High Throughput Scr...   \n",
       "71863527  The Rockefeller University High Throughput Scr...   \n",
       "71863527  The Rockefeller University High Throughput Scr...   \n",
       "44366219                                             ChEMBL   \n",
       "44366219                                             ChEMBL   \n",
       "...                                                     ...   \n",
       "7198651   National Center for Advancing Translational Sc...   \n",
       "7198651   National Center for Advancing Translational Sc...   \n",
       "7198651   National Center for Advancing Translational Sc...   \n",
       "7198651   National Center for Advancing Translational Sc...   \n",
       "7198651   The Scripps Research Institute Molecular Scree...   \n",
       "\n",
       "                                                    aidname  \\\n",
       "cid                                                           \n",
       "71863527                human cGAS chemiluminescence screen   \n",
       "71863527                mouse cGAS chemiluminescence screen   \n",
       "71863527  Primary cell-based high-throughput screening a...   \n",
       "44366219  Binding affinity of compound towards Benzodiaz...   \n",
       "44366219  Binding affinity towards benzodiazepine/GABA A...   \n",
       "...                                                     ...   \n",
       "7198651   Primary screen for KDM5B Histone Demethylases ...   \n",
       "7198651   Primary qHTS assay for inhibitors of Activatio...   \n",
       "7198651   Primary qHTS assay for inhibitors of Activatio...   \n",
       "7198651   Primary qHTS assay for inhibitors of Activatio...   \n",
       "7198651   Cell-based high throughput primary assay to id...   \n",
       "\n",
       "                                                   cmpdname  \\\n",
       "cid                                                           \n",
       "71863527  1-Methyl-4-[3-(trifluoromethyl)cyclohexanecarb...   \n",
       "71863527  1-Methyl-4-[3-(trifluoromethyl)cyclohexanecarb...   \n",
       "71863527  1-Methyl-4-[3-(trifluoromethyl)cyclohexanecarb...   \n",
       "44366219  7-Chloro-5-(2-chloro-6-fluorophenyl)-1,3-dihyd...   \n",
       "44366219  7-Chloro-5-(2-chloro-6-fluorophenyl)-1,3-dihyd...   \n",
       "...                                                     ...   \n",
       "7198651   6-Hydroxy-4-(piperidin-1-ylmethyl)-2H-chromen-...   \n",
       "7198651   6-Hydroxy-4-(piperidin-1-ylmethyl)-2H-chromen-...   \n",
       "7198651   6-Hydroxy-4-(piperidin-1-ylmethyl)-2H-chromen-...   \n",
       "7198651   6-Hydroxy-4-(piperidin-1-ylmethyl)-2H-chromen-...   \n",
       "7198651   6-Hydroxy-4-(piperidin-1-ylmethyl)-2H-chromen-...   \n",
       "\n",
       "                                                 targetname     targeturl  \\\n",
       "cid                                                                         \n",
       "71863527             CGAS - cyclic GMP-AMP synthase (human)  /gene/115004   \n",
       "71863527       Cgas - cyclic GMP-AMP synthase (house mouse)  /gene/214763   \n",
       "71863527                                                NaN           NaN   \n",
       "44366219                TSPO - translocator protein (human)     /gene/706   \n",
       "44366219                                                NaN           NaN   \n",
       "...                                                     ...           ...   \n",
       "7198651               KDM5B - lysine demethylase 5B (human)   /gene/10765   \n",
       "7198651   AICDA - activation induced cytidine deaminase ...   /gene/57379   \n",
       "7198651   AICDA - activation induced cytidine deaminase ...   /gene/57379   \n",
       "7198651   AICDA - activation induced cytidine deaminase ...   /gene/57379   \n",
       "7198651     GPR151 - G protein-coupled receptor 151 (human)  /gene/134391   \n",
       "\n",
       "               ecs repacxn taxids cellids targettaxid  \n",
       "cid                                                    \n",
       "71863527  2.7.7.86  Q8N884    NaN     NaN         NaN  \n",
       "71863527  2.7.7.86  Q8C6L5    NaN     NaN         NaN  \n",
       "71863527       NaN     NaN    NaN     NaN         NaN  \n",
       "44366219       NaN  P30536    NaN     NaN         NaN  \n",
       "44366219       NaN     NaN    NaN     NaN         NaN  \n",
       "...            ...     ...    ...     ...         ...  \n",
       "7198651        NaN     NaN    NaN     NaN         NaN  \n",
       "7198651   3.5.4.38  Q9GZX7    NaN     NaN         NaN  \n",
       "7198651   3.5.4.38  Q9GZX7    NaN     NaN         NaN  \n",
       "7198651        NaN     NaN    NaN     NaN         NaN  \n",
       "7198651        NaN  Q8TDV0   9606     NaN         NaN  \n",
       "\n",
       "[47270 rows x 24 columns]"
      ]
     },
     "execution_count": 6,
     "metadata": {},
     "output_type": "execute_result"
    }
   ],
   "source": [
    "'''concatenating all libraries related to Diazepam in one huge dataframe'''\n",
    "combined_data_dia = pd.concat(data_dia)\n",
    "combined_data_dia"
   ]
  },
  {
   "cell_type": "code",
   "execution_count": 7,
   "id": "ef3849a8",
   "metadata": {},
   "outputs": [
    {
     "data": {
      "text/plain": [
       "'/Users/layalhammad/git_proj/projects/project-1/scrapped_alpra'"
      ]
     },
     "execution_count": 7,
     "metadata": {},
     "output_type": "execute_result"
    }
   ],
   "source": [
    "'''finding out the directory containing compound csv files related Alprazolam'''\n",
    "path_alpra = os.path.expanduser('/Users/layalhammad/git_proj/projects/project-1/scrapped_alpra')\n",
    "path_alpra"
   ]
  },
  {
   "cell_type": "code",
   "execution_count": 8,
   "id": "40b7a4d6",
   "metadata": {},
   "outputs": [],
   "source": [
    "'''Extracting compound csv files related to Alprazolam'''\n",
    "csv_files_alpra = glob.glob(os.path.join(path_alpra, \"*.csv\"))"
   ]
  },
  {
   "cell_type": "code",
   "execution_count": 9,
   "id": "5b7d8809",
   "metadata": {},
   "outputs": [],
   "source": [
    "'''reading csv files,\n",
    "    puting the length of each file in a list,\n",
    "    putting all files in one list'''\n",
    "lst_alpra= []\n",
    "data_alpra = []\n",
    "for f in csv_files_alpra:\n",
    "    df_alpra = pd.read_csv(f)\n",
    "    df_alpra = df_alpra.set_index('cid')\n",
    "    lst_alpra.append(len(df_alpra)) \n",
    "    data_alpra.append(df_alpra)"
   ]
  },
  {
   "cell_type": "code",
   "execution_count": 10,
   "id": "00d83395",
   "metadata": {},
   "outputs": [
    {
     "name": "stdout",
     "output_type": "stream",
     "text": [
      "204\n",
      "204\n",
      "17\n"
     ]
    }
   ],
   "source": [
    "'''making sure that all files in directory are read'''\n",
    "print(len(lst_alpra))\n",
    "'''confirming the number of datasets in a list'''\n",
    "print(len(data_alpra))\n",
    "'''checking compound libraries that contain more than 50 bioligical test:\n",
    "the nuumber shown gives an indication that many compounds are not tested thoroughly'''\n",
    "print(len(list(filter(lambda x: x>50,lst_alpra))))"
   ]
  },
  {
   "cell_type": "code",
   "execution_count": 11,
   "id": "3efbcb94",
   "metadata": {},
   "outputs": [],
   "source": [
    "'''concatenating all libraries related to Alprazolam in one huge dataframe'''\n",
    "combined_data_alpra = pd.concat(data_alpra)"
   ]
  },
  {
   "cell_type": "code",
   "execution_count": 12,
   "id": "0dbbec1c",
   "metadata": {
    "scrolled": false
   },
   "outputs": [
    {
     "data": {
      "text/html": [
       "<div>\n",
       "<style scoped>\n",
       "    .dataframe tbody tr th:only-of-type {\n",
       "        vertical-align: middle;\n",
       "    }\n",
       "\n",
       "    .dataframe tbody tr th {\n",
       "        vertical-align: top;\n",
       "    }\n",
       "\n",
       "    .dataframe thead th {\n",
       "        text-align: right;\n",
       "    }\n",
       "</style>\n",
       "<table border=\"1\" class=\"dataframe\">\n",
       "  <thead>\n",
       "    <tr style=\"text-align: right;\">\n",
       "      <th></th>\n",
       "      <th>baid</th>\n",
       "      <th>acvalue</th>\n",
       "      <th>aid</th>\n",
       "      <th>sid</th>\n",
       "      <th>geneid</th>\n",
       "      <th>pmid</th>\n",
       "      <th>aidtype</th>\n",
       "      <th>aidmdate</th>\n",
       "      <th>hasdrc</th>\n",
       "      <th>rnai</th>\n",
       "      <th>...</th>\n",
       "      <th>aidsrcname</th>\n",
       "      <th>aidname</th>\n",
       "      <th>cmpdname</th>\n",
       "      <th>targetname</th>\n",
       "      <th>targeturl</th>\n",
       "      <th>ecs</th>\n",
       "      <th>repacxn</th>\n",
       "      <th>taxids</th>\n",
       "      <th>cellids</th>\n",
       "      <th>targettaxid</th>\n",
       "    </tr>\n",
       "    <tr>\n",
       "      <th>cid</th>\n",
       "      <th></th>\n",
       "      <th></th>\n",
       "      <th></th>\n",
       "      <th></th>\n",
       "      <th></th>\n",
       "      <th></th>\n",
       "      <th></th>\n",
       "      <th></th>\n",
       "      <th></th>\n",
       "      <th></th>\n",
       "      <th></th>\n",
       "      <th></th>\n",
       "      <th></th>\n",
       "      <th></th>\n",
       "      <th></th>\n",
       "      <th></th>\n",
       "      <th></th>\n",
       "      <th></th>\n",
       "      <th></th>\n",
       "      <th></th>\n",
       "      <th></th>\n",
       "    </tr>\n",
       "  </thead>\n",
       "  <tbody>\n",
       "    <tr>\n",
       "      <th>1688</th>\n",
       "      <td>990</td>\n",
       "      <td>77</td>\n",
       "      <td>990</td>\n",
       "      <td>990</td>\n",
       "      <td>664</td>\n",
       "      <td>110</td>\n",
       "      <td>990</td>\n",
       "      <td>990</td>\n",
       "      <td>990</td>\n",
       "      <td>990</td>\n",
       "      <td>...</td>\n",
       "      <td>990</td>\n",
       "      <td>990</td>\n",
       "      <td>990</td>\n",
       "      <td>782</td>\n",
       "      <td>785</td>\n",
       "      <td>161</td>\n",
       "      <td>766</td>\n",
       "      <td>618</td>\n",
       "      <td>35</td>\n",
       "      <td>4</td>\n",
       "    </tr>\n",
       "    <tr>\n",
       "      <th>1963</th>\n",
       "      <td>61</td>\n",
       "      <td>7</td>\n",
       "      <td>61</td>\n",
       "      <td>61</td>\n",
       "      <td>7</td>\n",
       "      <td>30</td>\n",
       "      <td>61</td>\n",
       "      <td>61</td>\n",
       "      <td>61</td>\n",
       "      <td>61</td>\n",
       "      <td>...</td>\n",
       "      <td>61</td>\n",
       "      <td>61</td>\n",
       "      <td>61</td>\n",
       "      <td>29</td>\n",
       "      <td>29</td>\n",
       "      <td>2</td>\n",
       "      <td>4</td>\n",
       "      <td>25</td>\n",
       "      <td>12</td>\n",
       "      <td>21</td>\n",
       "    </tr>\n",
       "    <tr>\n",
       "      <th>2118</th>\n",
       "      <td>1358</td>\n",
       "      <td>123</td>\n",
       "      <td>1358</td>\n",
       "      <td>1358</td>\n",
       "      <td>572</td>\n",
       "      <td>313</td>\n",
       "      <td>1358</td>\n",
       "      <td>1358</td>\n",
       "      <td>1358</td>\n",
       "      <td>1358</td>\n",
       "      <td>...</td>\n",
       "      <td>1358</td>\n",
       "      <td>1358</td>\n",
       "      <td>1358</td>\n",
       "      <td>1039</td>\n",
       "      <td>1042</td>\n",
       "      <td>140</td>\n",
       "      <td>629</td>\n",
       "      <td>994</td>\n",
       "      <td>14</td>\n",
       "      <td>411</td>\n",
       "    </tr>\n",
       "    <tr>\n",
       "      <th>2441</th>\n",
       "      <td>92</td>\n",
       "      <td>3</td>\n",
       "      <td>92</td>\n",
       "      <td>92</td>\n",
       "      <td>1</td>\n",
       "      <td>54</td>\n",
       "      <td>92</td>\n",
       "      <td>92</td>\n",
       "      <td>92</td>\n",
       "      <td>92</td>\n",
       "      <td>...</td>\n",
       "      <td>92</td>\n",
       "      <td>92</td>\n",
       "      <td>92</td>\n",
       "      <td>19</td>\n",
       "      <td>19</td>\n",
       "      <td>0</td>\n",
       "      <td>1</td>\n",
       "      <td>30</td>\n",
       "      <td>0</td>\n",
       "      <td>18</td>\n",
       "    </tr>\n",
       "    <tr>\n",
       "      <th>2451</th>\n",
       "      <td>113</td>\n",
       "      <td>32</td>\n",
       "      <td>113</td>\n",
       "      <td>113</td>\n",
       "      <td>44</td>\n",
       "      <td>23</td>\n",
       "      <td>113</td>\n",
       "      <td>113</td>\n",
       "      <td>113</td>\n",
       "      <td>113</td>\n",
       "      <td>...</td>\n",
       "      <td>113</td>\n",
       "      <td>113</td>\n",
       "      <td>113</td>\n",
       "      <td>50</td>\n",
       "      <td>51</td>\n",
       "      <td>1</td>\n",
       "      <td>44</td>\n",
       "      <td>24</td>\n",
       "      <td>1</td>\n",
       "      <td>4</td>\n",
       "    </tr>\n",
       "    <tr>\n",
       "      <th>...</th>\n",
       "      <td>...</td>\n",
       "      <td>...</td>\n",
       "      <td>...</td>\n",
       "      <td>...</td>\n",
       "      <td>...</td>\n",
       "      <td>...</td>\n",
       "      <td>...</td>\n",
       "      <td>...</td>\n",
       "      <td>...</td>\n",
       "      <td>...</td>\n",
       "      <td>...</td>\n",
       "      <td>...</td>\n",
       "      <td>...</td>\n",
       "      <td>...</td>\n",
       "      <td>...</td>\n",
       "      <td>...</td>\n",
       "      <td>...</td>\n",
       "      <td>...</td>\n",
       "      <td>...</td>\n",
       "      <td>...</td>\n",
       "      <td>...</td>\n",
       "    </tr>\n",
       "    <tr>\n",
       "      <th>127026874</th>\n",
       "      <td>1</td>\n",
       "      <td>1</td>\n",
       "      <td>1</td>\n",
       "      <td>1</td>\n",
       "      <td>0</td>\n",
       "      <td>1</td>\n",
       "      <td>1</td>\n",
       "      <td>1</td>\n",
       "      <td>1</td>\n",
       "      <td>1</td>\n",
       "      <td>...</td>\n",
       "      <td>1</td>\n",
       "      <td>1</td>\n",
       "      <td>1</td>\n",
       "      <td>0</td>\n",
       "      <td>0</td>\n",
       "      <td>0</td>\n",
       "      <td>0</td>\n",
       "      <td>1</td>\n",
       "      <td>1</td>\n",
       "      <td>0</td>\n",
       "    </tr>\n",
       "    <tr>\n",
       "      <th>127026885</th>\n",
       "      <td>1</td>\n",
       "      <td>1</td>\n",
       "      <td>1</td>\n",
       "      <td>1</td>\n",
       "      <td>0</td>\n",
       "      <td>1</td>\n",
       "      <td>1</td>\n",
       "      <td>1</td>\n",
       "      <td>1</td>\n",
       "      <td>1</td>\n",
       "      <td>...</td>\n",
       "      <td>1</td>\n",
       "      <td>1</td>\n",
       "      <td>1</td>\n",
       "      <td>0</td>\n",
       "      <td>0</td>\n",
       "      <td>0</td>\n",
       "      <td>0</td>\n",
       "      <td>1</td>\n",
       "      <td>1</td>\n",
       "      <td>0</td>\n",
       "    </tr>\n",
       "    <tr>\n",
       "      <th>127026886</th>\n",
       "      <td>1</td>\n",
       "      <td>1</td>\n",
       "      <td>1</td>\n",
       "      <td>1</td>\n",
       "      <td>0</td>\n",
       "      <td>1</td>\n",
       "      <td>1</td>\n",
       "      <td>1</td>\n",
       "      <td>1</td>\n",
       "      <td>1</td>\n",
       "      <td>...</td>\n",
       "      <td>1</td>\n",
       "      <td>1</td>\n",
       "      <td>1</td>\n",
       "      <td>0</td>\n",
       "      <td>0</td>\n",
       "      <td>0</td>\n",
       "      <td>0</td>\n",
       "      <td>1</td>\n",
       "      <td>1</td>\n",
       "      <td>0</td>\n",
       "    </tr>\n",
       "    <tr>\n",
       "      <th>135456501</th>\n",
       "      <td>33</td>\n",
       "      <td>0</td>\n",
       "      <td>33</td>\n",
       "      <td>33</td>\n",
       "      <td>24</td>\n",
       "      <td>14</td>\n",
       "      <td>33</td>\n",
       "      <td>33</td>\n",
       "      <td>33</td>\n",
       "      <td>33</td>\n",
       "      <td>...</td>\n",
       "      <td>33</td>\n",
       "      <td>33</td>\n",
       "      <td>33</td>\n",
       "      <td>31</td>\n",
       "      <td>31</td>\n",
       "      <td>11</td>\n",
       "      <td>31</td>\n",
       "      <td>10</td>\n",
       "      <td>0</td>\n",
       "      <td>0</td>\n",
       "    </tr>\n",
       "    <tr>\n",
       "      <th>136027077</th>\n",
       "      <td>36</td>\n",
       "      <td>0</td>\n",
       "      <td>36</td>\n",
       "      <td>36</td>\n",
       "      <td>36</td>\n",
       "      <td>36</td>\n",
       "      <td>36</td>\n",
       "      <td>36</td>\n",
       "      <td>36</td>\n",
       "      <td>36</td>\n",
       "      <td>...</td>\n",
       "      <td>36</td>\n",
       "      <td>36</td>\n",
       "      <td>36</td>\n",
       "      <td>36</td>\n",
       "      <td>36</td>\n",
       "      <td>0</td>\n",
       "      <td>0</td>\n",
       "      <td>0</td>\n",
       "      <td>0</td>\n",
       "      <td>0</td>\n",
       "    </tr>\n",
       "  </tbody>\n",
       "</table>\n",
       "<p>594 rows × 24 columns</p>\n",
       "</div>"
      ],
      "text/plain": [
       "           baid  acvalue   aid   sid  geneid  pmid  aidtype  aidmdate  hasdrc  \\\n",
       "cid                                                                             \n",
       "1688        990       77   990   990     664   110      990       990     990   \n",
       "1963         61        7    61    61       7    30       61        61      61   \n",
       "2118       1358      123  1358  1358     572   313     1358      1358    1358   \n",
       "2441         92        3    92    92       1    54       92        92      92   \n",
       "2451        113       32   113   113      44    23      113       113     113   \n",
       "...         ...      ...   ...   ...     ...   ...      ...       ...     ...   \n",
       "127026874     1        1     1     1       0     1        1         1       1   \n",
       "127026885     1        1     1     1       0     1        1         1       1   \n",
       "127026886     1        1     1     1       0     1        1         1       1   \n",
       "135456501    33        0    33    33      24    14       33        33      33   \n",
       "136027077    36        0    36    36      36    36       36        36      36   \n",
       "\n",
       "           rnai  ...  aidsrcname  aidname  cmpdname  targetname  targeturl  \\\n",
       "cid              ...                                                         \n",
       "1688        990  ...         990      990       990         782        785   \n",
       "1963         61  ...          61       61        61          29         29   \n",
       "2118       1358  ...        1358     1358      1358        1039       1042   \n",
       "2441         92  ...          92       92        92          19         19   \n",
       "2451        113  ...         113      113       113          50         51   \n",
       "...         ...  ...         ...      ...       ...         ...        ...   \n",
       "127026874     1  ...           1        1         1           0          0   \n",
       "127026885     1  ...           1        1         1           0          0   \n",
       "127026886     1  ...           1        1         1           0          0   \n",
       "135456501    33  ...          33       33        33          31         31   \n",
       "136027077    36  ...          36       36        36          36         36   \n",
       "\n",
       "           ecs  repacxn  taxids  cellids  targettaxid  \n",
       "cid                                                    \n",
       "1688       161      766     618       35            4  \n",
       "1963         2        4      25       12           21  \n",
       "2118       140      629     994       14          411  \n",
       "2441         0        1      30        0           18  \n",
       "2451         1       44      24        1            4  \n",
       "...        ...      ...     ...      ...          ...  \n",
       "127026874    0        0       1        1            0  \n",
       "127026885    0        0       1        1            0  \n",
       "127026886    0        0       1        1            0  \n",
       "135456501   11       31      10        0            0  \n",
       "136027077    0        0       0        0            0  \n",
       "\n",
       "[594 rows x 24 columns]"
      ]
     },
     "execution_count": 12,
     "metadata": {},
     "output_type": "execute_result"
    }
   ],
   "source": [
    "'''concatenating all libraries related to Diazepam and Alprazolam in one huge dataframe'''\n",
    "combined_data = pd.concat([combined_data_dia,combined_data_alpra]).reset_index()\n",
    "combined_data.groupby('cid').count()"
   ]
  },
  {
   "cell_type": "code",
   "execution_count": 13,
   "id": "4de5836f",
   "metadata": {},
   "outputs": [
    {
     "data": {
      "text/plain": [
       "'/Users/layalhammad/git_proj/projects/project-1'"
      ]
     },
     "execution_count": 13,
     "metadata": {},
     "output_type": "execute_result"
    }
   ],
   "source": [
    "'''finding out the directory containing smiles csv files related to Diazepam Alprazolam'''\n",
    "path_smiles = os.path.expanduser('/Users/layalhammad/git_proj/projects/project-1')\n",
    "path_smiles"
   ]
  },
  {
   "cell_type": "code",
   "execution_count": 14,
   "id": "434c6927",
   "metadata": {},
   "outputs": [],
   "source": [
    "'''Extracting smiles csv files related to Diazepam and Alprazolam'''\n",
    "csv_files_smiles = glob.glob(os.path.join(path_smiles, \"*.csv\"))"
   ]
  },
  {
   "cell_type": "code",
   "execution_count": 15,
   "id": "9840ff6f",
   "metadata": {},
   "outputs": [],
   "source": [
    "'''reading csv files,\n",
    "    puting the length of each file in a list,\n",
    "    putting all files in one list'''\n",
    "lst_smiles= []\n",
    "data_smiles = []\n",
    "for f in csv_files_smiles:\n",
    "    df_smiles = pd.read_csv(f)\n",
    "    df_smiles = df_smiles.set_index('cid')\n",
    "    lst_smiles.append(len(df_smiles)) \n",
    "    data_smiles.append(df_smiles)"
   ]
  },
  {
   "cell_type": "code",
   "execution_count": 16,
   "id": "15fee676",
   "metadata": {},
   "outputs": [
    {
     "name": "stdout",
     "output_type": "stream",
     "text": [
      "2\n",
      "2\n"
     ]
    }
   ],
   "source": [
    "'''making sure that all files in directory are read'''\n",
    "print(len(lst_smiles))\n",
    "'''confirming the number of datasets in a list'''\n",
    "print(len(data_smiles))"
   ]
  },
  {
   "cell_type": "code",
   "execution_count": 17,
   "id": "f917079f",
   "metadata": {
    "scrolled": false
   },
   "outputs": [
    {
     "data": {
      "text/html": [
       "<div>\n",
       "<style scoped>\n",
       "    .dataframe tbody tr th:only-of-type {\n",
       "        vertical-align: middle;\n",
       "    }\n",
       "\n",
       "    .dataframe tbody tr th {\n",
       "        vertical-align: top;\n",
       "    }\n",
       "\n",
       "    .dataframe thead th {\n",
       "        text-align: right;\n",
       "    }\n",
       "</style>\n",
       "<table border=\"1\" class=\"dataframe\">\n",
       "  <thead>\n",
       "    <tr style=\"text-align: right;\">\n",
       "      <th></th>\n",
       "      <th>cmpdname</th>\n",
       "      <th>cmpdsynonym</th>\n",
       "      <th>mw</th>\n",
       "      <th>mf</th>\n",
       "      <th>polararea</th>\n",
       "      <th>complexity</th>\n",
       "      <th>xlogp</th>\n",
       "      <th>heavycnt</th>\n",
       "      <th>hbonddonor</th>\n",
       "      <th>hbondacc</th>\n",
       "      <th>...</th>\n",
       "      <th>iupacname</th>\n",
       "      <th>meshheadings</th>\n",
       "      <th>annothits</th>\n",
       "      <th>annothitcnt</th>\n",
       "      <th>aids</th>\n",
       "      <th>cidcdate</th>\n",
       "      <th>sidsrcname</th>\n",
       "      <th>depcatg</th>\n",
       "      <th>annotation</th>\n",
       "      <th>neighbortype</th>\n",
       "    </tr>\n",
       "    <tr>\n",
       "      <th>cid</th>\n",
       "      <th></th>\n",
       "      <th></th>\n",
       "      <th></th>\n",
       "      <th></th>\n",
       "      <th></th>\n",
       "      <th></th>\n",
       "      <th></th>\n",
       "      <th></th>\n",
       "      <th></th>\n",
       "      <th></th>\n",
       "      <th></th>\n",
       "      <th></th>\n",
       "      <th></th>\n",
       "      <th></th>\n",
       "      <th></th>\n",
       "      <th></th>\n",
       "      <th></th>\n",
       "      <th></th>\n",
       "      <th></th>\n",
       "      <th></th>\n",
       "      <th></th>\n",
       "    </tr>\n",
       "  </thead>\n",
       "  <tbody>\n",
       "    <tr>\n",
       "      <th>2118</th>\n",
       "      <td>Alprazolam</td>\n",
       "      <td>alprazolam|Xanax|28981-97-7|Trankimazin|Tafil|...</td>\n",
       "      <td>308.80</td>\n",
       "      <td>C17H13ClN4</td>\n",
       "      <td>43.1</td>\n",
       "      <td>434.0</td>\n",
       "      <td>2.1</td>\n",
       "      <td>22.0</td>\n",
       "      <td>0.0</td>\n",
       "      <td>3.0</td>\n",
       "      <td>...</td>\n",
       "      <td>8-chloro-1-methyl-6-phenyl-4H-[1,2,4]triazolo[...</td>\n",
       "      <td>Alprazolam</td>\n",
       "      <td>Biological Test Results|Biomolecular Interacti...</td>\n",
       "      <td>16.0</td>\n",
       "      <td>485|568|583|598|602|618|620|629|630|631|633|63...</td>\n",
       "      <td>20050325.0</td>\n",
       "      <td>3B Scientific (Wuhan) Corp|A&amp;J Pharmtech CO., ...</td>\n",
       "      <td>Chemical Vendors|Curation Efforts|Governmental...</td>\n",
       "      <td>NaN</td>\n",
       "      <td>3.0</td>\n",
       "    </tr>\n",
       "    <tr>\n",
       "      <th>1963</th>\n",
       "      <td>alpha-Hydroxytriazolam</td>\n",
       "      <td>alpha-Hydroxytriazolam|37115-45-0|[8-chloro-6-...</td>\n",
       "      <td>359.20</td>\n",
       "      <td>C17H12Cl2N4O</td>\n",
       "      <td>63.3</td>\n",
       "      <td>491.0</td>\n",
       "      <td>1.2</td>\n",
       "      <td>24.0</td>\n",
       "      <td>1.0</td>\n",
       "      <td>4.0</td>\n",
       "      <td>...</td>\n",
       "      <td>[8-chloro-6-(2-chlorophenyl)-4H-[1,2,4]triazol...</td>\n",
       "      <td>NaN</td>\n",
       "      <td>Biological Test Results|Chemical and Physical ...</td>\n",
       "      <td>9.0</td>\n",
       "      <td>1136387|1136388|1136389|1136390|1136391|113639...</td>\n",
       "      <td>20050325.0</td>\n",
       "      <td>3B Scientific (Wuhan) Corp|3WAY PHARM INC|AAA ...</td>\n",
       "      <td>Chemical Vendors|Curation Efforts|Governmental...</td>\n",
       "      <td>NaN</td>\n",
       "      <td>3.0</td>\n",
       "    </tr>\n",
       "    <tr>\n",
       "      <th>2451</th>\n",
       "      <td>Brotizolam</td>\n",
       "      <td>brotizolam|Lendormin|Lendorm|57801-81-7|Medera...</td>\n",
       "      <td>393.70</td>\n",
       "      <td>C15H10BrClN4S</td>\n",
       "      <td>71.3</td>\n",
       "      <td>465.0</td>\n",
       "      <td>2.8</td>\n",
       "      <td>22.0</td>\n",
       "      <td>0.0</td>\n",
       "      <td>4.0</td>\n",
       "      <td>...</td>\n",
       "      <td>4-bromo-7-(2-chlorophenyl)-13-methyl-3-thia-1,...</td>\n",
       "      <td>NaN</td>\n",
       "      <td>Biological Test Results|Biomolecular Interacti...</td>\n",
       "      <td>14.0</td>\n",
       "      <td>1195|27167|28681|29359|29813|76841|78323|15774...</td>\n",
       "      <td>20050325.0</td>\n",
       "      <td>3WAY PHARM INC|A&amp;J Pharmtech CO., LTD.|A2B Che...</td>\n",
       "      <td>Chemical Vendors|Curation Efforts|Governmental...</td>\n",
       "      <td>NaN</td>\n",
       "      <td>2.0</td>\n",
       "    </tr>\n",
       "    <tr>\n",
       "      <th>3261</th>\n",
       "      <td>Estazolam</td>\n",
       "      <td>estazolam|29975-16-4|Eurodin|ProSom|Nuctalon|J...</td>\n",
       "      <td>294.74</td>\n",
       "      <td>C16H11ClN4</td>\n",
       "      <td>43.1</td>\n",
       "      <td>407.0</td>\n",
       "      <td>1.7</td>\n",
       "      <td>21.0</td>\n",
       "      <td>0.0</td>\n",
       "      <td>3.0</td>\n",
       "      <td>...</td>\n",
       "      <td>8-chloro-6-phenyl-4H-[1,2,4]triazolo[4,3-a][1,...</td>\n",
       "      <td>Estazolam</td>\n",
       "      <td>Biological Test Results|Biomolecular Interacti...</td>\n",
       "      <td>14.0</td>\n",
       "      <td>330|1189|1195|1199|1205|1208|1471|1490|1688|17...</td>\n",
       "      <td>20050325.0</td>\n",
       "      <td>ABI Chem|Achemtek|AHH Chemical co.,ltd|AKos Co...</td>\n",
       "      <td>Chemical Vendors|Curation Efforts|Governmental...</td>\n",
       "      <td>NaN</td>\n",
       "      <td>3.0</td>\n",
       "    </tr>\n",
       "    <tr>\n",
       "      <th>3307</th>\n",
       "      <td>Etizolam</td>\n",
       "      <td>etizolam|40054-69-1|Depas|4-(2-chlorophenyl)-2...</td>\n",
       "      <td>342.80</td>\n",
       "      <td>C17H15ClN4S</td>\n",
       "      <td>71.3</td>\n",
       "      <td>474.0</td>\n",
       "      <td>2.6</td>\n",
       "      <td>23.0</td>\n",
       "      <td>0.0</td>\n",
       "      <td>4.0</td>\n",
       "      <td>...</td>\n",
       "      <td>7-(2-chlorophenyl)-4-ethyl-13-methyl-3-thia-1,...</td>\n",
       "      <td>NaN</td>\n",
       "      <td>Biological Test Results|Biomolecular Interacti...</td>\n",
       "      <td>14.0</td>\n",
       "      <td>1195|539464|588220|602332|624030|624170|624172...</td>\n",
       "      <td>20050325.0</td>\n",
       "      <td>3WAY PHARM INC|4C Pharma Scientific Inc|A&amp;J Ph...</td>\n",
       "      <td>Chemical Vendors|Curation Efforts|Governmental...</td>\n",
       "      <td>NaN</td>\n",
       "      <td>2.0</td>\n",
       "    </tr>\n",
       "    <tr>\n",
       "      <th>...</th>\n",
       "      <td>...</td>\n",
       "      <td>...</td>\n",
       "      <td>...</td>\n",
       "      <td>...</td>\n",
       "      <td>...</td>\n",
       "      <td>...</td>\n",
       "      <td>...</td>\n",
       "      <td>...</td>\n",
       "      <td>...</td>\n",
       "      <td>...</td>\n",
       "      <td>...</td>\n",
       "      <td>...</td>\n",
       "      <td>...</td>\n",
       "      <td>...</td>\n",
       "      <td>...</td>\n",
       "      <td>...</td>\n",
       "      <td>...</td>\n",
       "      <td>...</td>\n",
       "      <td>...</td>\n",
       "      <td>...</td>\n",
       "      <td>...</td>\n",
       "    </tr>\n",
       "    <tr>\n",
       "      <th>161940916</th>\n",
       "      <td>90</td>\n",
       "      <td>1</td>\n",
       "      <td>NaN</td>\n",
       "      <td>NaN</td>\n",
       "      <td>NaN</td>\n",
       "      <td>NaN</td>\n",
       "      <td>NaN</td>\n",
       "      <td>NaN</td>\n",
       "      <td>NaN</td>\n",
       "      <td>NaN</td>\n",
       "      <td>...</td>\n",
       "      <td>NaN</td>\n",
       "      <td>NaN</td>\n",
       "      <td>NaN</td>\n",
       "      <td>NaN</td>\n",
       "      <td>NaN</td>\n",
       "      <td>NaN</td>\n",
       "      <td>NaN</td>\n",
       "      <td>NaN</td>\n",
       "      <td>NaN</td>\n",
       "      <td>NaN</td>\n",
       "    </tr>\n",
       "    <tr>\n",
       "      <th>162221241</th>\n",
       "      <td>94</td>\n",
       "      <td>1</td>\n",
       "      <td>NaN</td>\n",
       "      <td>NaN</td>\n",
       "      <td>NaN</td>\n",
       "      <td>NaN</td>\n",
       "      <td>NaN</td>\n",
       "      <td>NaN</td>\n",
       "      <td>NaN</td>\n",
       "      <td>NaN</td>\n",
       "      <td>...</td>\n",
       "      <td>NaN</td>\n",
       "      <td>NaN</td>\n",
       "      <td>NaN</td>\n",
       "      <td>NaN</td>\n",
       "      <td>NaN</td>\n",
       "      <td>NaN</td>\n",
       "      <td>NaN</td>\n",
       "      <td>NaN</td>\n",
       "      <td>NaN</td>\n",
       "      <td>NaN</td>\n",
       "    </tr>\n",
       "    <tr>\n",
       "      <th>162276532</th>\n",
       "      <td>95</td>\n",
       "      <td>1</td>\n",
       "      <td>NaN</td>\n",
       "      <td>NaN</td>\n",
       "      <td>NaN</td>\n",
       "      <td>NaN</td>\n",
       "      <td>NaN</td>\n",
       "      <td>NaN</td>\n",
       "      <td>NaN</td>\n",
       "      <td>NaN</td>\n",
       "      <td>...</td>\n",
       "      <td>NaN</td>\n",
       "      <td>NaN</td>\n",
       "      <td>NaN</td>\n",
       "      <td>NaN</td>\n",
       "      <td>NaN</td>\n",
       "      <td>NaN</td>\n",
       "      <td>NaN</td>\n",
       "      <td>NaN</td>\n",
       "      <td>NaN</td>\n",
       "      <td>NaN</td>\n",
       "    </tr>\n",
       "    <tr>\n",
       "      <th>162323932</th>\n",
       "      <td>91</td>\n",
       "      <td>1</td>\n",
       "      <td>NaN</td>\n",
       "      <td>NaN</td>\n",
       "      <td>NaN</td>\n",
       "      <td>NaN</td>\n",
       "      <td>NaN</td>\n",
       "      <td>NaN</td>\n",
       "      <td>NaN</td>\n",
       "      <td>NaN</td>\n",
       "      <td>...</td>\n",
       "      <td>NaN</td>\n",
       "      <td>NaN</td>\n",
       "      <td>NaN</td>\n",
       "      <td>NaN</td>\n",
       "      <td>NaN</td>\n",
       "      <td>NaN</td>\n",
       "      <td>NaN</td>\n",
       "      <td>NaN</td>\n",
       "      <td>NaN</td>\n",
       "      <td>NaN</td>\n",
       "    </tr>\n",
       "    <tr>\n",
       "      <th>162400295</th>\n",
       "      <td>91</td>\n",
       "      <td>1</td>\n",
       "      <td>NaN</td>\n",
       "      <td>NaN</td>\n",
       "      <td>NaN</td>\n",
       "      <td>NaN</td>\n",
       "      <td>NaN</td>\n",
       "      <td>NaN</td>\n",
       "      <td>NaN</td>\n",
       "      <td>NaN</td>\n",
       "      <td>...</td>\n",
       "      <td>NaN</td>\n",
       "      <td>NaN</td>\n",
       "      <td>NaN</td>\n",
       "      <td>NaN</td>\n",
       "      <td>NaN</td>\n",
       "      <td>NaN</td>\n",
       "      <td>NaN</td>\n",
       "      <td>NaN</td>\n",
       "      <td>NaN</td>\n",
       "      <td>NaN</td>\n",
       "    </tr>\n",
       "  </tbody>\n",
       "</table>\n",
       "<p>9228 rows × 24 columns</p>\n",
       "</div>"
      ],
      "text/plain": [
       "                         cmpdname  \\\n",
       "cid                                 \n",
       "2118                   Alprazolam   \n",
       "1963       alpha-Hydroxytriazolam   \n",
       "2451                   Brotizolam   \n",
       "3261                    Estazolam   \n",
       "3307                     Etizolam   \n",
       "...                           ...   \n",
       "161940916                      90   \n",
       "162221241                      94   \n",
       "162276532                      95   \n",
       "162323932                      91   \n",
       "162400295                      91   \n",
       "\n",
       "                                                 cmpdsynonym      mw  \\\n",
       "cid                                                                    \n",
       "2118       alprazolam|Xanax|28981-97-7|Trankimazin|Tafil|...  308.80   \n",
       "1963       alpha-Hydroxytriazolam|37115-45-0|[8-chloro-6-...  359.20   \n",
       "2451       brotizolam|Lendormin|Lendorm|57801-81-7|Medera...  393.70   \n",
       "3261       estazolam|29975-16-4|Eurodin|ProSom|Nuctalon|J...  294.74   \n",
       "3307       etizolam|40054-69-1|Depas|4-(2-chlorophenyl)-2...  342.80   \n",
       "...                                                      ...     ...   \n",
       "161940916                                                  1     NaN   \n",
       "162221241                                                  1     NaN   \n",
       "162276532                                                  1     NaN   \n",
       "162323932                                                  1     NaN   \n",
       "162400295                                                  1     NaN   \n",
       "\n",
       "                      mf  polararea  complexity  xlogp  heavycnt  hbonddonor  \\\n",
       "cid                                                                            \n",
       "2118          C17H13ClN4       43.1       434.0    2.1      22.0         0.0   \n",
       "1963        C17H12Cl2N4O       63.3       491.0    1.2      24.0         1.0   \n",
       "2451       C15H10BrClN4S       71.3       465.0    2.8      22.0         0.0   \n",
       "3261          C16H11ClN4       43.1       407.0    1.7      21.0         0.0   \n",
       "3307         C17H15ClN4S       71.3       474.0    2.6      23.0         0.0   \n",
       "...                  ...        ...         ...    ...       ...         ...   \n",
       "161940916            NaN        NaN         NaN    NaN       NaN         NaN   \n",
       "162221241            NaN        NaN         NaN    NaN       NaN         NaN   \n",
       "162276532            NaN        NaN         NaN    NaN       NaN         NaN   \n",
       "162323932            NaN        NaN         NaN    NaN       NaN         NaN   \n",
       "162400295            NaN        NaN         NaN    NaN       NaN         NaN   \n",
       "\n",
       "           hbondacc  ...                                          iupacname  \\\n",
       "cid                  ...                                                      \n",
       "2118            3.0  ...  8-chloro-1-methyl-6-phenyl-4H-[1,2,4]triazolo[...   \n",
       "1963            4.0  ...  [8-chloro-6-(2-chlorophenyl)-4H-[1,2,4]triazol...   \n",
       "2451            4.0  ...  4-bromo-7-(2-chlorophenyl)-13-methyl-3-thia-1,...   \n",
       "3261            3.0  ...  8-chloro-6-phenyl-4H-[1,2,4]triazolo[4,3-a][1,...   \n",
       "3307            4.0  ...  7-(2-chlorophenyl)-4-ethyl-13-methyl-3-thia-1,...   \n",
       "...             ...  ...                                                ...   \n",
       "161940916       NaN  ...                                                NaN   \n",
       "162221241       NaN  ...                                                NaN   \n",
       "162276532       NaN  ...                                                NaN   \n",
       "162323932       NaN  ...                                                NaN   \n",
       "162400295       NaN  ...                                                NaN   \n",
       "\n",
       "          meshheadings                                          annothits  \\\n",
       "cid                                                                         \n",
       "2118        Alprazolam  Biological Test Results|Biomolecular Interacti...   \n",
       "1963               NaN  Biological Test Results|Chemical and Physical ...   \n",
       "2451               NaN  Biological Test Results|Biomolecular Interacti...   \n",
       "3261         Estazolam  Biological Test Results|Biomolecular Interacti...   \n",
       "3307               NaN  Biological Test Results|Biomolecular Interacti...   \n",
       "...                ...                                                ...   \n",
       "161940916          NaN                                                NaN   \n",
       "162221241          NaN                                                NaN   \n",
       "162276532          NaN                                                NaN   \n",
       "162323932          NaN                                                NaN   \n",
       "162400295          NaN                                                NaN   \n",
       "\n",
       "          annothitcnt                                               aids  \\\n",
       "cid                                                                        \n",
       "2118             16.0  485|568|583|598|602|618|620|629|630|631|633|63...   \n",
       "1963              9.0  1136387|1136388|1136389|1136390|1136391|113639...   \n",
       "2451             14.0  1195|27167|28681|29359|29813|76841|78323|15774...   \n",
       "3261             14.0  330|1189|1195|1199|1205|1208|1471|1490|1688|17...   \n",
       "3307             14.0  1195|539464|588220|602332|624030|624170|624172...   \n",
       "...               ...                                                ...   \n",
       "161940916         NaN                                                NaN   \n",
       "162221241         NaN                                                NaN   \n",
       "162276532         NaN                                                NaN   \n",
       "162323932         NaN                                                NaN   \n",
       "162400295         NaN                                                NaN   \n",
       "\n",
       "             cidcdate                                         sidsrcname  \\\n",
       "cid                                                                        \n",
       "2118       20050325.0  3B Scientific (Wuhan) Corp|A&J Pharmtech CO., ...   \n",
       "1963       20050325.0  3B Scientific (Wuhan) Corp|3WAY PHARM INC|AAA ...   \n",
       "2451       20050325.0  3WAY PHARM INC|A&J Pharmtech CO., LTD.|A2B Che...   \n",
       "3261       20050325.0  ABI Chem|Achemtek|AHH Chemical co.,ltd|AKos Co...   \n",
       "3307       20050325.0  3WAY PHARM INC|4C Pharma Scientific Inc|A&J Ph...   \n",
       "...               ...                                                ...   \n",
       "161940916         NaN                                                NaN   \n",
       "162221241         NaN                                                NaN   \n",
       "162276532         NaN                                                NaN   \n",
       "162323932         NaN                                                NaN   \n",
       "162400295         NaN                                                NaN   \n",
       "\n",
       "                                                     depcatg annotation  \\\n",
       "cid                                                                       \n",
       "2118       Chemical Vendors|Curation Efforts|Governmental...        NaN   \n",
       "1963       Chemical Vendors|Curation Efforts|Governmental...        NaN   \n",
       "2451       Chemical Vendors|Curation Efforts|Governmental...        NaN   \n",
       "3261       Chemical Vendors|Curation Efforts|Governmental...        NaN   \n",
       "3307       Chemical Vendors|Curation Efforts|Governmental...        NaN   \n",
       "...                                                      ...        ...   \n",
       "161940916                                                NaN        NaN   \n",
       "162221241                                                NaN        NaN   \n",
       "162276532                                                NaN        NaN   \n",
       "162323932                                                NaN        NaN   \n",
       "162400295                                                NaN        NaN   \n",
       "\n",
       "           neighbortype  \n",
       "cid                      \n",
       "2118                3.0  \n",
       "1963                3.0  \n",
       "2451                2.0  \n",
       "3261                3.0  \n",
       "3307                2.0  \n",
       "...                 ...  \n",
       "161940916           NaN  \n",
       "162221241           NaN  \n",
       "162276532           NaN  \n",
       "162323932           NaN  \n",
       "162400295           NaN  \n",
       "\n",
       "[9228 rows x 24 columns]"
      ]
     },
     "execution_count": 17,
     "metadata": {},
     "output_type": "execute_result"
    }
   ],
   "source": [
    "'''concatenate smiles data'''\n",
    "combined_data_smiles = pd.concat(data_smiles)\n",
    "combined_data_smiles"
   ]
  },
  {
   "cell_type": "code",
   "execution_count": 18,
   "id": "5501788d",
   "metadata": {
    "scrolled": true
   },
   "outputs": [
    {
     "data": {
      "text/plain": [
       "cmpdname           0\n",
       "cmpdsynonym      684\n",
       "mw              4617\n",
       "mf              4617\n",
       "polararea       4617\n",
       "complexity      4617\n",
       "xlogp           4744\n",
       "heavycnt        4617\n",
       "hbonddonor      4617\n",
       "hbondacc        4617\n",
       "rotbonds        4617\n",
       "inchi           4617\n",
       "isosmiles       4617\n",
       "inchikey        4617\n",
       "iupacname       4623\n",
       "meshheadings    9208\n",
       "annothits       4617\n",
       "annothitcnt     4617\n",
       "aids            8501\n",
       "cidcdate        4617\n",
       "sidsrcname      4617\n",
       "depcatg         4617\n",
       "annotation      9227\n",
       "neighbortype    4617\n",
       "dtype: int64"
      ]
     },
     "execution_count": 18,
     "metadata": {},
     "output_type": "execute_result"
    }
   ],
   "source": [
    "'''checking null values'''\n",
    "combined_data_smiles.isnull().sum()"
   ]
  },
  {
   "cell_type": "code",
   "execution_count": 19,
   "id": "4b2e565d",
   "metadata": {},
   "outputs": [],
   "source": [
    "'''removing rows containing Null mw'''\n",
    "combined_data_smiles = combined_data_smiles.sort_values('mw', ascending = False)\n",
    "combined_data_smiles = combined_data_smiles.iloc[0:(9228-4617),].reset_index()"
   ]
  },
  {
   "cell_type": "code",
   "execution_count": 20,
   "id": "8ab071ed",
   "metadata": {},
   "outputs": [],
   "source": [
    "'''subsetting the dataframe and remove duplicates'''\n",
    "combined_data_smiles = combined_data_smiles[['cid', 'isosmiles','cmpdname']]\n",
    "combined_data_smiles = combined_data_smiles.drop_duplicates(subset=['cid'], keep='first') "
   ]
  },
  {
   "cell_type": "code",
   "execution_count": 21,
   "id": "8f245c26",
   "metadata": {
    "scrolled": true
   },
   "outputs": [],
   "source": [
    "'''merge diazepam and alprazolam data with smiles data'''\n",
    "combined_data_whole = combined_data.merge(combined_data_smiles, how = 'inner' ,on =\"cid\")"
   ]
  },
  {
   "cell_type": "code",
   "execution_count": 22,
   "id": "6eaf75d1",
   "metadata": {},
   "outputs": [],
   "source": [
    "'''renaming cmpdname_y'''\n",
    "combined_data_whole.rename(columns={'cmpdname_y':'name'}, inplace=True)  "
   ]
  },
  {
   "cell_type": "code",
   "execution_count": 23,
   "id": "952539d9",
   "metadata": {
    "scrolled": true
   },
   "outputs": [
    {
     "data": {
      "text/plain": [
       "Index(['cid', 'baid', 'acvalue', 'aid', 'sid', 'geneid', 'pmid', 'aidtype',\n",
       "       'aidmdate', 'hasdrc', 'rnai', 'activity', 'protacxn', 'acname',\n",
       "       'acqualifier', 'aidsrcname', 'aidname', 'cmpdname_x', 'targetname',\n",
       "       'targeturl', 'ecs', 'repacxn', 'taxids', 'cellids', 'targettaxid',\n",
       "       'isosmiles', 'name'],\n",
       "      dtype='object')"
      ]
     },
     "execution_count": 23,
     "metadata": {},
     "output_type": "execute_result"
    }
   ],
   "source": [
    "combined_data_whole.columns"
   ]
  },
  {
   "cell_type": "code",
   "execution_count": 24,
   "id": "51507df0",
   "metadata": {
    "scrolled": true
   },
   "outputs": [
    {
     "data": {
      "text/html": [
       "<div>\n",
       "<style scoped>\n",
       "    .dataframe tbody tr th:only-of-type {\n",
       "        vertical-align: middle;\n",
       "    }\n",
       "\n",
       "    .dataframe tbody tr th {\n",
       "        vertical-align: top;\n",
       "    }\n",
       "\n",
       "    .dataframe thead th {\n",
       "        text-align: right;\n",
       "    }\n",
       "</style>\n",
       "<table border=\"1\" class=\"dataframe\">\n",
       "  <thead>\n",
       "    <tr style=\"text-align: right;\">\n",
       "      <th></th>\n",
       "      <th>cid</th>\n",
       "      <th>baid</th>\n",
       "      <th>acvalue</th>\n",
       "      <th>aid</th>\n",
       "      <th>sid</th>\n",
       "      <th>geneid</th>\n",
       "      <th>pmid</th>\n",
       "      <th>aidtype</th>\n",
       "      <th>aidmdate</th>\n",
       "      <th>hasdrc</th>\n",
       "      <th>...</th>\n",
       "      <th>cmpdname_x</th>\n",
       "      <th>targetname</th>\n",
       "      <th>targeturl</th>\n",
       "      <th>ecs</th>\n",
       "      <th>repacxn</th>\n",
       "      <th>taxids</th>\n",
       "      <th>cellids</th>\n",
       "      <th>targettaxid</th>\n",
       "      <th>isosmiles</th>\n",
       "      <th>name</th>\n",
       "    </tr>\n",
       "    <tr>\n",
       "      <th>activity</th>\n",
       "      <th></th>\n",
       "      <th></th>\n",
       "      <th></th>\n",
       "      <th></th>\n",
       "      <th></th>\n",
       "      <th></th>\n",
       "      <th></th>\n",
       "      <th></th>\n",
       "      <th></th>\n",
       "      <th></th>\n",
       "      <th></th>\n",
       "      <th></th>\n",
       "      <th></th>\n",
       "      <th></th>\n",
       "      <th></th>\n",
       "      <th></th>\n",
       "      <th></th>\n",
       "      <th></th>\n",
       "      <th></th>\n",
       "      <th></th>\n",
       "      <th></th>\n",
       "    </tr>\n",
       "  </thead>\n",
       "  <tbody>\n",
       "    <tr>\n",
       "      <th>Active</th>\n",
       "      <td>3141</td>\n",
       "      <td>3141</td>\n",
       "      <td>2654</td>\n",
       "      <td>3141</td>\n",
       "      <td>3141</td>\n",
       "      <td>2627</td>\n",
       "      <td>2488</td>\n",
       "      <td>3141</td>\n",
       "      <td>3141</td>\n",
       "      <td>3141</td>\n",
       "      <td>...</td>\n",
       "      <td>3141</td>\n",
       "      <td>2844</td>\n",
       "      <td>2847</td>\n",
       "      <td>90</td>\n",
       "      <td>2679</td>\n",
       "      <td>1515</td>\n",
       "      <td>203</td>\n",
       "      <td>91</td>\n",
       "      <td>3141</td>\n",
       "      <td>3141</td>\n",
       "    </tr>\n",
       "    <tr>\n",
       "      <th>Inactive</th>\n",
       "      <td>42319</td>\n",
       "      <td>42319</td>\n",
       "      <td>453</td>\n",
       "      <td>42319</td>\n",
       "      <td>42319</td>\n",
       "      <td>26570</td>\n",
       "      <td>1644</td>\n",
       "      <td>42319</td>\n",
       "      <td>42319</td>\n",
       "      <td>42319</td>\n",
       "      <td>...</td>\n",
       "      <td>42319</td>\n",
       "      <td>31226</td>\n",
       "      <td>31281</td>\n",
       "      <td>6850</td>\n",
       "      <td>30570</td>\n",
       "      <td>22653</td>\n",
       "      <td>1566</td>\n",
       "      <td>79</td>\n",
       "      <td>42319</td>\n",
       "      <td>42319</td>\n",
       "    </tr>\n",
       "    <tr>\n",
       "      <th>Inconclusive</th>\n",
       "      <td>1874</td>\n",
       "      <td>1874</td>\n",
       "      <td>814</td>\n",
       "      <td>1874</td>\n",
       "      <td>1874</td>\n",
       "      <td>880</td>\n",
       "      <td>416</td>\n",
       "      <td>1874</td>\n",
       "      <td>1874</td>\n",
       "      <td>1874</td>\n",
       "      <td>...</td>\n",
       "      <td>1874</td>\n",
       "      <td>1129</td>\n",
       "      <td>1145</td>\n",
       "      <td>80</td>\n",
       "      <td>870</td>\n",
       "      <td>746</td>\n",
       "      <td>163</td>\n",
       "      <td>166</td>\n",
       "      <td>1874</td>\n",
       "      <td>1874</td>\n",
       "    </tr>\n",
       "    <tr>\n",
       "      <th>Unspecified</th>\n",
       "      <td>12469</td>\n",
       "      <td>12469</td>\n",
       "      <td>1057</td>\n",
       "      <td>12469</td>\n",
       "      <td>12469</td>\n",
       "      <td>2826</td>\n",
       "      <td>6338</td>\n",
       "      <td>12469</td>\n",
       "      <td>12469</td>\n",
       "      <td>12469</td>\n",
       "      <td>...</td>\n",
       "      <td>12469</td>\n",
       "      <td>10238</td>\n",
       "      <td>10263</td>\n",
       "      <td>465</td>\n",
       "      <td>2884</td>\n",
       "      <td>10497</td>\n",
       "      <td>321</td>\n",
       "      <td>7360</td>\n",
       "      <td>12469</td>\n",
       "      <td>12469</td>\n",
       "    </tr>\n",
       "  </tbody>\n",
       "</table>\n",
       "<p>4 rows × 26 columns</p>\n",
       "</div>"
      ],
      "text/plain": [
       "                cid   baid  acvalue    aid    sid  geneid  pmid  aidtype  \\\n",
       "activity                                                                   \n",
       "Active         3141   3141     2654   3141   3141    2627  2488     3141   \n",
       "Inactive      42319  42319      453  42319  42319   26570  1644    42319   \n",
       "Inconclusive   1874   1874      814   1874   1874     880   416     1874   \n",
       "Unspecified   12469  12469     1057  12469  12469    2826  6338    12469   \n",
       "\n",
       "              aidmdate  hasdrc  ...  cmpdname_x  targetname  targeturl   ecs  \\\n",
       "activity                        ...                                            \n",
       "Active            3141    3141  ...        3141        2844       2847    90   \n",
       "Inactive         42319   42319  ...       42319       31226      31281  6850   \n",
       "Inconclusive      1874    1874  ...        1874        1129       1145    80   \n",
       "Unspecified      12469   12469  ...       12469       10238      10263   465   \n",
       "\n",
       "              repacxn  taxids  cellids  targettaxid  isosmiles   name  \n",
       "activity                                                               \n",
       "Active           2679    1515      203           91       3141   3141  \n",
       "Inactive        30570   22653     1566           79      42319  42319  \n",
       "Inconclusive      870     746      163          166       1874   1874  \n",
       "Unspecified      2884   10497      321         7360      12469  12469  \n",
       "\n",
       "[4 rows x 26 columns]"
      ]
     },
     "execution_count": 24,
     "metadata": {},
     "output_type": "execute_result"
    }
   ],
   "source": [
    "'''check activity counts as we only want to include active and inactive'''\n",
    "combined_data_whole.groupby('activity').count()"
   ]
  },
  {
   "cell_type": "code",
   "execution_count": 25,
   "id": "1d7d32d8",
   "metadata": {
    "scrolled": true
   },
   "outputs": [],
   "source": [
    "'''filter dataframe as we only want to include active and inactive bioassays, and the following \n",
    "columns: cid , name, isosmiles, aid, aidname, activity '''\n",
    "combined_data_filtered = combined_data_whole.loc[combined_data_whole['activity'].isin(['Active' , 'Inactive'])]\n",
    "combined_data_filtered = combined_data_filtered[['cid', 'name', 'isosmiles', 'aid', 'aidname', 'activity' ]]\n",
    "combined_data_filtered = combined_data_filtered.drop_duplicates() "
   ]
  },
  {
   "cell_type": "code",
   "execution_count": 26,
   "id": "3eacdf9b",
   "metadata": {},
   "outputs": [
    {
     "data": {
      "text/plain": [
       "(333, 1)"
      ]
     },
     "execution_count": 26,
     "metadata": {},
     "output_type": "execute_result"
    }
   ],
   "source": [
    "'''checking how many compounds are left and having a look on the count of aid in regard to cid'''\n",
    "combined_data_filtered.groupby('cid').count()[['aid']].sort_values('aid', ascending = False).shape"
   ]
  },
  {
   "cell_type": "code",
   "execution_count": 27,
   "id": "138ee4c6",
   "metadata": {
    "scrolled": true
   },
   "outputs": [
    {
     "data": {
      "text/html": [
       "<div>\n",
       "<style scoped>\n",
       "    .dataframe tbody tr th:only-of-type {\n",
       "        vertical-align: middle;\n",
       "    }\n",
       "\n",
       "    .dataframe tbody tr th {\n",
       "        vertical-align: top;\n",
       "    }\n",
       "\n",
       "    .dataframe thead th {\n",
       "        text-align: right;\n",
       "    }\n",
       "</style>\n",
       "<table border=\"1\" class=\"dataframe\">\n",
       "  <thead>\n",
       "    <tr style=\"text-align: right;\">\n",
       "      <th></th>\n",
       "      <th>aid</th>\n",
       "      <th>cid</th>\n",
       "    </tr>\n",
       "  </thead>\n",
       "  <tbody>\n",
       "    <tr>\n",
       "      <th>0</th>\n",
       "      <td>602332</td>\n",
       "      <td>76</td>\n",
       "    </tr>\n",
       "    <tr>\n",
       "      <th>1</th>\n",
       "      <td>624170</td>\n",
       "      <td>72</td>\n",
       "    </tr>\n",
       "    <tr>\n",
       "      <th>2</th>\n",
       "      <td>624173</td>\n",
       "      <td>71</td>\n",
       "    </tr>\n",
       "    <tr>\n",
       "      <th>3</th>\n",
       "      <td>652048</td>\n",
       "      <td>71</td>\n",
       "    </tr>\n",
       "    <tr>\n",
       "      <th>4</th>\n",
       "      <td>652051</td>\n",
       "      <td>71</td>\n",
       "    </tr>\n",
       "    <tr>\n",
       "      <th>...</th>\n",
       "      <td>...</td>\n",
       "      <td>...</td>\n",
       "    </tr>\n",
       "    <tr>\n",
       "      <th>162</th>\n",
       "      <td>686978</td>\n",
       "      <td>50</td>\n",
       "    </tr>\n",
       "    <tr>\n",
       "      <th>163</th>\n",
       "      <td>624464</td>\n",
       "      <td>50</td>\n",
       "    </tr>\n",
       "    <tr>\n",
       "      <th>164</th>\n",
       "      <td>651644</td>\n",
       "      <td>50</td>\n",
       "    </tr>\n",
       "    <tr>\n",
       "      <th>165</th>\n",
       "      <td>651725</td>\n",
       "      <td>50</td>\n",
       "    </tr>\n",
       "    <tr>\n",
       "      <th>166</th>\n",
       "      <td>624483</td>\n",
       "      <td>50</td>\n",
       "    </tr>\n",
       "  </tbody>\n",
       "</table>\n",
       "<p>167 rows × 2 columns</p>\n",
       "</div>"
      ],
      "text/plain": [
       "        aid  cid\n",
       "0    602332   76\n",
       "1    624170   72\n",
       "2    624173   71\n",
       "3    652048   71\n",
       "4    652051   71\n",
       "..      ...  ...\n",
       "162  686978   50\n",
       "163  624464   50\n",
       "164  651644   50\n",
       "165  651725   50\n",
       "166  624483   50\n",
       "\n",
       "[167 rows x 2 columns]"
      ]
     },
     "execution_count": 27,
     "metadata": {},
     "output_type": "execute_result"
    }
   ],
   "source": [
    "'''in order to find shared bioassays a series of grouping was performed'''\n",
    "groupdf= combined_data_filtered.groupby('aid').count()[['cid']].sort_values('cid', ascending = False).reset_index()\n",
    "groupdf[['cid']] = groupdf[['cid']].astype(int)\n",
    "groupdf.loc[groupdf['cid'] >= 50]"
   ]
  },
  {
   "cell_type": "code",
   "execution_count": 28,
   "id": "a971e65c",
   "metadata": {
    "scrolled": true
   },
   "outputs": [],
   "source": [
    "'''setting count 50 as threshold of number of compounds were they might have shared bioassays'''\n",
    "sbio=list(groupdf.loc[groupdf['cid'] >= 50, 'aid'])"
   ]
  },
  {
   "cell_type": "code",
   "execution_count": 270,
   "id": "1a3a25d8",
   "metadata": {},
   "outputs": [
    {
     "data": {
      "text/html": [
       "<div>\n",
       "<style scoped>\n",
       "    .dataframe tbody tr th:only-of-type {\n",
       "        vertical-align: middle;\n",
       "    }\n",
       "\n",
       "    .dataframe tbody tr th {\n",
       "        vertical-align: top;\n",
       "    }\n",
       "\n",
       "    .dataframe thead th {\n",
       "        text-align: right;\n",
       "    }\n",
       "</style>\n",
       "<table border=\"1\" class=\"dataframe\">\n",
       "  <thead>\n",
       "    <tr style=\"text-align: right;\">\n",
       "      <th></th>\n",
       "      <th>cid</th>\n",
       "      <th>aid</th>\n",
       "    </tr>\n",
       "  </thead>\n",
       "  <tbody>\n",
       "    <tr>\n",
       "      <th>0</th>\n",
       "      <td>625577</td>\n",
       "      <td>167</td>\n",
       "    </tr>\n",
       "    <tr>\n",
       "      <th>1</th>\n",
       "      <td>76175</td>\n",
       "      <td>167</td>\n",
       "    </tr>\n",
       "    <tr>\n",
       "      <th>2</th>\n",
       "      <td>632515</td>\n",
       "      <td>167</td>\n",
       "    </tr>\n",
       "    <tr>\n",
       "      <th>3</th>\n",
       "      <td>1032830</td>\n",
       "      <td>166</td>\n",
       "    </tr>\n",
       "    <tr>\n",
       "      <th>4</th>\n",
       "      <td>613848</td>\n",
       "      <td>166</td>\n",
       "    </tr>\n",
       "    <tr>\n",
       "      <th>5</th>\n",
       "      <td>627336</td>\n",
       "      <td>166</td>\n",
       "    </tr>\n",
       "    <tr>\n",
       "      <th>6</th>\n",
       "      <td>629081</td>\n",
       "      <td>165</td>\n",
       "    </tr>\n",
       "    <tr>\n",
       "      <th>7</th>\n",
       "      <td>3763028</td>\n",
       "      <td>165</td>\n",
       "    </tr>\n",
       "    <tr>\n",
       "      <th>8</th>\n",
       "      <td>629437</td>\n",
       "      <td>165</td>\n",
       "    </tr>\n",
       "    <tr>\n",
       "      <th>9</th>\n",
       "      <td>631729</td>\n",
       "      <td>165</td>\n",
       "    </tr>\n",
       "    <tr>\n",
       "      <th>10</th>\n",
       "      <td>661451</td>\n",
       "      <td>165</td>\n",
       "    </tr>\n",
       "    <tr>\n",
       "      <th>11</th>\n",
       "      <td>3769982</td>\n",
       "      <td>164</td>\n",
       "    </tr>\n",
       "    <tr>\n",
       "      <th>12</th>\n",
       "      <td>121919</td>\n",
       "      <td>164</td>\n",
       "    </tr>\n",
       "    <tr>\n",
       "      <th>13</th>\n",
       "      <td>2898168</td>\n",
       "      <td>164</td>\n",
       "    </tr>\n",
       "    <tr>\n",
       "      <th>14</th>\n",
       "      <td>633837</td>\n",
       "      <td>163</td>\n",
       "    </tr>\n",
       "    <tr>\n",
       "      <th>15</th>\n",
       "      <td>666909</td>\n",
       "      <td>163</td>\n",
       "    </tr>\n",
       "    <tr>\n",
       "      <th>16</th>\n",
       "      <td>617083</td>\n",
       "      <td>163</td>\n",
       "    </tr>\n",
       "    <tr>\n",
       "      <th>17</th>\n",
       "      <td>827324</td>\n",
       "      <td>163</td>\n",
       "    </tr>\n",
       "    <tr>\n",
       "      <th>18</th>\n",
       "      <td>1032832</td>\n",
       "      <td>163</td>\n",
       "    </tr>\n",
       "    <tr>\n",
       "      <th>19</th>\n",
       "      <td>826660</td>\n",
       "      <td>162</td>\n",
       "    </tr>\n",
       "    <tr>\n",
       "      <th>20</th>\n",
       "      <td>614001</td>\n",
       "      <td>162</td>\n",
       "    </tr>\n",
       "    <tr>\n",
       "      <th>21</th>\n",
       "      <td>664323</td>\n",
       "      <td>162</td>\n",
       "    </tr>\n",
       "    <tr>\n",
       "      <th>22</th>\n",
       "      <td>599866</td>\n",
       "      <td>162</td>\n",
       "    </tr>\n",
       "    <tr>\n",
       "      <th>23</th>\n",
       "      <td>1774973</td>\n",
       "      <td>162</td>\n",
       "    </tr>\n",
       "    <tr>\n",
       "      <th>24</th>\n",
       "      <td>76167</td>\n",
       "      <td>162</td>\n",
       "    </tr>\n",
       "    <tr>\n",
       "      <th>25</th>\n",
       "      <td>3240918</td>\n",
       "      <td>162</td>\n",
       "    </tr>\n",
       "    <tr>\n",
       "      <th>26</th>\n",
       "      <td>3676999</td>\n",
       "      <td>161</td>\n",
       "    </tr>\n",
       "    <tr>\n",
       "      <th>27</th>\n",
       "      <td>826703</td>\n",
       "      <td>161</td>\n",
       "    </tr>\n",
       "    <tr>\n",
       "      <th>28</th>\n",
       "      <td>1779738</td>\n",
       "      <td>161</td>\n",
       "    </tr>\n",
       "    <tr>\n",
       "      <th>29</th>\n",
       "      <td>1032811</td>\n",
       "      <td>161</td>\n",
       "    </tr>\n",
       "    <tr>\n",
       "      <th>30</th>\n",
       "      <td>64983</td>\n",
       "      <td>160</td>\n",
       "    </tr>\n",
       "    <tr>\n",
       "      <th>31</th>\n",
       "      <td>292106</td>\n",
       "      <td>160</td>\n",
       "    </tr>\n",
       "    <tr>\n",
       "      <th>32</th>\n",
       "      <td>4067095</td>\n",
       "      <td>160</td>\n",
       "    </tr>\n",
       "    <tr>\n",
       "      <th>33</th>\n",
       "      <td>9549643</td>\n",
       "      <td>160</td>\n",
       "    </tr>\n",
       "    <tr>\n",
       "      <th>34</th>\n",
       "      <td>842655</td>\n",
       "      <td>160</td>\n",
       "    </tr>\n",
       "    <tr>\n",
       "      <th>35</th>\n",
       "      <td>11381524</td>\n",
       "      <td>159</td>\n",
       "    </tr>\n",
       "    <tr>\n",
       "      <th>36</th>\n",
       "      <td>3238911</td>\n",
       "      <td>159</td>\n",
       "    </tr>\n",
       "    <tr>\n",
       "      <th>37</th>\n",
       "      <td>1688</td>\n",
       "      <td>159</td>\n",
       "    </tr>\n",
       "    <tr>\n",
       "      <th>38</th>\n",
       "      <td>4540</td>\n",
       "      <td>159</td>\n",
       "    </tr>\n",
       "    <tr>\n",
       "      <th>39</th>\n",
       "      <td>563547</td>\n",
       "      <td>158</td>\n",
       "    </tr>\n",
       "    <tr>\n",
       "      <th>40</th>\n",
       "      <td>826706</td>\n",
       "      <td>158</td>\n",
       "    </tr>\n",
       "    <tr>\n",
       "      <th>41</th>\n",
       "      <td>1049247</td>\n",
       "      <td>157</td>\n",
       "    </tr>\n",
       "    <tr>\n",
       "      <th>42</th>\n",
       "      <td>4227629</td>\n",
       "      <td>154</td>\n",
       "    </tr>\n",
       "    <tr>\n",
       "      <th>43</th>\n",
       "      <td>1108855</td>\n",
       "      <td>152</td>\n",
       "    </tr>\n",
       "    <tr>\n",
       "      <th>44</th>\n",
       "      <td>2997</td>\n",
       "      <td>150</td>\n",
       "    </tr>\n",
       "    <tr>\n",
       "      <th>45</th>\n",
       "      <td>72793</td>\n",
       "      <td>148</td>\n",
       "    </tr>\n",
       "    <tr>\n",
       "      <th>46</th>\n",
       "      <td>40113</td>\n",
       "      <td>148</td>\n",
       "    </tr>\n",
       "    <tr>\n",
       "      <th>47</th>\n",
       "      <td>171613</td>\n",
       "      <td>147</td>\n",
       "    </tr>\n",
       "    <tr>\n",
       "      <th>48</th>\n",
       "      <td>13503304</td>\n",
       "      <td>146</td>\n",
       "    </tr>\n",
       "  </tbody>\n",
       "</table>\n",
       "</div>"
      ],
      "text/plain": [
       "         cid  aid\n",
       "0     625577  167\n",
       "1      76175  167\n",
       "2     632515  167\n",
       "3    1032830  166\n",
       "4     613848  166\n",
       "5     627336  166\n",
       "6     629081  165\n",
       "7    3763028  165\n",
       "8     629437  165\n",
       "9     631729  165\n",
       "10    661451  165\n",
       "11   3769982  164\n",
       "12    121919  164\n",
       "13   2898168  164\n",
       "14    633837  163\n",
       "15    666909  163\n",
       "16    617083  163\n",
       "17    827324  163\n",
       "18   1032832  163\n",
       "19    826660  162\n",
       "20    614001  162\n",
       "21    664323  162\n",
       "22    599866  162\n",
       "23   1774973  162\n",
       "24     76167  162\n",
       "25   3240918  162\n",
       "26   3676999  161\n",
       "27    826703  161\n",
       "28   1779738  161\n",
       "29   1032811  161\n",
       "30     64983  160\n",
       "31    292106  160\n",
       "32   4067095  160\n",
       "33   9549643  160\n",
       "34    842655  160\n",
       "35  11381524  159\n",
       "36   3238911  159\n",
       "37      1688  159\n",
       "38      4540  159\n",
       "39    563547  158\n",
       "40    826706  158\n",
       "41   1049247  157\n",
       "42   4227629  154\n",
       "43   1108855  152\n",
       "44      2997  150\n",
       "45     72793  148\n",
       "46     40113  148\n",
       "47    171613  147\n",
       "48  13503304  146"
      ]
     },
     "execution_count": 270,
     "metadata": {},
     "output_type": "execute_result"
    }
   ],
   "source": [
    "'''finding data where sbios are shared and setting a cutoff of 146 aids ie 49 compounds '''\n",
    "\n",
    "combined_data_filtered2= combined_data_filtered[combined_data_filtered['aid'].isin(sbio)]\n",
    "groupdf2 = combined_data_filtered2.groupby('cid').count()[['aid']].sort_values('aid', ascending = False).reset_index().head(49)\n",
    "groupdf2"
   ]
  },
  {
   "cell_type": "code",
   "execution_count": 271,
   "id": "27520fb4",
   "metadata": {},
   "outputs": [
    {
     "data": {
      "text/plain": [
       "49"
      ]
     },
     "execution_count": 271,
     "metadata": {},
     "output_type": "execute_result"
    }
   ],
   "source": [
    "'''list of 49 compounds'''\n",
    "clst = []\n",
    "for i in groupdf2['cid']:\n",
    "    clst.append(i)\n",
    "len(clst)"
   ]
  },
  {
   "cell_type": "code",
   "execution_count": 272,
   "id": "81a4455d",
   "metadata": {
    "scrolled": true
   },
   "outputs": [
    {
     "data": {
      "text/plain": [
       "[1671463,\n",
       " 1347131,\n",
       " 1347071,\n",
       " 1347056,\n",
       " 1347041,\n",
       " 1346378,\n",
       " 1259415,\n",
       " 1259400,\n",
       " 1259318,\n",
       " 1224865,\n",
       " 1159606,\n",
       " 1159524,\n",
       " 1053197,\n",
       " 743269,\n",
       " 743266,\n",
       " 743255,\n",
       " 743126,\n",
       " 720711,\n",
       " 720709,\n",
       " 720707,\n",
       " 720704,\n",
       " 720702,\n",
       " 720700,\n",
       " 720648,\n",
       " 720596,\n",
       " 720582,\n",
       " 720543,\n",
       " 720509,\n",
       " 720508,\n",
       " 720504,\n",
       " 687016,\n",
       " 687014,\n",
       " 686978,\n",
       " 686964,\n",
       " 686940,\n",
       " 652257,\n",
       " 652126,\n",
       " 652067,\n",
       " 652051,\n",
       " 652048,\n",
       " 652039,\n",
       " 652025,\n",
       " 652017,\n",
       " 652010,\n",
       " 651999,\n",
       " 651958,\n",
       " 651957,\n",
       " 651821,\n",
       " 651819,\n",
       " 651800,\n",
       " 651768,\n",
       " 651725,\n",
       " 651719,\n",
       " 651718,\n",
       " 651702,\n",
       " 651699,\n",
       " 651644,\n",
       " 651636,\n",
       " 651635,\n",
       " 651602,\n",
       " 651572,\n",
       " 651560,\n",
       " 624483,\n",
       " 624467,\n",
       " 624466,\n",
       " 624465,\n",
       " 624464,\n",
       " 624463,\n",
       " 624416,\n",
       " 624414,\n",
       " 624377,\n",
       " 624354,\n",
       " 624352,\n",
       " 624304,\n",
       " 624297,\n",
       " 624296,\n",
       " 624268,\n",
       " 624267,\n",
       " 624263,\n",
       " 624246,\n",
       " 624204,\n",
       " 624202,\n",
       " 624173,\n",
       " 624172,\n",
       " 624171,\n",
       " 624170,\n",
       " 624169,\n",
       " 624168,\n",
       " 624127,\n",
       " 624126,\n",
       " 624125,\n",
       " 624040,\n",
       " 624038,\n",
       " 624037,\n",
       " 602449,\n",
       " 602440,\n",
       " 602438,\n",
       " 602429,\n",
       " 602399,\n",
       " 602396,\n",
       " 602332,\n",
       " 602313,\n",
       " 602310,\n",
       " 602281,\n",
       " 602274,\n",
       " 602261,\n",
       " 602250,\n",
       " 602248,\n",
       " 602247,\n",
       " 602244,\n",
       " 602233,\n",
       " 602229,\n",
       " 602179,\n",
       " 602163,\n",
       " 602162,\n",
       " 602141,\n",
       " 602123,\n",
       " 588856,\n",
       " 588852,\n",
       " 588850,\n",
       " 588819,\n",
       " 588814,\n",
       " 588795,\n",
       " 588726,\n",
       " 588692,\n",
       " 588674,\n",
       " 588664,\n",
       " 588621,\n",
       " 588591,\n",
       " 588590,\n",
       " 588579,\n",
       " 588549,\n",
       " 588493,\n",
       " 588492,\n",
       " 588489,\n",
       " 588458,\n",
       " 588456,\n",
       " 588453,\n",
       " 588405,\n",
       " 588354,\n",
       " 588352,\n",
       " 540317,\n",
       " 504847,\n",
       " 504845,\n",
       " 504648,\n",
       " 504339]"
      ]
     },
     "execution_count": 272,
     "metadata": {},
     "output_type": "execute_result"
    }
   ],
   "source": [
    "'''list of shared bioassays'''\n",
    "shared_bio = list(combined_data_filtered2.loc[combined_data_filtered['cid']==13503304].sort_values('aid', ascending = False)\\\n",
    "['aid'])\n",
    "shared_bio"
   ]
  },
  {
   "cell_type": "code",
   "execution_count": 273,
   "id": "45748a8e",
   "metadata": {
    "scrolled": true
   },
   "outputs": [
    {
     "name": "stderr",
     "output_type": "stream",
     "text": [
      "/var/folders/9_/_f4wj22x2_q4fygvls6fc8_m0000gn/T/ipykernel_9844/2414074250.py:2: UserWarning:\n",
      "\n",
      "Boolean Series key will be reindexed to match DataFrame index.\n",
      "\n"
     ]
    }
   ],
   "source": [
    "'''select rows were compounds and and bioassays are present'''\n",
    "combined_data_filtered_final = combined_data_filtered2[combined_data_filtered['cid'].isin(clst)]\\\n",
    "[combined_data_filtered['aid'].isin(shared_bio)]"
   ]
  },
  {
   "cell_type": "code",
   "execution_count": 274,
   "id": "288d9cd2",
   "metadata": {
    "scrolled": true
   },
   "outputs": [
    {
     "data": {
      "text/html": [
       "<div>\n",
       "<style scoped>\n",
       "    .dataframe tbody tr th:only-of-type {\n",
       "        vertical-align: middle;\n",
       "    }\n",
       "\n",
       "    .dataframe tbody tr th {\n",
       "        vertical-align: top;\n",
       "    }\n",
       "\n",
       "    .dataframe thead th {\n",
       "        text-align: right;\n",
       "    }\n",
       "</style>\n",
       "<table border=\"1\" class=\"dataframe\">\n",
       "  <thead>\n",
       "    <tr style=\"text-align: right;\">\n",
       "      <th></th>\n",
       "      <th>aid</th>\n",
       "    </tr>\n",
       "    <tr>\n",
       "      <th>cid</th>\n",
       "      <th></th>\n",
       "    </tr>\n",
       "  </thead>\n",
       "  <tbody>\n",
       "    <tr>\n",
       "      <th>4067095</th>\n",
       "      <td>139</td>\n",
       "    </tr>\n",
       "    <tr>\n",
       "      <th>4227629</th>\n",
       "      <td>140</td>\n",
       "    </tr>\n",
       "    <tr>\n",
       "      <th>563547</th>\n",
       "      <td>141</td>\n",
       "    </tr>\n",
       "    <tr>\n",
       "      <th>3240918</th>\n",
       "      <td>141</td>\n",
       "    </tr>\n",
       "    <tr>\n",
       "      <th>1049247</th>\n",
       "      <td>142</td>\n",
       "    </tr>\n",
       "    <tr>\n",
       "      <th>633837</th>\n",
       "      <td>142</td>\n",
       "    </tr>\n",
       "    <tr>\n",
       "      <th>2898168</th>\n",
       "      <td>143</td>\n",
       "    </tr>\n",
       "    <tr>\n",
       "      <th>1688</th>\n",
       "      <td>143</td>\n",
       "    </tr>\n",
       "    <tr>\n",
       "      <th>842655</th>\n",
       "      <td>143</td>\n",
       "    </tr>\n",
       "    <tr>\n",
       "      <th>4540</th>\n",
       "      <td>143</td>\n",
       "    </tr>\n",
       "    <tr>\n",
       "      <th>826706</th>\n",
       "      <td>143</td>\n",
       "    </tr>\n",
       "    <tr>\n",
       "      <th>121919</th>\n",
       "      <td>144</td>\n",
       "    </tr>\n",
       "    <tr>\n",
       "      <th>171613</th>\n",
       "      <td>144</td>\n",
       "    </tr>\n",
       "    <tr>\n",
       "      <th>64983</th>\n",
       "      <td>144</td>\n",
       "    </tr>\n",
       "    <tr>\n",
       "      <th>1032811</th>\n",
       "      <td>144</td>\n",
       "    </tr>\n",
       "    <tr>\n",
       "      <th>3769982</th>\n",
       "      <td>144</td>\n",
       "    </tr>\n",
       "    <tr>\n",
       "      <th>3763028</th>\n",
       "      <td>144</td>\n",
       "    </tr>\n",
       "    <tr>\n",
       "      <th>3676999</th>\n",
       "      <td>144</td>\n",
       "    </tr>\n",
       "    <tr>\n",
       "      <th>629437</th>\n",
       "      <td>144</td>\n",
       "    </tr>\n",
       "    <tr>\n",
       "      <th>3238911</th>\n",
       "      <td>144</td>\n",
       "    </tr>\n",
       "    <tr>\n",
       "      <th>11381524</th>\n",
       "      <td>144</td>\n",
       "    </tr>\n",
       "    <tr>\n",
       "      <th>826703</th>\n",
       "      <td>145</td>\n",
       "    </tr>\n",
       "    <tr>\n",
       "      <th>1779738</th>\n",
       "      <td>145</td>\n",
       "    </tr>\n",
       "    <tr>\n",
       "      <th>1032830</th>\n",
       "      <td>145</td>\n",
       "    </tr>\n",
       "    <tr>\n",
       "      <th>627336</th>\n",
       "      <td>145</td>\n",
       "    </tr>\n",
       "    <tr>\n",
       "      <th>631729</th>\n",
       "      <td>145</td>\n",
       "    </tr>\n",
       "    <tr>\n",
       "      <th>614001</th>\n",
       "      <td>145</td>\n",
       "    </tr>\n",
       "    <tr>\n",
       "      <th>292106</th>\n",
       "      <td>145</td>\n",
       "    </tr>\n",
       "    <tr>\n",
       "      <th>9549643</th>\n",
       "      <td>145</td>\n",
       "    </tr>\n",
       "    <tr>\n",
       "      <th>76167</th>\n",
       "      <td>145</td>\n",
       "    </tr>\n",
       "    <tr>\n",
       "      <th>72793</th>\n",
       "      <td>145</td>\n",
       "    </tr>\n",
       "    <tr>\n",
       "      <th>40113</th>\n",
       "      <td>145</td>\n",
       "    </tr>\n",
       "    <tr>\n",
       "      <th>2997</th>\n",
       "      <td>145</td>\n",
       "    </tr>\n",
       "    <tr>\n",
       "      <th>661451</th>\n",
       "      <td>145</td>\n",
       "    </tr>\n",
       "    <tr>\n",
       "      <th>1108855</th>\n",
       "      <td>145</td>\n",
       "    </tr>\n",
       "    <tr>\n",
       "      <th>1774973</th>\n",
       "      <td>146</td>\n",
       "    </tr>\n",
       "    <tr>\n",
       "      <th>664323</th>\n",
       "      <td>146</td>\n",
       "    </tr>\n",
       "    <tr>\n",
       "      <th>827324</th>\n",
       "      <td>146</td>\n",
       "    </tr>\n",
       "    <tr>\n",
       "      <th>826660</th>\n",
       "      <td>146</td>\n",
       "    </tr>\n",
       "    <tr>\n",
       "      <th>666909</th>\n",
       "      <td>146</td>\n",
       "    </tr>\n",
       "    <tr>\n",
       "      <th>632515</th>\n",
       "      <td>146</td>\n",
       "    </tr>\n",
       "    <tr>\n",
       "      <th>629081</th>\n",
       "      <td>146</td>\n",
       "    </tr>\n",
       "    <tr>\n",
       "      <th>625577</th>\n",
       "      <td>146</td>\n",
       "    </tr>\n",
       "    <tr>\n",
       "      <th>617083</th>\n",
       "      <td>146</td>\n",
       "    </tr>\n",
       "    <tr>\n",
       "      <th>613848</th>\n",
       "      <td>146</td>\n",
       "    </tr>\n",
       "    <tr>\n",
       "      <th>599866</th>\n",
       "      <td>146</td>\n",
       "    </tr>\n",
       "    <tr>\n",
       "      <th>76175</th>\n",
       "      <td>146</td>\n",
       "    </tr>\n",
       "    <tr>\n",
       "      <th>1032832</th>\n",
       "      <td>146</td>\n",
       "    </tr>\n",
       "    <tr>\n",
       "      <th>13503304</th>\n",
       "      <td>146</td>\n",
       "    </tr>\n",
       "  </tbody>\n",
       "</table>\n",
       "</div>"
      ],
      "text/plain": [
       "          aid\n",
       "cid          \n",
       "4067095   139\n",
       "4227629   140\n",
       "563547    141\n",
       "3240918   141\n",
       "1049247   142\n",
       "633837    142\n",
       "2898168   143\n",
       "1688      143\n",
       "842655    143\n",
       "4540      143\n",
       "826706    143\n",
       "121919    144\n",
       "171613    144\n",
       "64983     144\n",
       "1032811   144\n",
       "3769982   144\n",
       "3763028   144\n",
       "3676999   144\n",
       "629437    144\n",
       "3238911   144\n",
       "11381524  144\n",
       "826703    145\n",
       "1779738   145\n",
       "1032830   145\n",
       "627336    145\n",
       "631729    145\n",
       "614001    145\n",
       "292106    145\n",
       "9549643   145\n",
       "76167     145\n",
       "72793     145\n",
       "40113     145\n",
       "2997      145\n",
       "661451    145\n",
       "1108855   145\n",
       "1774973   146\n",
       "664323    146\n",
       "827324    146\n",
       "826660    146\n",
       "666909    146\n",
       "632515    146\n",
       "629081    146\n",
       "625577    146\n",
       "617083    146\n",
       "613848    146\n",
       "599866    146\n",
       "76175     146\n",
       "1032832   146\n",
       "13503304  146"
      ]
     },
     "execution_count": 274,
     "metadata": {},
     "output_type": "execute_result"
    }
   ],
   "source": [
    "'''check if all bioassays are shared'''\n",
    "combined_data_filtered_final.groupby('cid').count()[['aid']].sort_values('aid')"
   ]
  },
  {
   "cell_type": "code",
   "execution_count": 275,
   "id": "d56b3f21",
   "metadata": {},
   "outputs": [
    {
     "data": {
      "text/plain": [
       "114"
      ]
     },
     "execution_count": 275,
     "metadata": {},
     "output_type": "execute_result"
    }
   ],
   "source": [
    "'''after trial and error, it was found that 114 bioassays are shared between all 49 compounds'''\n",
    "lst_wanted = []\n",
    "for i in combined_data_filtered_final.groupby('aid').count()[['cid']].reset_index().\\\n",
    "sort_values('cid', ascending = False).head(114)['aid']:\n",
    "    lst_wanted.append(i)\n",
    "len(lst_wanted)"
   ]
  },
  {
   "cell_type": "code",
   "execution_count": 276,
   "id": "a03de967",
   "metadata": {
    "scrolled": true
   },
   "outputs": [
    {
     "data": {
      "text/html": [
       "<div>\n",
       "<style scoped>\n",
       "    .dataframe tbody tr th:only-of-type {\n",
       "        vertical-align: middle;\n",
       "    }\n",
       "\n",
       "    .dataframe tbody tr th {\n",
       "        vertical-align: top;\n",
       "    }\n",
       "\n",
       "    .dataframe thead th {\n",
       "        text-align: right;\n",
       "    }\n",
       "</style>\n",
       "<table border=\"1\" class=\"dataframe\">\n",
       "  <thead>\n",
       "    <tr style=\"text-align: right;\">\n",
       "      <th></th>\n",
       "      <th>aid</th>\n",
       "    </tr>\n",
       "    <tr>\n",
       "      <th>cid</th>\n",
       "      <th></th>\n",
       "    </tr>\n",
       "  </thead>\n",
       "  <tbody>\n",
       "    <tr>\n",
       "      <th>1688</th>\n",
       "      <td>114</td>\n",
       "    </tr>\n",
       "    <tr>\n",
       "      <th>666909</th>\n",
       "      <td>114</td>\n",
       "    </tr>\n",
       "    <tr>\n",
       "      <th>826703</th>\n",
       "      <td>114</td>\n",
       "    </tr>\n",
       "    <tr>\n",
       "      <th>826706</th>\n",
       "      <td>114</td>\n",
       "    </tr>\n",
       "    <tr>\n",
       "      <th>827324</th>\n",
       "      <td>114</td>\n",
       "    </tr>\n",
       "    <tr>\n",
       "      <th>842655</th>\n",
       "      <td>114</td>\n",
       "    </tr>\n",
       "    <tr>\n",
       "      <th>1032811</th>\n",
       "      <td>114</td>\n",
       "    </tr>\n",
       "    <tr>\n",
       "      <th>1032830</th>\n",
       "      <td>114</td>\n",
       "    </tr>\n",
       "    <tr>\n",
       "      <th>1032832</th>\n",
       "      <td>114</td>\n",
       "    </tr>\n",
       "    <tr>\n",
       "      <th>1049247</th>\n",
       "      <td>114</td>\n",
       "    </tr>\n",
       "    <tr>\n",
       "      <th>1108855</th>\n",
       "      <td>114</td>\n",
       "    </tr>\n",
       "    <tr>\n",
       "      <th>1774973</th>\n",
       "      <td>114</td>\n",
       "    </tr>\n",
       "    <tr>\n",
       "      <th>1779738</th>\n",
       "      <td>114</td>\n",
       "    </tr>\n",
       "    <tr>\n",
       "      <th>2898168</th>\n",
       "      <td>114</td>\n",
       "    </tr>\n",
       "    <tr>\n",
       "      <th>3238911</th>\n",
       "      <td>114</td>\n",
       "    </tr>\n",
       "    <tr>\n",
       "      <th>3240918</th>\n",
       "      <td>114</td>\n",
       "    </tr>\n",
       "    <tr>\n",
       "      <th>3676999</th>\n",
       "      <td>114</td>\n",
       "    </tr>\n",
       "    <tr>\n",
       "      <th>3763028</th>\n",
       "      <td>114</td>\n",
       "    </tr>\n",
       "    <tr>\n",
       "      <th>3769982</th>\n",
       "      <td>114</td>\n",
       "    </tr>\n",
       "    <tr>\n",
       "      <th>4067095</th>\n",
       "      <td>114</td>\n",
       "    </tr>\n",
       "    <tr>\n",
       "      <th>4227629</th>\n",
       "      <td>114</td>\n",
       "    </tr>\n",
       "    <tr>\n",
       "      <th>9549643</th>\n",
       "      <td>114</td>\n",
       "    </tr>\n",
       "    <tr>\n",
       "      <th>11381524</th>\n",
       "      <td>114</td>\n",
       "    </tr>\n",
       "    <tr>\n",
       "      <th>826660</th>\n",
       "      <td>114</td>\n",
       "    </tr>\n",
       "    <tr>\n",
       "      <th>664323</th>\n",
       "      <td>114</td>\n",
       "    </tr>\n",
       "    <tr>\n",
       "      <th>2997</th>\n",
       "      <td>114</td>\n",
       "    </tr>\n",
       "    <tr>\n",
       "      <th>661451</th>\n",
       "      <td>114</td>\n",
       "    </tr>\n",
       "    <tr>\n",
       "      <th>4540</th>\n",
       "      <td>114</td>\n",
       "    </tr>\n",
       "    <tr>\n",
       "      <th>40113</th>\n",
       "      <td>114</td>\n",
       "    </tr>\n",
       "    <tr>\n",
       "      <th>64983</th>\n",
       "      <td>114</td>\n",
       "    </tr>\n",
       "    <tr>\n",
       "      <th>72793</th>\n",
       "      <td>114</td>\n",
       "    </tr>\n",
       "    <tr>\n",
       "      <th>76167</th>\n",
       "      <td>114</td>\n",
       "    </tr>\n",
       "    <tr>\n",
       "      <th>76175</th>\n",
       "      <td>114</td>\n",
       "    </tr>\n",
       "    <tr>\n",
       "      <th>121919</th>\n",
       "      <td>114</td>\n",
       "    </tr>\n",
       "    <tr>\n",
       "      <th>171613</th>\n",
       "      <td>114</td>\n",
       "    </tr>\n",
       "    <tr>\n",
       "      <th>292106</th>\n",
       "      <td>114</td>\n",
       "    </tr>\n",
       "    <tr>\n",
       "      <th>563547</th>\n",
       "      <td>114</td>\n",
       "    </tr>\n",
       "    <tr>\n",
       "      <th>599866</th>\n",
       "      <td>114</td>\n",
       "    </tr>\n",
       "    <tr>\n",
       "      <th>613848</th>\n",
       "      <td>114</td>\n",
       "    </tr>\n",
       "    <tr>\n",
       "      <th>614001</th>\n",
       "      <td>114</td>\n",
       "    </tr>\n",
       "    <tr>\n",
       "      <th>617083</th>\n",
       "      <td>114</td>\n",
       "    </tr>\n",
       "    <tr>\n",
       "      <th>625577</th>\n",
       "      <td>114</td>\n",
       "    </tr>\n",
       "    <tr>\n",
       "      <th>627336</th>\n",
       "      <td>114</td>\n",
       "    </tr>\n",
       "    <tr>\n",
       "      <th>629081</th>\n",
       "      <td>114</td>\n",
       "    </tr>\n",
       "    <tr>\n",
       "      <th>629437</th>\n",
       "      <td>114</td>\n",
       "    </tr>\n",
       "    <tr>\n",
       "      <th>631729</th>\n",
       "      <td>114</td>\n",
       "    </tr>\n",
       "    <tr>\n",
       "      <th>632515</th>\n",
       "      <td>114</td>\n",
       "    </tr>\n",
       "    <tr>\n",
       "      <th>633837</th>\n",
       "      <td>114</td>\n",
       "    </tr>\n",
       "    <tr>\n",
       "      <th>13503304</th>\n",
       "      <td>114</td>\n",
       "    </tr>\n",
       "  </tbody>\n",
       "</table>\n",
       "</div>"
      ],
      "text/plain": [
       "          aid\n",
       "cid          \n",
       "1688      114\n",
       "666909    114\n",
       "826703    114\n",
       "826706    114\n",
       "827324    114\n",
       "842655    114\n",
       "1032811   114\n",
       "1032830   114\n",
       "1032832   114\n",
       "1049247   114\n",
       "1108855   114\n",
       "1774973   114\n",
       "1779738   114\n",
       "2898168   114\n",
       "3238911   114\n",
       "3240918   114\n",
       "3676999   114\n",
       "3763028   114\n",
       "3769982   114\n",
       "4067095   114\n",
       "4227629   114\n",
       "9549643   114\n",
       "11381524  114\n",
       "826660    114\n",
       "664323    114\n",
       "2997      114\n",
       "661451    114\n",
       "4540      114\n",
       "40113     114\n",
       "64983     114\n",
       "72793     114\n",
       "76167     114\n",
       "76175     114\n",
       "121919    114\n",
       "171613    114\n",
       "292106    114\n",
       "563547    114\n",
       "599866    114\n",
       "613848    114\n",
       "614001    114\n",
       "617083    114\n",
       "625577    114\n",
       "627336    114\n",
       "629081    114\n",
       "629437    114\n",
       "631729    114\n",
       "632515    114\n",
       "633837    114\n",
       "13503304  114"
      ]
     },
     "execution_count": 276,
     "metadata": {},
     "output_type": "execute_result"
    }
   ],
   "source": [
    "'''after trial and error, it was found that 114 bioassays are shared between all 49 compounds'''\n",
    "combined_data_final = combined_data_filtered_final.loc[combined_data_filtered_final['aid'].isin(lst_wanted)]\n",
    "'''to confirm results'''\n",
    "final_group = combined_data_final.groupby('cid').count()[['aid']].sort_values('aid', ascending = False)\n",
    "final_group\n"
   ]
  },
  {
   "cell_type": "code",
   "execution_count": 277,
   "id": "cae1d6f9",
   "metadata": {
    "scrolled": false
   },
   "outputs": [
    {
     "data": {
      "text/html": [
       "<div>\n",
       "<style scoped>\n",
       "    .dataframe tbody tr th:only-of-type {\n",
       "        vertical-align: middle;\n",
       "    }\n",
       "\n",
       "    .dataframe tbody tr th {\n",
       "        vertical-align: top;\n",
       "    }\n",
       "\n",
       "    .dataframe thead th {\n",
       "        text-align: right;\n",
       "    }\n",
       "</style>\n",
       "<table border=\"1\" class=\"dataframe\">\n",
       "  <thead>\n",
       "    <tr style=\"text-align: right;\">\n",
       "      <th></th>\n",
       "      <th>cid</th>\n",
       "      <th>name</th>\n",
       "      <th>isosmiles</th>\n",
       "      <th>aid</th>\n",
       "      <th>aidname</th>\n",
       "      <th>activity</th>\n",
       "    </tr>\n",
       "  </thead>\n",
       "  <tbody>\n",
       "    <tr>\n",
       "      <th>6698</th>\n",
       "      <td>617083</td>\n",
       "      <td>3-Hydroxy-1-methyl-5-phenyl-1,3-dihydro-2H-1,4...</td>\n",
       "      <td>CN1C2=CC=CC=C2C(=NC(C1=O)O)C3=CC=CC=C3</td>\n",
       "      <td>588852</td>\n",
       "      <td>Fluorescence-based cell-based primary high thr...</td>\n",
       "      <td>Active</td>\n",
       "    </tr>\n",
       "    <tr>\n",
       "      <th>17274</th>\n",
       "      <td>4540</td>\n",
       "      <td>Norfludiazepam</td>\n",
       "      <td>C1C(=O)NC2=C(C=C(C=C2)Cl)C(=N1)C3=CC=CC=C3F</td>\n",
       "      <td>743126</td>\n",
       "      <td>QFRET-based biochemical high throughput primar...</td>\n",
       "      <td>Active</td>\n",
       "    </tr>\n",
       "    <tr>\n",
       "      <th>37372</th>\n",
       "      <td>4227629</td>\n",
       "      <td>2-(7-chloro-2-oxo-5-phenyl-2,3-dihydro-1H-1,4-...</td>\n",
       "      <td>CC1=CC=C(C=C1)NC(=O)CN2C(=O)CN=C(C3=C2C=CC(=C3...</td>\n",
       "      <td>624354</td>\n",
       "      <td>uHTS identification of Caspase-8 TRAIL sensiti...</td>\n",
       "      <td>Active</td>\n",
       "    </tr>\n",
       "    <tr>\n",
       "      <th>37366</th>\n",
       "      <td>4227629</td>\n",
       "      <td>2-(7-chloro-2-oxo-5-phenyl-2,3-dihydro-1H-1,4-...</td>\n",
       "      <td>CC1=CC=C(C=C1)NC(=O)CN2C(=O)CN=C(C3=C2C=CC(=C3...</td>\n",
       "      <td>624268</td>\n",
       "      <td>Luminescence-based biochemical primary high th...</td>\n",
       "      <td>Active</td>\n",
       "    </tr>\n",
       "    <tr>\n",
       "      <th>4395</th>\n",
       "      <td>76175</td>\n",
       "      <td>1,3-Dihydro-5-phenyl-2H-1,4-benzodiazepin-2-one</td>\n",
       "      <td>C1C(=O)NC2=CC=CC=C2C(=N1)C3=CC=CC=C3</td>\n",
       "      <td>651819</td>\n",
       "      <td>High-Throughput Screening for Modulators of Cy...</td>\n",
       "      <td>Active</td>\n",
       "    </tr>\n",
       "    <tr>\n",
       "      <th>1392</th>\n",
       "      <td>3676999</td>\n",
       "      <td>7-bromo-5-(4-chlorophenyl)-3H-1,4-benzodiazepi...</td>\n",
       "      <td>C1=CC(=CC=C1C2=NC(C(=O)NC3=C2C=C(C=C3)Br)O)Cl</td>\n",
       "      <td>602248</td>\n",
       "      <td>Full deck counterscreen for agonists of the hu...</td>\n",
       "      <td>Active</td>\n",
       "    </tr>\n",
       "    <tr>\n",
       "      <th>19937</th>\n",
       "      <td>64983</td>\n",
       "      <td>2H-1,4-Benzodiazepin-2-one, 7-chloro-1,3-dihyd...</td>\n",
       "      <td>C1C(=O)NC2=C(C=C(C=C2)Cl)C(=N1)C3=CC=CN3</td>\n",
       "      <td>651957</td>\n",
       "      <td>Luminescence-based cell-based primary high thr...</td>\n",
       "      <td>Active</td>\n",
       "    </tr>\n",
       "    <tr>\n",
       "      <th>21835</th>\n",
       "      <td>121919</td>\n",
       "      <td>Gidazepam</td>\n",
       "      <td>C1C(=O)N(C2=C(C=C(C=C2)Br)C(=N1)C3=CC=CC=C3)CC...</td>\n",
       "      <td>624268</td>\n",
       "      <td>Luminescence-based biochemical primary high th...</td>\n",
       "      <td>Active</td>\n",
       "    </tr>\n",
       "    <tr>\n",
       "      <th>20498</th>\n",
       "      <td>292106</td>\n",
       "      <td>2-[7-chloro-2-oxo-5-(2-pyridyl)-3H-1,4-benzodi...</td>\n",
       "      <td>C1C(=O)N(C2=C(C=C(C=C2)Cl)C(=N1)C3=CC=CC=N3)CC...</td>\n",
       "      <td>504339</td>\n",
       "      <td>qHTS Assay for Inhibitors of JMJD2A-Tudor Domain</td>\n",
       "      <td>Active</td>\n",
       "    </tr>\n",
       "    <tr>\n",
       "      <th>31296</th>\n",
       "      <td>4067095</td>\n",
       "      <td>2-(7-chloro-2-oxo-5-phenyl-2,3-dihydro-1H-1,4-...</td>\n",
       "      <td>CN(C)C1=CC=C(C=C1)NC(=O)CN2C(=O)CN=C(C3=C2C=CC...</td>\n",
       "      <td>504339</td>\n",
       "      <td>qHTS Assay for Inhibitors of JMJD2A-Tudor Domain</td>\n",
       "      <td>Active</td>\n",
       "    </tr>\n",
       "    <tr>\n",
       "      <th>47040</th>\n",
       "      <td>826706</td>\n",
       "      <td>7-Chloro-5-phenyl-1H-benzo[e][1,4]diazepine-2(...</td>\n",
       "      <td>C1C(=S)NC2=C(C=C(C=C2)Cl)C(=N1)C3=CC=CC=C3</td>\n",
       "      <td>588814</td>\n",
       "      <td>Fluorescence-based cell-based primary high thr...</td>\n",
       "      <td>Active</td>\n",
       "    </tr>\n",
       "    <tr>\n",
       "      <th>53669</th>\n",
       "      <td>827324</td>\n",
       "      <td>8-chloro-6-(2-methoxyphenyl)-1-methyl-4H-[1,2,...</td>\n",
       "      <td>CC1=NN=C2N1C3=C(C=C(C=C3)Cl)C(=NC2)C4=CC=CC=C4OC</td>\n",
       "      <td>602250</td>\n",
       "      <td>Full deck counterscreen for antagonists of the...</td>\n",
       "      <td>Active</td>\n",
       "    </tr>\n",
       "    <tr>\n",
       "      <th>19922</th>\n",
       "      <td>64983</td>\n",
       "      <td>2H-1,4-Benzodiazepin-2-one, 7-chloro-1,3-dihyd...</td>\n",
       "      <td>C1C(=O)NC2=C(C=C(C=C2)Cl)C(=N1)C3=CC=CN3</td>\n",
       "      <td>651699</td>\n",
       "      <td>uHTS identification of inhibitors of cullin ne...</td>\n",
       "      <td>Active</td>\n",
       "    </tr>\n",
       "    <tr>\n",
       "      <th>28850</th>\n",
       "      <td>3238911</td>\n",
       "      <td>4-phenyl-5,6,7,8-tetrahydroquinolin-2(1H)-one</td>\n",
       "      <td>C1CCC2=C(C1)C(=CC(=O)N2)C3=CC=CC=C3</td>\n",
       "      <td>652067</td>\n",
       "      <td>Luminescence-based cell-based primary high thr...</td>\n",
       "      <td>Active</td>\n",
       "    </tr>\n",
       "    <tr>\n",
       "      <th>23978</th>\n",
       "      <td>3240918</td>\n",
       "      <td>4-(4-chloro-N-methylanilino)-1-methylquinolin-...</td>\n",
       "      <td>CN1C2=CC=CC=C2C(=CC1=O)N(C)C3=CC=C(C=C3)Cl</td>\n",
       "      <td>720596</td>\n",
       "      <td>TRFRET-based cell-based primary high throughpu...</td>\n",
       "      <td>Active</td>\n",
       "    </tr>\n",
       "  </tbody>\n",
       "</table>\n",
       "</div>"
      ],
      "text/plain": [
       "           cid                                               name  \\\n",
       "6698    617083  3-Hydroxy-1-methyl-5-phenyl-1,3-dihydro-2H-1,4...   \n",
       "17274     4540                                     Norfludiazepam   \n",
       "37372  4227629  2-(7-chloro-2-oxo-5-phenyl-2,3-dihydro-1H-1,4-...   \n",
       "37366  4227629  2-(7-chloro-2-oxo-5-phenyl-2,3-dihydro-1H-1,4-...   \n",
       "4395     76175    1,3-Dihydro-5-phenyl-2H-1,4-benzodiazepin-2-one   \n",
       "1392   3676999  7-bromo-5-(4-chlorophenyl)-3H-1,4-benzodiazepi...   \n",
       "19937    64983  2H-1,4-Benzodiazepin-2-one, 7-chloro-1,3-dihyd...   \n",
       "21835   121919                                          Gidazepam   \n",
       "20498   292106  2-[7-chloro-2-oxo-5-(2-pyridyl)-3H-1,4-benzodi...   \n",
       "31296  4067095  2-(7-chloro-2-oxo-5-phenyl-2,3-dihydro-1H-1,4-...   \n",
       "47040   826706  7-Chloro-5-phenyl-1H-benzo[e][1,4]diazepine-2(...   \n",
       "53669   827324  8-chloro-6-(2-methoxyphenyl)-1-methyl-4H-[1,2,...   \n",
       "19922    64983  2H-1,4-Benzodiazepin-2-one, 7-chloro-1,3-dihyd...   \n",
       "28850  3238911      4-phenyl-5,6,7,8-tetrahydroquinolin-2(1H)-one   \n",
       "23978  3240918  4-(4-chloro-N-methylanilino)-1-methylquinolin-...   \n",
       "\n",
       "                                               isosmiles     aid  \\\n",
       "6698              CN1C2=CC=CC=C2C(=NC(C1=O)O)C3=CC=CC=C3  588852   \n",
       "17274        C1C(=O)NC2=C(C=C(C=C2)Cl)C(=N1)C3=CC=CC=C3F  743126   \n",
       "37372  CC1=CC=C(C=C1)NC(=O)CN2C(=O)CN=C(C3=C2C=CC(=C3...  624354   \n",
       "37366  CC1=CC=C(C=C1)NC(=O)CN2C(=O)CN=C(C3=C2C=CC(=C3...  624268   \n",
       "4395                C1C(=O)NC2=CC=CC=C2C(=N1)C3=CC=CC=C3  651819   \n",
       "1392       C1=CC(=CC=C1C2=NC(C(=O)NC3=C2C=C(C=C3)Br)O)Cl  602248   \n",
       "19937           C1C(=O)NC2=C(C=C(C=C2)Cl)C(=N1)C3=CC=CN3  651957   \n",
       "21835  C1C(=O)N(C2=C(C=C(C=C2)Br)C(=N1)C3=CC=CC=C3)CC...  624268   \n",
       "20498  C1C(=O)N(C2=C(C=C(C=C2)Cl)C(=N1)C3=CC=CC=N3)CC...  504339   \n",
       "31296  CN(C)C1=CC=C(C=C1)NC(=O)CN2C(=O)CN=C(C3=C2C=CC...  504339   \n",
       "47040         C1C(=S)NC2=C(C=C(C=C2)Cl)C(=N1)C3=CC=CC=C3  588814   \n",
       "53669   CC1=NN=C2N1C3=C(C=C(C=C3)Cl)C(=NC2)C4=CC=CC=C4OC  602250   \n",
       "19922           C1C(=O)NC2=C(C=C(C=C2)Cl)C(=N1)C3=CC=CN3  651699   \n",
       "28850                C1CCC2=C(C1)C(=CC(=O)N2)C3=CC=CC=C3  652067   \n",
       "23978         CN1C2=CC=CC=C2C(=CC1=O)N(C)C3=CC=C(C=C3)Cl  720596   \n",
       "\n",
       "                                                 aidname activity  \n",
       "6698   Fluorescence-based cell-based primary high thr...   Active  \n",
       "17274  QFRET-based biochemical high throughput primar...   Active  \n",
       "37372  uHTS identification of Caspase-8 TRAIL sensiti...   Active  \n",
       "37366  Luminescence-based biochemical primary high th...   Active  \n",
       "4395   High-Throughput Screening for Modulators of Cy...   Active  \n",
       "1392   Full deck counterscreen for agonists of the hu...   Active  \n",
       "19937  Luminescence-based cell-based primary high thr...   Active  \n",
       "21835  Luminescence-based biochemical primary high th...   Active  \n",
       "20498   qHTS Assay for Inhibitors of JMJD2A-Tudor Domain   Active  \n",
       "31296   qHTS Assay for Inhibitors of JMJD2A-Tudor Domain   Active  \n",
       "47040  Fluorescence-based cell-based primary high thr...   Active  \n",
       "53669  Full deck counterscreen for antagonists of the...   Active  \n",
       "19922  uHTS identification of inhibitors of cullin ne...   Active  \n",
       "28850  Luminescence-based cell-based primary high thr...   Active  \n",
       "23978  TRFRET-based cell-based primary high throughpu...   Active  "
      ]
     },
     "execution_count": 277,
     "metadata": {},
     "output_type": "execute_result"
    }
   ],
   "source": [
    "combined_data_final.sort_values('activity').head(15)"
   ]
  },
  {
   "cell_type": "code",
   "execution_count": 279,
   "id": "66343f19",
   "metadata": {
    "scrolled": true
   },
   "outputs": [],
   "source": [
    "overall_activity=combined_data_final.groupby(['cid','activity']).count().reset_index()"
   ]
  },
  {
   "cell_type": "code",
   "execution_count": 177,
   "id": "5d7d7f27",
   "metadata": {
    "scrolled": true
   },
   "outputs": [],
   "source": [
    "t = combined_data_final.groupby(['cid','activity']).count().reset_index().sort_values(by = 'aid', ascending = False)\n",
    "inact = t.loc[t['activity']=='Inactive']\n",
    "act = t.loc[t['activity']=='Active']"
   ]
  },
  {
   "cell_type": "code",
   "execution_count": 193,
   "id": "58bb48c7",
   "metadata": {},
   "outputs": [
    {
     "data": {
      "application/vnd.plotly.v1+json": {
       "config": {
        "plotlyServerURL": "https://plot.ly"
       },
       "data": [
        {
         "marker": {
          "color": "#f29b97"
         },
         "name": "Active",
         "type": "bar",
         "x": [
          64983,
          4227629,
          4067095,
          4540,
          3238911,
          3676999,
          3240918,
          826706,
          617083,
          121919,
          292106,
          827324,
          76175
         ],
         "y": [
          2,
          2,
          1,
          1,
          1,
          1,
          1,
          1,
          1,
          1,
          1,
          1,
          1
         ]
        },
        {
         "marker": {
          "color": "#80d7cc"
         },
         "name": "Inactive",
         "type": "bar",
         "x": [
          1688,
          629081,
          631729,
          632515,
          633837,
          661451,
          664323,
          2997,
          826660,
          826703,
          842655,
          1032811,
          1032830,
          1032832,
          1049247,
          1108855,
          1774973,
          1779738,
          2898168,
          3763028,
          3769982,
          9549643,
          11381524,
          629437,
          666909,
          627336,
          563547,
          40113,
          72793,
          76167,
          625577,
          171613,
          13503304,
          613848,
          599866,
          614001,
          76175,
          617083,
          3240918,
          3238911,
          4067095,
          292106,
          121919,
          4540,
          827324,
          826706,
          3676999,
          4227629,
          64983
         ],
         "y": [
          114,
          114,
          114,
          114,
          114,
          114,
          114,
          114,
          114,
          114,
          114,
          114,
          114,
          114,
          114,
          114,
          114,
          114,
          114,
          114,
          114,
          114,
          114,
          114,
          114,
          114,
          114,
          114,
          114,
          114,
          114,
          114,
          114,
          114,
          114,
          114,
          113,
          113,
          113,
          113,
          113,
          113,
          113,
          113,
          113,
          113,
          113,
          112,
          112
         ]
        }
       ],
       "layout": {
        "barmode": "group",
        "plot_bgcolor": "white",
        "template": {
         "data": {
          "bar": [
           {
            "error_x": {
             "color": "#2a3f5f"
            },
            "error_y": {
             "color": "#2a3f5f"
            },
            "marker": {
             "line": {
              "color": "#E5ECF6",
              "width": 0.5
             },
             "pattern": {
              "fillmode": "overlay",
              "size": 10,
              "solidity": 0.2
             }
            },
            "type": "bar"
           }
          ],
          "barpolar": [
           {
            "marker": {
             "line": {
              "color": "#E5ECF6",
              "width": 0.5
             },
             "pattern": {
              "fillmode": "overlay",
              "size": 10,
              "solidity": 0.2
             }
            },
            "type": "barpolar"
           }
          ],
          "carpet": [
           {
            "aaxis": {
             "endlinecolor": "#2a3f5f",
             "gridcolor": "white",
             "linecolor": "white",
             "minorgridcolor": "white",
             "startlinecolor": "#2a3f5f"
            },
            "baxis": {
             "endlinecolor": "#2a3f5f",
             "gridcolor": "white",
             "linecolor": "white",
             "minorgridcolor": "white",
             "startlinecolor": "#2a3f5f"
            },
            "type": "carpet"
           }
          ],
          "choropleth": [
           {
            "colorbar": {
             "outlinewidth": 0,
             "ticks": ""
            },
            "type": "choropleth"
           }
          ],
          "contour": [
           {
            "colorbar": {
             "outlinewidth": 0,
             "ticks": ""
            },
            "colorscale": [
             [
              0,
              "#0d0887"
             ],
             [
              0.1111111111111111,
              "#46039f"
             ],
             [
              0.2222222222222222,
              "#7201a8"
             ],
             [
              0.3333333333333333,
              "#9c179e"
             ],
             [
              0.4444444444444444,
              "#bd3786"
             ],
             [
              0.5555555555555556,
              "#d8576b"
             ],
             [
              0.6666666666666666,
              "#ed7953"
             ],
             [
              0.7777777777777778,
              "#fb9f3a"
             ],
             [
              0.8888888888888888,
              "#fdca26"
             ],
             [
              1,
              "#f0f921"
             ]
            ],
            "type": "contour"
           }
          ],
          "contourcarpet": [
           {
            "colorbar": {
             "outlinewidth": 0,
             "ticks": ""
            },
            "type": "contourcarpet"
           }
          ],
          "heatmap": [
           {
            "colorbar": {
             "outlinewidth": 0,
             "ticks": ""
            },
            "colorscale": [
             [
              0,
              "#0d0887"
             ],
             [
              0.1111111111111111,
              "#46039f"
             ],
             [
              0.2222222222222222,
              "#7201a8"
             ],
             [
              0.3333333333333333,
              "#9c179e"
             ],
             [
              0.4444444444444444,
              "#bd3786"
             ],
             [
              0.5555555555555556,
              "#d8576b"
             ],
             [
              0.6666666666666666,
              "#ed7953"
             ],
             [
              0.7777777777777778,
              "#fb9f3a"
             ],
             [
              0.8888888888888888,
              "#fdca26"
             ],
             [
              1,
              "#f0f921"
             ]
            ],
            "type": "heatmap"
           }
          ],
          "heatmapgl": [
           {
            "colorbar": {
             "outlinewidth": 0,
             "ticks": ""
            },
            "colorscale": [
             [
              0,
              "#0d0887"
             ],
             [
              0.1111111111111111,
              "#46039f"
             ],
             [
              0.2222222222222222,
              "#7201a8"
             ],
             [
              0.3333333333333333,
              "#9c179e"
             ],
             [
              0.4444444444444444,
              "#bd3786"
             ],
             [
              0.5555555555555556,
              "#d8576b"
             ],
             [
              0.6666666666666666,
              "#ed7953"
             ],
             [
              0.7777777777777778,
              "#fb9f3a"
             ],
             [
              0.8888888888888888,
              "#fdca26"
             ],
             [
              1,
              "#f0f921"
             ]
            ],
            "type": "heatmapgl"
           }
          ],
          "histogram": [
           {
            "marker": {
             "pattern": {
              "fillmode": "overlay",
              "size": 10,
              "solidity": 0.2
             }
            },
            "type": "histogram"
           }
          ],
          "histogram2d": [
           {
            "colorbar": {
             "outlinewidth": 0,
             "ticks": ""
            },
            "colorscale": [
             [
              0,
              "#0d0887"
             ],
             [
              0.1111111111111111,
              "#46039f"
             ],
             [
              0.2222222222222222,
              "#7201a8"
             ],
             [
              0.3333333333333333,
              "#9c179e"
             ],
             [
              0.4444444444444444,
              "#bd3786"
             ],
             [
              0.5555555555555556,
              "#d8576b"
             ],
             [
              0.6666666666666666,
              "#ed7953"
             ],
             [
              0.7777777777777778,
              "#fb9f3a"
             ],
             [
              0.8888888888888888,
              "#fdca26"
             ],
             [
              1,
              "#f0f921"
             ]
            ],
            "type": "histogram2d"
           }
          ],
          "histogram2dcontour": [
           {
            "colorbar": {
             "outlinewidth": 0,
             "ticks": ""
            },
            "colorscale": [
             [
              0,
              "#0d0887"
             ],
             [
              0.1111111111111111,
              "#46039f"
             ],
             [
              0.2222222222222222,
              "#7201a8"
             ],
             [
              0.3333333333333333,
              "#9c179e"
             ],
             [
              0.4444444444444444,
              "#bd3786"
             ],
             [
              0.5555555555555556,
              "#d8576b"
             ],
             [
              0.6666666666666666,
              "#ed7953"
             ],
             [
              0.7777777777777778,
              "#fb9f3a"
             ],
             [
              0.8888888888888888,
              "#fdca26"
             ],
             [
              1,
              "#f0f921"
             ]
            ],
            "type": "histogram2dcontour"
           }
          ],
          "mesh3d": [
           {
            "colorbar": {
             "outlinewidth": 0,
             "ticks": ""
            },
            "type": "mesh3d"
           }
          ],
          "parcoords": [
           {
            "line": {
             "colorbar": {
              "outlinewidth": 0,
              "ticks": ""
             }
            },
            "type": "parcoords"
           }
          ],
          "pie": [
           {
            "automargin": true,
            "type": "pie"
           }
          ],
          "scatter": [
           {
            "fillpattern": {
             "fillmode": "overlay",
             "size": 10,
             "solidity": 0.2
            },
            "type": "scatter"
           }
          ],
          "scatter3d": [
           {
            "line": {
             "colorbar": {
              "outlinewidth": 0,
              "ticks": ""
             }
            },
            "marker": {
             "colorbar": {
              "outlinewidth": 0,
              "ticks": ""
             }
            },
            "type": "scatter3d"
           }
          ],
          "scattercarpet": [
           {
            "marker": {
             "colorbar": {
              "outlinewidth": 0,
              "ticks": ""
             }
            },
            "type": "scattercarpet"
           }
          ],
          "scattergeo": [
           {
            "marker": {
             "colorbar": {
              "outlinewidth": 0,
              "ticks": ""
             }
            },
            "type": "scattergeo"
           }
          ],
          "scattergl": [
           {
            "marker": {
             "colorbar": {
              "outlinewidth": 0,
              "ticks": ""
             }
            },
            "type": "scattergl"
           }
          ],
          "scattermapbox": [
           {
            "marker": {
             "colorbar": {
              "outlinewidth": 0,
              "ticks": ""
             }
            },
            "type": "scattermapbox"
           }
          ],
          "scatterpolar": [
           {
            "marker": {
             "colorbar": {
              "outlinewidth": 0,
              "ticks": ""
             }
            },
            "type": "scatterpolar"
           }
          ],
          "scatterpolargl": [
           {
            "marker": {
             "colorbar": {
              "outlinewidth": 0,
              "ticks": ""
             }
            },
            "type": "scatterpolargl"
           }
          ],
          "scatterternary": [
           {
            "marker": {
             "colorbar": {
              "outlinewidth": 0,
              "ticks": ""
             }
            },
            "type": "scatterternary"
           }
          ],
          "surface": [
           {
            "colorbar": {
             "outlinewidth": 0,
             "ticks": ""
            },
            "colorscale": [
             [
              0,
              "#0d0887"
             ],
             [
              0.1111111111111111,
              "#46039f"
             ],
             [
              0.2222222222222222,
              "#7201a8"
             ],
             [
              0.3333333333333333,
              "#9c179e"
             ],
             [
              0.4444444444444444,
              "#bd3786"
             ],
             [
              0.5555555555555556,
              "#d8576b"
             ],
             [
              0.6666666666666666,
              "#ed7953"
             ],
             [
              0.7777777777777778,
              "#fb9f3a"
             ],
             [
              0.8888888888888888,
              "#fdca26"
             ],
             [
              1,
              "#f0f921"
             ]
            ],
            "type": "surface"
           }
          ],
          "table": [
           {
            "cells": {
             "fill": {
              "color": "#EBF0F8"
             },
             "line": {
              "color": "white"
             }
            },
            "header": {
             "fill": {
              "color": "#C8D4E3"
             },
             "line": {
              "color": "white"
             }
            },
            "type": "table"
           }
          ]
         },
         "layout": {
          "annotationdefaults": {
           "arrowcolor": "#2a3f5f",
           "arrowhead": 0,
           "arrowwidth": 1
          },
          "autotypenumbers": "strict",
          "coloraxis": {
           "colorbar": {
            "outlinewidth": 0,
            "ticks": ""
           }
          },
          "colorscale": {
           "diverging": [
            [
             0,
             "#8e0152"
            ],
            [
             0.1,
             "#c51b7d"
            ],
            [
             0.2,
             "#de77ae"
            ],
            [
             0.3,
             "#f1b6da"
            ],
            [
             0.4,
             "#fde0ef"
            ],
            [
             0.5,
             "#f7f7f7"
            ],
            [
             0.6,
             "#e6f5d0"
            ],
            [
             0.7,
             "#b8e186"
            ],
            [
             0.8,
             "#7fbc41"
            ],
            [
             0.9,
             "#4d9221"
            ],
            [
             1,
             "#276419"
            ]
           ],
           "sequential": [
            [
             0,
             "#0d0887"
            ],
            [
             0.1111111111111111,
             "#46039f"
            ],
            [
             0.2222222222222222,
             "#7201a8"
            ],
            [
             0.3333333333333333,
             "#9c179e"
            ],
            [
             0.4444444444444444,
             "#bd3786"
            ],
            [
             0.5555555555555556,
             "#d8576b"
            ],
            [
             0.6666666666666666,
             "#ed7953"
            ],
            [
             0.7777777777777778,
             "#fb9f3a"
            ],
            [
             0.8888888888888888,
             "#fdca26"
            ],
            [
             1,
             "#f0f921"
            ]
           ],
           "sequentialminus": [
            [
             0,
             "#0d0887"
            ],
            [
             0.1111111111111111,
             "#46039f"
            ],
            [
             0.2222222222222222,
             "#7201a8"
            ],
            [
             0.3333333333333333,
             "#9c179e"
            ],
            [
             0.4444444444444444,
             "#bd3786"
            ],
            [
             0.5555555555555556,
             "#d8576b"
            ],
            [
             0.6666666666666666,
             "#ed7953"
            ],
            [
             0.7777777777777778,
             "#fb9f3a"
            ],
            [
             0.8888888888888888,
             "#fdca26"
            ],
            [
             1,
             "#f0f921"
            ]
           ]
          },
          "colorway": [
           "#636efa",
           "#EF553B",
           "#00cc96",
           "#ab63fa",
           "#FFA15A",
           "#19d3f3",
           "#FF6692",
           "#B6E880",
           "#FF97FF",
           "#FECB52"
          ],
          "font": {
           "color": "#2a3f5f"
          },
          "geo": {
           "bgcolor": "white",
           "lakecolor": "white",
           "landcolor": "#E5ECF6",
           "showlakes": true,
           "showland": true,
           "subunitcolor": "white"
          },
          "hoverlabel": {
           "align": "left"
          },
          "hovermode": "closest",
          "mapbox": {
           "style": "light"
          },
          "paper_bgcolor": "white",
          "plot_bgcolor": "#E5ECF6",
          "polar": {
           "angularaxis": {
            "gridcolor": "white",
            "linecolor": "white",
            "ticks": ""
           },
           "bgcolor": "#E5ECF6",
           "radialaxis": {
            "gridcolor": "white",
            "linecolor": "white",
            "ticks": ""
           }
          },
          "scene": {
           "xaxis": {
            "backgroundcolor": "#E5ECF6",
            "gridcolor": "white",
            "gridwidth": 2,
            "linecolor": "white",
            "showbackground": true,
            "ticks": "",
            "zerolinecolor": "white"
           },
           "yaxis": {
            "backgroundcolor": "#E5ECF6",
            "gridcolor": "white",
            "gridwidth": 2,
            "linecolor": "white",
            "showbackground": true,
            "ticks": "",
            "zerolinecolor": "white"
           },
           "zaxis": {
            "backgroundcolor": "#E5ECF6",
            "gridcolor": "white",
            "gridwidth": 2,
            "linecolor": "white",
            "showbackground": true,
            "ticks": "",
            "zerolinecolor": "white"
           }
          },
          "shapedefaults": {
           "line": {
            "color": "#2a3f5f"
           }
          },
          "ternary": {
           "aaxis": {
            "gridcolor": "white",
            "linecolor": "white",
            "ticks": ""
           },
           "baxis": {
            "gridcolor": "white",
            "linecolor": "white",
            "ticks": ""
           },
           "bgcolor": "#E5ECF6",
           "caxis": {
            "gridcolor": "white",
            "linecolor": "white",
            "ticks": ""
           }
          },
          "title": {
           "x": 0.05
          },
          "xaxis": {
           "automargin": true,
           "gridcolor": "white",
           "linecolor": "white",
           "ticks": "",
           "title": {
            "standoff": 15
           },
           "zerolinecolor": "white",
           "zerolinewidth": 2
          },
          "yaxis": {
           "automargin": true,
           "gridcolor": "white",
           "linecolor": "white",
           "ticks": "",
           "title": {
            "standoff": 15
           },
           "zerolinecolor": "white",
           "zerolinewidth": 2
          }
         }
        },
        "xaxis": {
         "type": "category"
        }
       }
      },
      "text/html": [
       "<div>                            <div id=\"0715a1f3-89ad-402c-a721-c867b1d4ed3e\" class=\"plotly-graph-div\" style=\"height:525px; width:100%;\"></div>            <script type=\"text/javascript\">                require([\"plotly\"], function(Plotly) {                    window.PLOTLYENV=window.PLOTLYENV || {};                                    if (document.getElementById(\"0715a1f3-89ad-402c-a721-c867b1d4ed3e\")) {                    Plotly.newPlot(                        \"0715a1f3-89ad-402c-a721-c867b1d4ed3e\",                        [{\"marker\":{\"color\":\"#f29b97\"},\"name\":\"Active\",\"x\":[64983,4227629,4067095,4540,3238911,3676999,3240918,826706,617083,121919,292106,827324,76175],\"y\":[2,2,1,1,1,1,1,1,1,1,1,1,1],\"type\":\"bar\"},{\"marker\":{\"color\":\"#80d7cc\"},\"name\":\"Inactive\",\"x\":[1688,629081,631729,632515,633837,661451,664323,2997,826660,826703,842655,1032811,1032830,1032832,1049247,1108855,1774973,1779738,2898168,3763028,3769982,9549643,11381524,629437,666909,627336,563547,40113,72793,76167,625577,171613,13503304,613848,599866,614001,76175,617083,3240918,3238911,4067095,292106,121919,4540,827324,826706,3676999,4227629,64983],\"y\":[114,114,114,114,114,114,114,114,114,114,114,114,114,114,114,114,114,114,114,114,114,114,114,114,114,114,114,114,114,114,114,114,114,114,114,114,113,113,113,113,113,113,113,113,113,113,113,112,112],\"type\":\"bar\"}],                        {\"template\":{\"data\":{\"histogram2dcontour\":[{\"type\":\"histogram2dcontour\",\"colorbar\":{\"outlinewidth\":0,\"ticks\":\"\"},\"colorscale\":[[0.0,\"#0d0887\"],[0.1111111111111111,\"#46039f\"],[0.2222222222222222,\"#7201a8\"],[0.3333333333333333,\"#9c179e\"],[0.4444444444444444,\"#bd3786\"],[0.5555555555555556,\"#d8576b\"],[0.6666666666666666,\"#ed7953\"],[0.7777777777777778,\"#fb9f3a\"],[0.8888888888888888,\"#fdca26\"],[1.0,\"#f0f921\"]]}],\"choropleth\":[{\"type\":\"choropleth\",\"colorbar\":{\"outlinewidth\":0,\"ticks\":\"\"}}],\"histogram2d\":[{\"type\":\"histogram2d\",\"colorbar\":{\"outlinewidth\":0,\"ticks\":\"\"},\"colorscale\":[[0.0,\"#0d0887\"],[0.1111111111111111,\"#46039f\"],[0.2222222222222222,\"#7201a8\"],[0.3333333333333333,\"#9c179e\"],[0.4444444444444444,\"#bd3786\"],[0.5555555555555556,\"#d8576b\"],[0.6666666666666666,\"#ed7953\"],[0.7777777777777778,\"#fb9f3a\"],[0.8888888888888888,\"#fdca26\"],[1.0,\"#f0f921\"]]}],\"heatmap\":[{\"type\":\"heatmap\",\"colorbar\":{\"outlinewidth\":0,\"ticks\":\"\"},\"colorscale\":[[0.0,\"#0d0887\"],[0.1111111111111111,\"#46039f\"],[0.2222222222222222,\"#7201a8\"],[0.3333333333333333,\"#9c179e\"],[0.4444444444444444,\"#bd3786\"],[0.5555555555555556,\"#d8576b\"],[0.6666666666666666,\"#ed7953\"],[0.7777777777777778,\"#fb9f3a\"],[0.8888888888888888,\"#fdca26\"],[1.0,\"#f0f921\"]]}],\"heatmapgl\":[{\"type\":\"heatmapgl\",\"colorbar\":{\"outlinewidth\":0,\"ticks\":\"\"},\"colorscale\":[[0.0,\"#0d0887\"],[0.1111111111111111,\"#46039f\"],[0.2222222222222222,\"#7201a8\"],[0.3333333333333333,\"#9c179e\"],[0.4444444444444444,\"#bd3786\"],[0.5555555555555556,\"#d8576b\"],[0.6666666666666666,\"#ed7953\"],[0.7777777777777778,\"#fb9f3a\"],[0.8888888888888888,\"#fdca26\"],[1.0,\"#f0f921\"]]}],\"contourcarpet\":[{\"type\":\"contourcarpet\",\"colorbar\":{\"outlinewidth\":0,\"ticks\":\"\"}}],\"contour\":[{\"type\":\"contour\",\"colorbar\":{\"outlinewidth\":0,\"ticks\":\"\"},\"colorscale\":[[0.0,\"#0d0887\"],[0.1111111111111111,\"#46039f\"],[0.2222222222222222,\"#7201a8\"],[0.3333333333333333,\"#9c179e\"],[0.4444444444444444,\"#bd3786\"],[0.5555555555555556,\"#d8576b\"],[0.6666666666666666,\"#ed7953\"],[0.7777777777777778,\"#fb9f3a\"],[0.8888888888888888,\"#fdca26\"],[1.0,\"#f0f921\"]]}],\"surface\":[{\"type\":\"surface\",\"colorbar\":{\"outlinewidth\":0,\"ticks\":\"\"},\"colorscale\":[[0.0,\"#0d0887\"],[0.1111111111111111,\"#46039f\"],[0.2222222222222222,\"#7201a8\"],[0.3333333333333333,\"#9c179e\"],[0.4444444444444444,\"#bd3786\"],[0.5555555555555556,\"#d8576b\"],[0.6666666666666666,\"#ed7953\"],[0.7777777777777778,\"#fb9f3a\"],[0.8888888888888888,\"#fdca26\"],[1.0,\"#f0f921\"]]}],\"mesh3d\":[{\"type\":\"mesh3d\",\"colorbar\":{\"outlinewidth\":0,\"ticks\":\"\"}}],\"scatter\":[{\"fillpattern\":{\"fillmode\":\"overlay\",\"size\":10,\"solidity\":0.2},\"type\":\"scatter\"}],\"parcoords\":[{\"type\":\"parcoords\",\"line\":{\"colorbar\":{\"outlinewidth\":0,\"ticks\":\"\"}}}],\"scatterpolargl\":[{\"type\":\"scatterpolargl\",\"marker\":{\"colorbar\":{\"outlinewidth\":0,\"ticks\":\"\"}}}],\"bar\":[{\"error_x\":{\"color\":\"#2a3f5f\"},\"error_y\":{\"color\":\"#2a3f5f\"},\"marker\":{\"line\":{\"color\":\"#E5ECF6\",\"width\":0.5},\"pattern\":{\"fillmode\":\"overlay\",\"size\":10,\"solidity\":0.2}},\"type\":\"bar\"}],\"scattergeo\":[{\"type\":\"scattergeo\",\"marker\":{\"colorbar\":{\"outlinewidth\":0,\"ticks\":\"\"}}}],\"scatterpolar\":[{\"type\":\"scatterpolar\",\"marker\":{\"colorbar\":{\"outlinewidth\":0,\"ticks\":\"\"}}}],\"histogram\":[{\"marker\":{\"pattern\":{\"fillmode\":\"overlay\",\"size\":10,\"solidity\":0.2}},\"type\":\"histogram\"}],\"scattergl\":[{\"type\":\"scattergl\",\"marker\":{\"colorbar\":{\"outlinewidth\":0,\"ticks\":\"\"}}}],\"scatter3d\":[{\"type\":\"scatter3d\",\"line\":{\"colorbar\":{\"outlinewidth\":0,\"ticks\":\"\"}},\"marker\":{\"colorbar\":{\"outlinewidth\":0,\"ticks\":\"\"}}}],\"scattermapbox\":[{\"type\":\"scattermapbox\",\"marker\":{\"colorbar\":{\"outlinewidth\":0,\"ticks\":\"\"}}}],\"scatterternary\":[{\"type\":\"scatterternary\",\"marker\":{\"colorbar\":{\"outlinewidth\":0,\"ticks\":\"\"}}}],\"scattercarpet\":[{\"type\":\"scattercarpet\",\"marker\":{\"colorbar\":{\"outlinewidth\":0,\"ticks\":\"\"}}}],\"carpet\":[{\"aaxis\":{\"endlinecolor\":\"#2a3f5f\",\"gridcolor\":\"white\",\"linecolor\":\"white\",\"minorgridcolor\":\"white\",\"startlinecolor\":\"#2a3f5f\"},\"baxis\":{\"endlinecolor\":\"#2a3f5f\",\"gridcolor\":\"white\",\"linecolor\":\"white\",\"minorgridcolor\":\"white\",\"startlinecolor\":\"#2a3f5f\"},\"type\":\"carpet\"}],\"table\":[{\"cells\":{\"fill\":{\"color\":\"#EBF0F8\"},\"line\":{\"color\":\"white\"}},\"header\":{\"fill\":{\"color\":\"#C8D4E3\"},\"line\":{\"color\":\"white\"}},\"type\":\"table\"}],\"barpolar\":[{\"marker\":{\"line\":{\"color\":\"#E5ECF6\",\"width\":0.5},\"pattern\":{\"fillmode\":\"overlay\",\"size\":10,\"solidity\":0.2}},\"type\":\"barpolar\"}],\"pie\":[{\"automargin\":true,\"type\":\"pie\"}]},\"layout\":{\"autotypenumbers\":\"strict\",\"colorway\":[\"#636efa\",\"#EF553B\",\"#00cc96\",\"#ab63fa\",\"#FFA15A\",\"#19d3f3\",\"#FF6692\",\"#B6E880\",\"#FF97FF\",\"#FECB52\"],\"font\":{\"color\":\"#2a3f5f\"},\"hovermode\":\"closest\",\"hoverlabel\":{\"align\":\"left\"},\"paper_bgcolor\":\"white\",\"plot_bgcolor\":\"#E5ECF6\",\"polar\":{\"bgcolor\":\"#E5ECF6\",\"angularaxis\":{\"gridcolor\":\"white\",\"linecolor\":\"white\",\"ticks\":\"\"},\"radialaxis\":{\"gridcolor\":\"white\",\"linecolor\":\"white\",\"ticks\":\"\"}},\"ternary\":{\"bgcolor\":\"#E5ECF6\",\"aaxis\":{\"gridcolor\":\"white\",\"linecolor\":\"white\",\"ticks\":\"\"},\"baxis\":{\"gridcolor\":\"white\",\"linecolor\":\"white\",\"ticks\":\"\"},\"caxis\":{\"gridcolor\":\"white\",\"linecolor\":\"white\",\"ticks\":\"\"}},\"coloraxis\":{\"colorbar\":{\"outlinewidth\":0,\"ticks\":\"\"}},\"colorscale\":{\"sequential\":[[0.0,\"#0d0887\"],[0.1111111111111111,\"#46039f\"],[0.2222222222222222,\"#7201a8\"],[0.3333333333333333,\"#9c179e\"],[0.4444444444444444,\"#bd3786\"],[0.5555555555555556,\"#d8576b\"],[0.6666666666666666,\"#ed7953\"],[0.7777777777777778,\"#fb9f3a\"],[0.8888888888888888,\"#fdca26\"],[1.0,\"#f0f921\"]],\"sequentialminus\":[[0.0,\"#0d0887\"],[0.1111111111111111,\"#46039f\"],[0.2222222222222222,\"#7201a8\"],[0.3333333333333333,\"#9c179e\"],[0.4444444444444444,\"#bd3786\"],[0.5555555555555556,\"#d8576b\"],[0.6666666666666666,\"#ed7953\"],[0.7777777777777778,\"#fb9f3a\"],[0.8888888888888888,\"#fdca26\"],[1.0,\"#f0f921\"]],\"diverging\":[[0,\"#8e0152\"],[0.1,\"#c51b7d\"],[0.2,\"#de77ae\"],[0.3,\"#f1b6da\"],[0.4,\"#fde0ef\"],[0.5,\"#f7f7f7\"],[0.6,\"#e6f5d0\"],[0.7,\"#b8e186\"],[0.8,\"#7fbc41\"],[0.9,\"#4d9221\"],[1,\"#276419\"]]},\"xaxis\":{\"gridcolor\":\"white\",\"linecolor\":\"white\",\"ticks\":\"\",\"title\":{\"standoff\":15},\"zerolinecolor\":\"white\",\"automargin\":true,\"zerolinewidth\":2},\"yaxis\":{\"gridcolor\":\"white\",\"linecolor\":\"white\",\"ticks\":\"\",\"title\":{\"standoff\":15},\"zerolinecolor\":\"white\",\"automargin\":true,\"zerolinewidth\":2},\"scene\":{\"xaxis\":{\"backgroundcolor\":\"#E5ECF6\",\"gridcolor\":\"white\",\"linecolor\":\"white\",\"showbackground\":true,\"ticks\":\"\",\"zerolinecolor\":\"white\",\"gridwidth\":2},\"yaxis\":{\"backgroundcolor\":\"#E5ECF6\",\"gridcolor\":\"white\",\"linecolor\":\"white\",\"showbackground\":true,\"ticks\":\"\",\"zerolinecolor\":\"white\",\"gridwidth\":2},\"zaxis\":{\"backgroundcolor\":\"#E5ECF6\",\"gridcolor\":\"white\",\"linecolor\":\"white\",\"showbackground\":true,\"ticks\":\"\",\"zerolinecolor\":\"white\",\"gridwidth\":2}},\"shapedefaults\":{\"line\":{\"color\":\"#2a3f5f\"}},\"annotationdefaults\":{\"arrowcolor\":\"#2a3f5f\",\"arrowhead\":0,\"arrowwidth\":1},\"geo\":{\"bgcolor\":\"white\",\"landcolor\":\"#E5ECF6\",\"subunitcolor\":\"white\",\"showland\":true,\"showlakes\":true,\"lakecolor\":\"white\"},\"title\":{\"x\":0.05},\"mapbox\":{\"style\":\"light\"}}},\"xaxis\":{\"type\":\"category\"},\"plot_bgcolor\":\"white\",\"barmode\":\"group\"},                        {\"responsive\": true}                    ).then(function(){\n",
       "                            \n",
       "var gd = document.getElementById('0715a1f3-89ad-402c-a721-c867b1d4ed3e');\n",
       "var x = new MutationObserver(function (mutations, observer) {{\n",
       "        var display = window.getComputedStyle(gd).display;\n",
       "        if (!display || display === 'none') {{\n",
       "            console.log([gd, 'removed!']);\n",
       "            Plotly.purge(gd);\n",
       "            observer.disconnect();\n",
       "        }}\n",
       "}});\n",
       "\n",
       "// Listen for the removal of the full notebook cells\n",
       "var notebookContainer = gd.closest('#notebook-container');\n",
       "if (notebookContainer) {{\n",
       "    x.observe(notebookContainer, {childList: true});\n",
       "}}\n",
       "\n",
       "// Listen for the clearing of the current output cell\n",
       "var outputEl = gd.closest('.output');\n",
       "if (outputEl) {{\n",
       "    x.observe(outputEl, {childList: true});\n",
       "}}\n",
       "\n",
       "                        })                };                });            </script>        </div>"
      ]
     },
     "metadata": {},
     "output_type": "display_data"
    }
   ],
   "source": [
    "fig3 = go.Figure(data=[\n",
    "    go.Bar(name='Active', x=act['cid'], y=act['aid'], marker_color= '#f29b97'),\n",
    "    go.Bar(name='Inactive', x=inact['cid'], y=inact['aid'], marker_color= '#80d7cc')])\n",
    "fig3.update_layout(xaxis_type='category')\n",
    "fig3.update_layout( plot_bgcolor='white')\n",
    "fig3.update_layout(barmode='group')"
   ]
  },
  {
   "cell_type": "code",
   "execution_count": 268,
   "id": "967471fc",
   "metadata": {
    "scrolled": true
   },
   "outputs": [],
   "source": [
    "'''selecting data that showed activity'''\n",
    "combined_data_final_Active = combined_data_final.loc[combined_data_final['activity'] == 'Active'].reset_index()\n"
   ]
  },
  {
   "cell_type": "code",
   "execution_count": 254,
   "id": "676fc3c0",
   "metadata": {},
   "outputs": [
    {
     "data": {
      "application/vnd.plotly.v1+json": {
       "config": {
        "plotlyServerURL": "https://plot.ly"
       },
       "data": [
        {
         "marker": {
          "color": "#f29b97"
         },
         "name": "Active",
         "orientation": "h",
         "type": "bar",
         "x": [
          2,
          2,
          1,
          1,
          1,
          1,
          1,
          1,
          1,
          1,
          1,
          1,
          1
         ],
         "y": [
          "Fluorescence-based cell-based primary high throughput screening assay to identify agonists of the human cholinergic receptor, muscarinic 1 (CHRM1)",
          "Fluorescence-based cell-based primary high throughput screening assay to identify antagonists of the human M1 muscarinic receptor (CHRM1)",
          "Full deck counterscreen for agonists of the human M1 muscarinic receptor (CHRM1): Fluorescence-based cell-based high throughput screening assay to identify nonselective activators and assay artifacts using the parental CHOK1 cell line",
          "Full deck counterscreen for antagonists of the human M1 muscarinic receptor (CHRM1): Fluorescence-based cell-based high throughput screening assay to identify nonselective inhibitors and assay artifacts using the parental CHOK1 cell line",
          "High-Throughput Screening for Modulators of Cytosolic Chaperonin Activity",
          "Luminescence-based biochemical primary high throughput screening assay to identify inhibitors of Trypanosoma brucei methionyl tRNA synthetase (MetRS)",
          "Luminescence-based cell-based primary high throughput screening assay to identify activators of the DAF-12 from the parasite H. contortus (hcDAF-12)",
          "Luminescence-based cell-based primary high throughput screening assay to identify inhibitors of the Steroid Receptor Coactivator 2 (SRC2; NCOA2)",
          "QFRET-based biochemical high throughput primary assay to identify inhibitors of human group III secreted phospholipase A2 enzyme (HGIII-sPLA2)",
          "TRFRET-based cell-based primary high throughput screening assay to identify inhibitors of cell surface Prion Protein (PRPC)",
          "qHTS Assay for Inhibitors of JMJD2A-Tudor Domain",
          "uHTS identification of Caspase-8 TRAIL sensitizers in a luminesence assay",
          "uHTS identification of inhibitors of cullin neddylation in a TR-FRET assay"
         ]
        }
       ],
       "layout": {
        "plot_bgcolor": "white",
        "template": {
         "data": {
          "bar": [
           {
            "error_x": {
             "color": "#2a3f5f"
            },
            "error_y": {
             "color": "#2a3f5f"
            },
            "marker": {
             "line": {
              "color": "#E5ECF6",
              "width": 0.5
             },
             "pattern": {
              "fillmode": "overlay",
              "size": 10,
              "solidity": 0.2
             }
            },
            "type": "bar"
           }
          ],
          "barpolar": [
           {
            "marker": {
             "line": {
              "color": "#E5ECF6",
              "width": 0.5
             },
             "pattern": {
              "fillmode": "overlay",
              "size": 10,
              "solidity": 0.2
             }
            },
            "type": "barpolar"
           }
          ],
          "carpet": [
           {
            "aaxis": {
             "endlinecolor": "#2a3f5f",
             "gridcolor": "white",
             "linecolor": "white",
             "minorgridcolor": "white",
             "startlinecolor": "#2a3f5f"
            },
            "baxis": {
             "endlinecolor": "#2a3f5f",
             "gridcolor": "white",
             "linecolor": "white",
             "minorgridcolor": "white",
             "startlinecolor": "#2a3f5f"
            },
            "type": "carpet"
           }
          ],
          "choropleth": [
           {
            "colorbar": {
             "outlinewidth": 0,
             "ticks": ""
            },
            "type": "choropleth"
           }
          ],
          "contour": [
           {
            "colorbar": {
             "outlinewidth": 0,
             "ticks": ""
            },
            "colorscale": [
             [
              0,
              "#0d0887"
             ],
             [
              0.1111111111111111,
              "#46039f"
             ],
             [
              0.2222222222222222,
              "#7201a8"
             ],
             [
              0.3333333333333333,
              "#9c179e"
             ],
             [
              0.4444444444444444,
              "#bd3786"
             ],
             [
              0.5555555555555556,
              "#d8576b"
             ],
             [
              0.6666666666666666,
              "#ed7953"
             ],
             [
              0.7777777777777778,
              "#fb9f3a"
             ],
             [
              0.8888888888888888,
              "#fdca26"
             ],
             [
              1,
              "#f0f921"
             ]
            ],
            "type": "contour"
           }
          ],
          "contourcarpet": [
           {
            "colorbar": {
             "outlinewidth": 0,
             "ticks": ""
            },
            "type": "contourcarpet"
           }
          ],
          "heatmap": [
           {
            "colorbar": {
             "outlinewidth": 0,
             "ticks": ""
            },
            "colorscale": [
             [
              0,
              "#0d0887"
             ],
             [
              0.1111111111111111,
              "#46039f"
             ],
             [
              0.2222222222222222,
              "#7201a8"
             ],
             [
              0.3333333333333333,
              "#9c179e"
             ],
             [
              0.4444444444444444,
              "#bd3786"
             ],
             [
              0.5555555555555556,
              "#d8576b"
             ],
             [
              0.6666666666666666,
              "#ed7953"
             ],
             [
              0.7777777777777778,
              "#fb9f3a"
             ],
             [
              0.8888888888888888,
              "#fdca26"
             ],
             [
              1,
              "#f0f921"
             ]
            ],
            "type": "heatmap"
           }
          ],
          "heatmapgl": [
           {
            "colorbar": {
             "outlinewidth": 0,
             "ticks": ""
            },
            "colorscale": [
             [
              0,
              "#0d0887"
             ],
             [
              0.1111111111111111,
              "#46039f"
             ],
             [
              0.2222222222222222,
              "#7201a8"
             ],
             [
              0.3333333333333333,
              "#9c179e"
             ],
             [
              0.4444444444444444,
              "#bd3786"
             ],
             [
              0.5555555555555556,
              "#d8576b"
             ],
             [
              0.6666666666666666,
              "#ed7953"
             ],
             [
              0.7777777777777778,
              "#fb9f3a"
             ],
             [
              0.8888888888888888,
              "#fdca26"
             ],
             [
              1,
              "#f0f921"
             ]
            ],
            "type": "heatmapgl"
           }
          ],
          "histogram": [
           {
            "marker": {
             "pattern": {
              "fillmode": "overlay",
              "size": 10,
              "solidity": 0.2
             }
            },
            "type": "histogram"
           }
          ],
          "histogram2d": [
           {
            "colorbar": {
             "outlinewidth": 0,
             "ticks": ""
            },
            "colorscale": [
             [
              0,
              "#0d0887"
             ],
             [
              0.1111111111111111,
              "#46039f"
             ],
             [
              0.2222222222222222,
              "#7201a8"
             ],
             [
              0.3333333333333333,
              "#9c179e"
             ],
             [
              0.4444444444444444,
              "#bd3786"
             ],
             [
              0.5555555555555556,
              "#d8576b"
             ],
             [
              0.6666666666666666,
              "#ed7953"
             ],
             [
              0.7777777777777778,
              "#fb9f3a"
             ],
             [
              0.8888888888888888,
              "#fdca26"
             ],
             [
              1,
              "#f0f921"
             ]
            ],
            "type": "histogram2d"
           }
          ],
          "histogram2dcontour": [
           {
            "colorbar": {
             "outlinewidth": 0,
             "ticks": ""
            },
            "colorscale": [
             [
              0,
              "#0d0887"
             ],
             [
              0.1111111111111111,
              "#46039f"
             ],
             [
              0.2222222222222222,
              "#7201a8"
             ],
             [
              0.3333333333333333,
              "#9c179e"
             ],
             [
              0.4444444444444444,
              "#bd3786"
             ],
             [
              0.5555555555555556,
              "#d8576b"
             ],
             [
              0.6666666666666666,
              "#ed7953"
             ],
             [
              0.7777777777777778,
              "#fb9f3a"
             ],
             [
              0.8888888888888888,
              "#fdca26"
             ],
             [
              1,
              "#f0f921"
             ]
            ],
            "type": "histogram2dcontour"
           }
          ],
          "mesh3d": [
           {
            "colorbar": {
             "outlinewidth": 0,
             "ticks": ""
            },
            "type": "mesh3d"
           }
          ],
          "parcoords": [
           {
            "line": {
             "colorbar": {
              "outlinewidth": 0,
              "ticks": ""
             }
            },
            "type": "parcoords"
           }
          ],
          "pie": [
           {
            "automargin": true,
            "type": "pie"
           }
          ],
          "scatter": [
           {
            "fillpattern": {
             "fillmode": "overlay",
             "size": 10,
             "solidity": 0.2
            },
            "type": "scatter"
           }
          ],
          "scatter3d": [
           {
            "line": {
             "colorbar": {
              "outlinewidth": 0,
              "ticks": ""
             }
            },
            "marker": {
             "colorbar": {
              "outlinewidth": 0,
              "ticks": ""
             }
            },
            "type": "scatter3d"
           }
          ],
          "scattercarpet": [
           {
            "marker": {
             "colorbar": {
              "outlinewidth": 0,
              "ticks": ""
             }
            },
            "type": "scattercarpet"
           }
          ],
          "scattergeo": [
           {
            "marker": {
             "colorbar": {
              "outlinewidth": 0,
              "ticks": ""
             }
            },
            "type": "scattergeo"
           }
          ],
          "scattergl": [
           {
            "marker": {
             "colorbar": {
              "outlinewidth": 0,
              "ticks": ""
             }
            },
            "type": "scattergl"
           }
          ],
          "scattermapbox": [
           {
            "marker": {
             "colorbar": {
              "outlinewidth": 0,
              "ticks": ""
             }
            },
            "type": "scattermapbox"
           }
          ],
          "scatterpolar": [
           {
            "marker": {
             "colorbar": {
              "outlinewidth": 0,
              "ticks": ""
             }
            },
            "type": "scatterpolar"
           }
          ],
          "scatterpolargl": [
           {
            "marker": {
             "colorbar": {
              "outlinewidth": 0,
              "ticks": ""
             }
            },
            "type": "scatterpolargl"
           }
          ],
          "scatterternary": [
           {
            "marker": {
             "colorbar": {
              "outlinewidth": 0,
              "ticks": ""
             }
            },
            "type": "scatterternary"
           }
          ],
          "surface": [
           {
            "colorbar": {
             "outlinewidth": 0,
             "ticks": ""
            },
            "colorscale": [
             [
              0,
              "#0d0887"
             ],
             [
              0.1111111111111111,
              "#46039f"
             ],
             [
              0.2222222222222222,
              "#7201a8"
             ],
             [
              0.3333333333333333,
              "#9c179e"
             ],
             [
              0.4444444444444444,
              "#bd3786"
             ],
             [
              0.5555555555555556,
              "#d8576b"
             ],
             [
              0.6666666666666666,
              "#ed7953"
             ],
             [
              0.7777777777777778,
              "#fb9f3a"
             ],
             [
              0.8888888888888888,
              "#fdca26"
             ],
             [
              1,
              "#f0f921"
             ]
            ],
            "type": "surface"
           }
          ],
          "table": [
           {
            "cells": {
             "fill": {
              "color": "#EBF0F8"
             },
             "line": {
              "color": "white"
             }
            },
            "header": {
             "fill": {
              "color": "#C8D4E3"
             },
             "line": {
              "color": "white"
             }
            },
            "type": "table"
           }
          ]
         },
         "layout": {
          "annotationdefaults": {
           "arrowcolor": "#2a3f5f",
           "arrowhead": 0,
           "arrowwidth": 1
          },
          "autotypenumbers": "strict",
          "coloraxis": {
           "colorbar": {
            "outlinewidth": 0,
            "ticks": ""
           }
          },
          "colorscale": {
           "diverging": [
            [
             0,
             "#8e0152"
            ],
            [
             0.1,
             "#c51b7d"
            ],
            [
             0.2,
             "#de77ae"
            ],
            [
             0.3,
             "#f1b6da"
            ],
            [
             0.4,
             "#fde0ef"
            ],
            [
             0.5,
             "#f7f7f7"
            ],
            [
             0.6,
             "#e6f5d0"
            ],
            [
             0.7,
             "#b8e186"
            ],
            [
             0.8,
             "#7fbc41"
            ],
            [
             0.9,
             "#4d9221"
            ],
            [
             1,
             "#276419"
            ]
           ],
           "sequential": [
            [
             0,
             "#0d0887"
            ],
            [
             0.1111111111111111,
             "#46039f"
            ],
            [
             0.2222222222222222,
             "#7201a8"
            ],
            [
             0.3333333333333333,
             "#9c179e"
            ],
            [
             0.4444444444444444,
             "#bd3786"
            ],
            [
             0.5555555555555556,
             "#d8576b"
            ],
            [
             0.6666666666666666,
             "#ed7953"
            ],
            [
             0.7777777777777778,
             "#fb9f3a"
            ],
            [
             0.8888888888888888,
             "#fdca26"
            ],
            [
             1,
             "#f0f921"
            ]
           ],
           "sequentialminus": [
            [
             0,
             "#0d0887"
            ],
            [
             0.1111111111111111,
             "#46039f"
            ],
            [
             0.2222222222222222,
             "#7201a8"
            ],
            [
             0.3333333333333333,
             "#9c179e"
            ],
            [
             0.4444444444444444,
             "#bd3786"
            ],
            [
             0.5555555555555556,
             "#d8576b"
            ],
            [
             0.6666666666666666,
             "#ed7953"
            ],
            [
             0.7777777777777778,
             "#fb9f3a"
            ],
            [
             0.8888888888888888,
             "#fdca26"
            ],
            [
             1,
             "#f0f921"
            ]
           ]
          },
          "colorway": [
           "#636efa",
           "#EF553B",
           "#00cc96",
           "#ab63fa",
           "#FFA15A",
           "#19d3f3",
           "#FF6692",
           "#B6E880",
           "#FF97FF",
           "#FECB52"
          ],
          "font": {
           "color": "#2a3f5f"
          },
          "geo": {
           "bgcolor": "white",
           "lakecolor": "white",
           "landcolor": "#E5ECF6",
           "showlakes": true,
           "showland": true,
           "subunitcolor": "white"
          },
          "hoverlabel": {
           "align": "left"
          },
          "hovermode": "closest",
          "mapbox": {
           "style": "light"
          },
          "paper_bgcolor": "white",
          "plot_bgcolor": "#E5ECF6",
          "polar": {
           "angularaxis": {
            "gridcolor": "white",
            "linecolor": "white",
            "ticks": ""
           },
           "bgcolor": "#E5ECF6",
           "radialaxis": {
            "gridcolor": "white",
            "linecolor": "white",
            "ticks": ""
           }
          },
          "scene": {
           "xaxis": {
            "backgroundcolor": "#E5ECF6",
            "gridcolor": "white",
            "gridwidth": 2,
            "linecolor": "white",
            "showbackground": true,
            "ticks": "",
            "zerolinecolor": "white"
           },
           "yaxis": {
            "backgroundcolor": "#E5ECF6",
            "gridcolor": "white",
            "gridwidth": 2,
            "linecolor": "white",
            "showbackground": true,
            "ticks": "",
            "zerolinecolor": "white"
           },
           "zaxis": {
            "backgroundcolor": "#E5ECF6",
            "gridcolor": "white",
            "gridwidth": 2,
            "linecolor": "white",
            "showbackground": true,
            "ticks": "",
            "zerolinecolor": "white"
           }
          },
          "shapedefaults": {
           "line": {
            "color": "#2a3f5f"
           }
          },
          "ternary": {
           "aaxis": {
            "gridcolor": "white",
            "linecolor": "white",
            "ticks": ""
           },
           "baxis": {
            "gridcolor": "white",
            "linecolor": "white",
            "ticks": ""
           },
           "bgcolor": "#E5ECF6",
           "caxis": {
            "gridcolor": "white",
            "linecolor": "white",
            "ticks": ""
           }
          },
          "title": {
           "x": 0.05
          },
          "xaxis": {
           "automargin": true,
           "gridcolor": "white",
           "linecolor": "white",
           "ticks": "",
           "title": {
            "standoff": 15
           },
           "zerolinecolor": "white",
           "zerolinewidth": 2
          },
          "yaxis": {
           "automargin": true,
           "gridcolor": "white",
           "linecolor": "white",
           "ticks": "",
           "title": {
            "standoff": 15
           },
           "zerolinecolor": "white",
           "zerolinewidth": 2
          }
         }
        },
        "xaxis": {
         "dtick": 1,
         "showgrid": true,
         "tick0": 0,
         "ticklen": 1
        }
       }
      },
      "text/html": [
       "<div>                            <div id=\"ac602143-40a3-4307-bb76-39c090bebe92\" class=\"plotly-graph-div\" style=\"height:525px; width:100%;\"></div>            <script type=\"text/javascript\">                require([\"plotly\"], function(Plotly) {                    window.PLOTLYENV=window.PLOTLYENV || {};                                    if (document.getElementById(\"ac602143-40a3-4307-bb76-39c090bebe92\")) {                    Plotly.newPlot(                        \"ac602143-40a3-4307-bb76-39c090bebe92\",                        [{\"marker\":{\"color\":\"#f29b97\"},\"name\":\"Active\",\"orientation\":\"h\",\"x\":[2,2,1,1,1,1,1,1,1,1,1,1,1],\"y\":[\"Fluorescence-based cell-based primary high throughput screening assay to identify agonists of the human cholinergic receptor, muscarinic 1 (CHRM1)\",\"Fluorescence-based cell-based primary high throughput screening assay to identify antagonists of the human M1 muscarinic receptor (CHRM1)\",\"Full deck counterscreen for agonists of the human M1 muscarinic receptor (CHRM1): Fluorescence-based cell-based high throughput screening assay to identify nonselective activators and assay artifacts using the parental CHOK1 cell line\",\"Full deck counterscreen for antagonists of the human M1 muscarinic receptor (CHRM1): Fluorescence-based cell-based high throughput screening assay to identify nonselective inhibitors and assay artifacts using the parental CHOK1 cell line\",\"High-Throughput Screening for Modulators of Cytosolic Chaperonin Activity\",\"Luminescence-based biochemical primary high throughput screening assay to identify inhibitors of Trypanosoma brucei methionyl tRNA synthetase (MetRS)\",\"Luminescence-based cell-based primary high throughput screening assay to identify activators of the DAF-12 from the parasite H. contortus (hcDAF-12)\",\"Luminescence-based cell-based primary high throughput screening assay to identify inhibitors of the Steroid Receptor Coactivator 2 (SRC2; NCOA2)\",\"QFRET-based biochemical high throughput primary assay to identify inhibitors of human group III secreted phospholipase A2 enzyme (HGIII-sPLA2)\",\"TRFRET-based cell-based primary high throughput screening assay to identify inhibitors of cell surface Prion Protein (PRPC)\",\"qHTS Assay for Inhibitors of JMJD2A-Tudor Domain\",\"uHTS identification of Caspase-8 TRAIL sensitizers in a luminesence assay\",\"uHTS identification of inhibitors of cullin neddylation in a TR-FRET assay\"],\"type\":\"bar\"}],                        {\"template\":{\"data\":{\"histogram2dcontour\":[{\"type\":\"histogram2dcontour\",\"colorbar\":{\"outlinewidth\":0,\"ticks\":\"\"},\"colorscale\":[[0.0,\"#0d0887\"],[0.1111111111111111,\"#46039f\"],[0.2222222222222222,\"#7201a8\"],[0.3333333333333333,\"#9c179e\"],[0.4444444444444444,\"#bd3786\"],[0.5555555555555556,\"#d8576b\"],[0.6666666666666666,\"#ed7953\"],[0.7777777777777778,\"#fb9f3a\"],[0.8888888888888888,\"#fdca26\"],[1.0,\"#f0f921\"]]}],\"choropleth\":[{\"type\":\"choropleth\",\"colorbar\":{\"outlinewidth\":0,\"ticks\":\"\"}}],\"histogram2d\":[{\"type\":\"histogram2d\",\"colorbar\":{\"outlinewidth\":0,\"ticks\":\"\"},\"colorscale\":[[0.0,\"#0d0887\"],[0.1111111111111111,\"#46039f\"],[0.2222222222222222,\"#7201a8\"],[0.3333333333333333,\"#9c179e\"],[0.4444444444444444,\"#bd3786\"],[0.5555555555555556,\"#d8576b\"],[0.6666666666666666,\"#ed7953\"],[0.7777777777777778,\"#fb9f3a\"],[0.8888888888888888,\"#fdca26\"],[1.0,\"#f0f921\"]]}],\"heatmap\":[{\"type\":\"heatmap\",\"colorbar\":{\"outlinewidth\":0,\"ticks\":\"\"},\"colorscale\":[[0.0,\"#0d0887\"],[0.1111111111111111,\"#46039f\"],[0.2222222222222222,\"#7201a8\"],[0.3333333333333333,\"#9c179e\"],[0.4444444444444444,\"#bd3786\"],[0.5555555555555556,\"#d8576b\"],[0.6666666666666666,\"#ed7953\"],[0.7777777777777778,\"#fb9f3a\"],[0.8888888888888888,\"#fdca26\"],[1.0,\"#f0f921\"]]}],\"heatmapgl\":[{\"type\":\"heatmapgl\",\"colorbar\":{\"outlinewidth\":0,\"ticks\":\"\"},\"colorscale\":[[0.0,\"#0d0887\"],[0.1111111111111111,\"#46039f\"],[0.2222222222222222,\"#7201a8\"],[0.3333333333333333,\"#9c179e\"],[0.4444444444444444,\"#bd3786\"],[0.5555555555555556,\"#d8576b\"],[0.6666666666666666,\"#ed7953\"],[0.7777777777777778,\"#fb9f3a\"],[0.8888888888888888,\"#fdca26\"],[1.0,\"#f0f921\"]]}],\"contourcarpet\":[{\"type\":\"contourcarpet\",\"colorbar\":{\"outlinewidth\":0,\"ticks\":\"\"}}],\"contour\":[{\"type\":\"contour\",\"colorbar\":{\"outlinewidth\":0,\"ticks\":\"\"},\"colorscale\":[[0.0,\"#0d0887\"],[0.1111111111111111,\"#46039f\"],[0.2222222222222222,\"#7201a8\"],[0.3333333333333333,\"#9c179e\"],[0.4444444444444444,\"#bd3786\"],[0.5555555555555556,\"#d8576b\"],[0.6666666666666666,\"#ed7953\"],[0.7777777777777778,\"#fb9f3a\"],[0.8888888888888888,\"#fdca26\"],[1.0,\"#f0f921\"]]}],\"surface\":[{\"type\":\"surface\",\"colorbar\":{\"outlinewidth\":0,\"ticks\":\"\"},\"colorscale\":[[0.0,\"#0d0887\"],[0.1111111111111111,\"#46039f\"],[0.2222222222222222,\"#7201a8\"],[0.3333333333333333,\"#9c179e\"],[0.4444444444444444,\"#bd3786\"],[0.5555555555555556,\"#d8576b\"],[0.6666666666666666,\"#ed7953\"],[0.7777777777777778,\"#fb9f3a\"],[0.8888888888888888,\"#fdca26\"],[1.0,\"#f0f921\"]]}],\"mesh3d\":[{\"type\":\"mesh3d\",\"colorbar\":{\"outlinewidth\":0,\"ticks\":\"\"}}],\"scatter\":[{\"fillpattern\":{\"fillmode\":\"overlay\",\"size\":10,\"solidity\":0.2},\"type\":\"scatter\"}],\"parcoords\":[{\"type\":\"parcoords\",\"line\":{\"colorbar\":{\"outlinewidth\":0,\"ticks\":\"\"}}}],\"scatterpolargl\":[{\"type\":\"scatterpolargl\",\"marker\":{\"colorbar\":{\"outlinewidth\":0,\"ticks\":\"\"}}}],\"bar\":[{\"error_x\":{\"color\":\"#2a3f5f\"},\"error_y\":{\"color\":\"#2a3f5f\"},\"marker\":{\"line\":{\"color\":\"#E5ECF6\",\"width\":0.5},\"pattern\":{\"fillmode\":\"overlay\",\"size\":10,\"solidity\":0.2}},\"type\":\"bar\"}],\"scattergeo\":[{\"type\":\"scattergeo\",\"marker\":{\"colorbar\":{\"outlinewidth\":0,\"ticks\":\"\"}}}],\"scatterpolar\":[{\"type\":\"scatterpolar\",\"marker\":{\"colorbar\":{\"outlinewidth\":0,\"ticks\":\"\"}}}],\"histogram\":[{\"marker\":{\"pattern\":{\"fillmode\":\"overlay\",\"size\":10,\"solidity\":0.2}},\"type\":\"histogram\"}],\"scattergl\":[{\"type\":\"scattergl\",\"marker\":{\"colorbar\":{\"outlinewidth\":0,\"ticks\":\"\"}}}],\"scatter3d\":[{\"type\":\"scatter3d\",\"line\":{\"colorbar\":{\"outlinewidth\":0,\"ticks\":\"\"}},\"marker\":{\"colorbar\":{\"outlinewidth\":0,\"ticks\":\"\"}}}],\"scattermapbox\":[{\"type\":\"scattermapbox\",\"marker\":{\"colorbar\":{\"outlinewidth\":0,\"ticks\":\"\"}}}],\"scatterternary\":[{\"type\":\"scatterternary\",\"marker\":{\"colorbar\":{\"outlinewidth\":0,\"ticks\":\"\"}}}],\"scattercarpet\":[{\"type\":\"scattercarpet\",\"marker\":{\"colorbar\":{\"outlinewidth\":0,\"ticks\":\"\"}}}],\"carpet\":[{\"aaxis\":{\"endlinecolor\":\"#2a3f5f\",\"gridcolor\":\"white\",\"linecolor\":\"white\",\"minorgridcolor\":\"white\",\"startlinecolor\":\"#2a3f5f\"},\"baxis\":{\"endlinecolor\":\"#2a3f5f\",\"gridcolor\":\"white\",\"linecolor\":\"white\",\"minorgridcolor\":\"white\",\"startlinecolor\":\"#2a3f5f\"},\"type\":\"carpet\"}],\"table\":[{\"cells\":{\"fill\":{\"color\":\"#EBF0F8\"},\"line\":{\"color\":\"white\"}},\"header\":{\"fill\":{\"color\":\"#C8D4E3\"},\"line\":{\"color\":\"white\"}},\"type\":\"table\"}],\"barpolar\":[{\"marker\":{\"line\":{\"color\":\"#E5ECF6\",\"width\":0.5},\"pattern\":{\"fillmode\":\"overlay\",\"size\":10,\"solidity\":0.2}},\"type\":\"barpolar\"}],\"pie\":[{\"automargin\":true,\"type\":\"pie\"}]},\"layout\":{\"autotypenumbers\":\"strict\",\"colorway\":[\"#636efa\",\"#EF553B\",\"#00cc96\",\"#ab63fa\",\"#FFA15A\",\"#19d3f3\",\"#FF6692\",\"#B6E880\",\"#FF97FF\",\"#FECB52\"],\"font\":{\"color\":\"#2a3f5f\"},\"hovermode\":\"closest\",\"hoverlabel\":{\"align\":\"left\"},\"paper_bgcolor\":\"white\",\"plot_bgcolor\":\"#E5ECF6\",\"polar\":{\"bgcolor\":\"#E5ECF6\",\"angularaxis\":{\"gridcolor\":\"white\",\"linecolor\":\"white\",\"ticks\":\"\"},\"radialaxis\":{\"gridcolor\":\"white\",\"linecolor\":\"white\",\"ticks\":\"\"}},\"ternary\":{\"bgcolor\":\"#E5ECF6\",\"aaxis\":{\"gridcolor\":\"white\",\"linecolor\":\"white\",\"ticks\":\"\"},\"baxis\":{\"gridcolor\":\"white\",\"linecolor\":\"white\",\"ticks\":\"\"},\"caxis\":{\"gridcolor\":\"white\",\"linecolor\":\"white\",\"ticks\":\"\"}},\"coloraxis\":{\"colorbar\":{\"outlinewidth\":0,\"ticks\":\"\"}},\"colorscale\":{\"sequential\":[[0.0,\"#0d0887\"],[0.1111111111111111,\"#46039f\"],[0.2222222222222222,\"#7201a8\"],[0.3333333333333333,\"#9c179e\"],[0.4444444444444444,\"#bd3786\"],[0.5555555555555556,\"#d8576b\"],[0.6666666666666666,\"#ed7953\"],[0.7777777777777778,\"#fb9f3a\"],[0.8888888888888888,\"#fdca26\"],[1.0,\"#f0f921\"]],\"sequentialminus\":[[0.0,\"#0d0887\"],[0.1111111111111111,\"#46039f\"],[0.2222222222222222,\"#7201a8\"],[0.3333333333333333,\"#9c179e\"],[0.4444444444444444,\"#bd3786\"],[0.5555555555555556,\"#d8576b\"],[0.6666666666666666,\"#ed7953\"],[0.7777777777777778,\"#fb9f3a\"],[0.8888888888888888,\"#fdca26\"],[1.0,\"#f0f921\"]],\"diverging\":[[0,\"#8e0152\"],[0.1,\"#c51b7d\"],[0.2,\"#de77ae\"],[0.3,\"#f1b6da\"],[0.4,\"#fde0ef\"],[0.5,\"#f7f7f7\"],[0.6,\"#e6f5d0\"],[0.7,\"#b8e186\"],[0.8,\"#7fbc41\"],[0.9,\"#4d9221\"],[1,\"#276419\"]]},\"xaxis\":{\"gridcolor\":\"white\",\"linecolor\":\"white\",\"ticks\":\"\",\"title\":{\"standoff\":15},\"zerolinecolor\":\"white\",\"automargin\":true,\"zerolinewidth\":2},\"yaxis\":{\"gridcolor\":\"white\",\"linecolor\":\"white\",\"ticks\":\"\",\"title\":{\"standoff\":15},\"zerolinecolor\":\"white\",\"automargin\":true,\"zerolinewidth\":2},\"scene\":{\"xaxis\":{\"backgroundcolor\":\"#E5ECF6\",\"gridcolor\":\"white\",\"linecolor\":\"white\",\"showbackground\":true,\"ticks\":\"\",\"zerolinecolor\":\"white\",\"gridwidth\":2},\"yaxis\":{\"backgroundcolor\":\"#E5ECF6\",\"gridcolor\":\"white\",\"linecolor\":\"white\",\"showbackground\":true,\"ticks\":\"\",\"zerolinecolor\":\"white\",\"gridwidth\":2},\"zaxis\":{\"backgroundcolor\":\"#E5ECF6\",\"gridcolor\":\"white\",\"linecolor\":\"white\",\"showbackground\":true,\"ticks\":\"\",\"zerolinecolor\":\"white\",\"gridwidth\":2}},\"shapedefaults\":{\"line\":{\"color\":\"#2a3f5f\"}},\"annotationdefaults\":{\"arrowcolor\":\"#2a3f5f\",\"arrowhead\":0,\"arrowwidth\":1},\"geo\":{\"bgcolor\":\"white\",\"landcolor\":\"#E5ECF6\",\"subunitcolor\":\"white\",\"showland\":true,\"showlakes\":true,\"lakecolor\":\"white\"},\"title\":{\"x\":0.05},\"mapbox\":{\"style\":\"light\"}}},\"plot_bgcolor\":\"white\",\"xaxis\":{\"showgrid\":true,\"ticklen\":1,\"tick0\":0,\"dtick\":1}},                        {\"responsive\": true}                    ).then(function(){\n",
       "                            \n",
       "var gd = document.getElementById('ac602143-40a3-4307-bb76-39c090bebe92');\n",
       "var x = new MutationObserver(function (mutations, observer) {{\n",
       "        var display = window.getComputedStyle(gd).display;\n",
       "        if (!display || display === 'none') {{\n",
       "            console.log([gd, 'removed!']);\n",
       "            Plotly.purge(gd);\n",
       "            observer.disconnect();\n",
       "        }}\n",
       "}});\n",
       "\n",
       "// Listen for the removal of the full notebook cells\n",
       "var notebookContainer = gd.closest('#notebook-container');\n",
       "if (notebookContainer) {{\n",
       "    x.observe(notebookContainer, {childList: true});\n",
       "}}\n",
       "\n",
       "// Listen for the clearing of the current output cell\n",
       "var outputEl = gd.closest('.output');\n",
       "if (outputEl) {{\n",
       "    x.observe(outputEl, {childList: true});\n",
       "}}\n",
       "\n",
       "                        })                };                });            </script>        </div>"
      ]
     },
     "metadata": {},
     "output_type": "display_data"
    }
   ],
   "source": [
    "fig4 = go.Figure(data=[go.Bar(name='Active', x=combined_data_final_Active.groupby('aidname').\\\n",
    "count()[['cid']].reset_index().sort_values(by='cid', ascending= False)['cid'], y=combined_data_final_Active.groupby('aidname').\\\n",
    "count()[['cid']].reset_index()['aidname'], orientation = 'h', marker_color= '#f29b97')])\n",
    "fig4.update_layout( plot_bgcolor='white')\n",
    "fig4.update_xaxes(showgrid=True, ticklen=1, tick0 = 0 ,dtick = 1)"
   ]
  },
  {
   "cell_type": "code",
   "execution_count": 283,
   "id": "86723bc0",
   "metadata": {
    "collapsed": true
   },
   "outputs": [
    {
     "data": {
      "text/html": [
       "<div>\n",
       "<style scoped>\n",
       "    .dataframe tbody tr th:only-of-type {\n",
       "        vertical-align: middle;\n",
       "    }\n",
       "\n",
       "    .dataframe tbody tr th {\n",
       "        vertical-align: top;\n",
       "    }\n",
       "\n",
       "    .dataframe thead th {\n",
       "        text-align: right;\n",
       "    }\n",
       "</style>\n",
       "<table border=\"1\" class=\"dataframe\">\n",
       "  <thead>\n",
       "    <tr style=\"text-align: right;\">\n",
       "      <th></th>\n",
       "      <th></th>\n",
       "      <th>cid</th>\n",
       "      <th>name</th>\n",
       "      <th>isosmiles</th>\n",
       "      <th>aidname</th>\n",
       "    </tr>\n",
       "    <tr>\n",
       "      <th>aid</th>\n",
       "      <th>activity</th>\n",
       "      <th></th>\n",
       "      <th></th>\n",
       "      <th></th>\n",
       "      <th></th>\n",
       "    </tr>\n",
       "  </thead>\n",
       "  <tbody>\n",
       "    <tr>\n",
       "      <th rowspan=\"2\" valign=\"top\">743126</th>\n",
       "      <th>Inactive</th>\n",
       "      <td>54</td>\n",
       "      <td>54</td>\n",
       "      <td>54</td>\n",
       "      <td>54</td>\n",
       "    </tr>\n",
       "    <tr>\n",
       "      <th>Active</th>\n",
       "      <td>1</td>\n",
       "      <td>1</td>\n",
       "      <td>1</td>\n",
       "      <td>1</td>\n",
       "    </tr>\n",
       "    <tr>\n",
       "      <th rowspan=\"2\" valign=\"top\">720596</th>\n",
       "      <th>Inactive</th>\n",
       "      <td>54</td>\n",
       "      <td>54</td>\n",
       "      <td>54</td>\n",
       "      <td>54</td>\n",
       "    </tr>\n",
       "    <tr>\n",
       "      <th>Active</th>\n",
       "      <td>1</td>\n",
       "      <td>1</td>\n",
       "      <td>1</td>\n",
       "      <td>1</td>\n",
       "    </tr>\n",
       "    <tr>\n",
       "      <th rowspan=\"2\" valign=\"top\">652067</th>\n",
       "      <th>Inactive</th>\n",
       "      <td>54</td>\n",
       "      <td>54</td>\n",
       "      <td>54</td>\n",
       "      <td>54</td>\n",
       "    </tr>\n",
       "    <tr>\n",
       "      <th>Active</th>\n",
       "      <td>1</td>\n",
       "      <td>1</td>\n",
       "      <td>1</td>\n",
       "      <td>1</td>\n",
       "    </tr>\n",
       "    <tr>\n",
       "      <th rowspan=\"2\" valign=\"top\">651957</th>\n",
       "      <th>Inactive</th>\n",
       "      <td>54</td>\n",
       "      <td>54</td>\n",
       "      <td>54</td>\n",
       "      <td>54</td>\n",
       "    </tr>\n",
       "    <tr>\n",
       "      <th>Active</th>\n",
       "      <td>1</td>\n",
       "      <td>1</td>\n",
       "      <td>1</td>\n",
       "      <td>1</td>\n",
       "    </tr>\n",
       "    <tr>\n",
       "      <th rowspan=\"2\" valign=\"top\">651819</th>\n",
       "      <th>Inactive</th>\n",
       "      <td>50</td>\n",
       "      <td>50</td>\n",
       "      <td>50</td>\n",
       "      <td>50</td>\n",
       "    </tr>\n",
       "    <tr>\n",
       "      <th>Active</th>\n",
       "      <td>1</td>\n",
       "      <td>1</td>\n",
       "      <td>1</td>\n",
       "      <td>1</td>\n",
       "    </tr>\n",
       "    <tr>\n",
       "      <th rowspan=\"2\" valign=\"top\">651699</th>\n",
       "      <th>Active</th>\n",
       "      <td>1</td>\n",
       "      <td>1</td>\n",
       "      <td>1</td>\n",
       "      <td>1</td>\n",
       "    </tr>\n",
       "    <tr>\n",
       "      <th>Inactive</th>\n",
       "      <td>50</td>\n",
       "      <td>50</td>\n",
       "      <td>50</td>\n",
       "      <td>50</td>\n",
       "    </tr>\n",
       "    <tr>\n",
       "      <th rowspan=\"2\" valign=\"top\">624354</th>\n",
       "      <th>Inactive</th>\n",
       "      <td>50</td>\n",
       "      <td>50</td>\n",
       "      <td>50</td>\n",
       "      <td>50</td>\n",
       "    </tr>\n",
       "    <tr>\n",
       "      <th>Active</th>\n",
       "      <td>1</td>\n",
       "      <td>1</td>\n",
       "      <td>1</td>\n",
       "      <td>1</td>\n",
       "    </tr>\n",
       "    <tr>\n",
       "      <th rowspan=\"2\" valign=\"top\">624268</th>\n",
       "      <th>Inactive</th>\n",
       "      <td>49</td>\n",
       "      <td>49</td>\n",
       "      <td>49</td>\n",
       "      <td>49</td>\n",
       "    </tr>\n",
       "    <tr>\n",
       "      <th>Active</th>\n",
       "      <td>2</td>\n",
       "      <td>2</td>\n",
       "      <td>2</td>\n",
       "      <td>2</td>\n",
       "    </tr>\n",
       "    <tr>\n",
       "      <th rowspan=\"2\" valign=\"top\">602250</th>\n",
       "      <th>Inactive</th>\n",
       "      <td>50</td>\n",
       "      <td>50</td>\n",
       "      <td>50</td>\n",
       "      <td>50</td>\n",
       "    </tr>\n",
       "    <tr>\n",
       "      <th>Active</th>\n",
       "      <td>1</td>\n",
       "      <td>1</td>\n",
       "      <td>1</td>\n",
       "      <td>1</td>\n",
       "    </tr>\n",
       "    <tr>\n",
       "      <th rowspan=\"2\" valign=\"top\">602248</th>\n",
       "      <th>Inactive</th>\n",
       "      <td>50</td>\n",
       "      <td>50</td>\n",
       "      <td>50</td>\n",
       "      <td>50</td>\n",
       "    </tr>\n",
       "    <tr>\n",
       "      <th>Active</th>\n",
       "      <td>1</td>\n",
       "      <td>1</td>\n",
       "      <td>1</td>\n",
       "      <td>1</td>\n",
       "    </tr>\n",
       "    <tr>\n",
       "      <th rowspan=\"2\" valign=\"top\">588852</th>\n",
       "      <th>Inactive</th>\n",
       "      <td>50</td>\n",
       "      <td>50</td>\n",
       "      <td>50</td>\n",
       "      <td>50</td>\n",
       "    </tr>\n",
       "    <tr>\n",
       "      <th>Active</th>\n",
       "      <td>1</td>\n",
       "      <td>1</td>\n",
       "      <td>1</td>\n",
       "      <td>1</td>\n",
       "    </tr>\n",
       "    <tr>\n",
       "      <th rowspan=\"2\" valign=\"top\">588814</th>\n",
       "      <th>Inactive</th>\n",
       "      <td>50</td>\n",
       "      <td>50</td>\n",
       "      <td>50</td>\n",
       "      <td>50</td>\n",
       "    </tr>\n",
       "    <tr>\n",
       "      <th>Active</th>\n",
       "      <td>1</td>\n",
       "      <td>1</td>\n",
       "      <td>1</td>\n",
       "      <td>1</td>\n",
       "    </tr>\n",
       "    <tr>\n",
       "      <th rowspan=\"2\" valign=\"top\">504339</th>\n",
       "      <th>Inactive</th>\n",
       "      <td>51</td>\n",
       "      <td>51</td>\n",
       "      <td>51</td>\n",
       "      <td>51</td>\n",
       "    </tr>\n",
       "    <tr>\n",
       "      <th>Active</th>\n",
       "      <td>2</td>\n",
       "      <td>2</td>\n",
       "      <td>2</td>\n",
       "      <td>2</td>\n",
       "    </tr>\n",
       "  </tbody>\n",
       "</table>\n",
       "</div>"
      ],
      "text/plain": [
       "                 cid  name  isosmiles  aidname\n",
       "aid    activity                               \n",
       "743126 Inactive   54    54         54       54\n",
       "       Active      1     1          1        1\n",
       "720596 Inactive   54    54         54       54\n",
       "       Active      1     1          1        1\n",
       "652067 Inactive   54    54         54       54\n",
       "       Active      1     1          1        1\n",
       "651957 Inactive   54    54         54       54\n",
       "       Active      1     1          1        1\n",
       "651819 Inactive   50    50         50       50\n",
       "       Active      1     1          1        1\n",
       "651699 Active      1     1          1        1\n",
       "       Inactive   50    50         50       50\n",
       "624354 Inactive   50    50         50       50\n",
       "       Active      1     1          1        1\n",
       "624268 Inactive   49    49         49       49\n",
       "       Active      2     2          2        2\n",
       "602250 Inactive   50    50         50       50\n",
       "       Active      1     1          1        1\n",
       "602248 Inactive   50    50         50       50\n",
       "       Active      1     1          1        1\n",
       "588852 Inactive   50    50         50       50\n",
       "       Active      1     1          1        1\n",
       "588814 Inactive   50    50         50       50\n",
       "       Active      1     1          1        1\n",
       "504339 Inactive   51    51         51       51\n",
       "       Active      2     2          2        2"
      ]
     },
     "execution_count": 283,
     "metadata": {},
     "output_type": "execute_result"
    }
   ],
   "source": [
    "grouping_act = combined_data_final_Active.groupby('aid').count()[['cid']].reset_index()['aid']\n",
    "activebioassays = list(grouping_act)\n",
    "combined_data_filtered.loc[combined_data_filtered['aid'].isin(activebioassays)].groupby(['aid', 'activity']).count().sort_values(by='aid', ascending = False)"
   ]
  },
  {
   "cell_type": "code",
   "execution_count": 299,
   "id": "ff86bf68",
   "metadata": {},
   "outputs": [
    {
     "data": {
      "text/html": [
       "<div>\n",
       "<style scoped>\n",
       "    .dataframe tbody tr th:only-of-type {\n",
       "        vertical-align: middle;\n",
       "    }\n",
       "\n",
       "    .dataframe tbody tr th {\n",
       "        vertical-align: top;\n",
       "    }\n",
       "\n",
       "    .dataframe thead th {\n",
       "        text-align: right;\n",
       "    }\n",
       "</style>\n",
       "<table border=\"1\" class=\"dataframe\">\n",
       "  <thead>\n",
       "    <tr style=\"text-align: right;\">\n",
       "      <th></th>\n",
       "      <th>aid</th>\n",
       "      <th>activity</th>\n",
       "      <th>cid</th>\n",
       "      <th>name</th>\n",
       "      <th>isosmiles</th>\n",
       "      <th>aidname</th>\n",
       "    </tr>\n",
       "  </thead>\n",
       "  <tbody>\n",
       "    <tr>\n",
       "      <th>147</th>\n",
       "      <td>686978</td>\n",
       "      <td>Active</td>\n",
       "      <td>12</td>\n",
       "      <td>12</td>\n",
       "      <td>12</td>\n",
       "      <td>12</td>\n",
       "    </tr>\n",
       "    <tr>\n",
       "      <th>13</th>\n",
       "      <td>2551</td>\n",
       "      <td>Active</td>\n",
       "      <td>3</td>\n",
       "      <td>3</td>\n",
       "      <td>3</td>\n",
       "      <td>3</td>\n",
       "    </tr>\n",
       "    <tr>\n",
       "      <th>0</th>\n",
       "      <td>1490</td>\n",
       "      <td>Active</td>\n",
       "      <td>2</td>\n",
       "      <td>2</td>\n",
       "      <td>2</td>\n",
       "      <td>2</td>\n",
       "    </tr>\n",
       "    <tr>\n",
       "      <th>11</th>\n",
       "      <td>2546</td>\n",
       "      <td>Active</td>\n",
       "      <td>2</td>\n",
       "      <td>2</td>\n",
       "      <td>2</td>\n",
       "      <td>2</td>\n",
       "    </tr>\n",
       "    <tr>\n",
       "      <th>178</th>\n",
       "      <td>1259400</td>\n",
       "      <td>Active</td>\n",
       "      <td>2</td>\n",
       "      <td>2</td>\n",
       "      <td>2</td>\n",
       "      <td>2</td>\n",
       "    </tr>\n",
       "    <tr>\n",
       "      <th>20</th>\n",
       "      <td>504339</td>\n",
       "      <td>Active</td>\n",
       "      <td>2</td>\n",
       "      <td>2</td>\n",
       "      <td>2</td>\n",
       "      <td>2</td>\n",
       "    </tr>\n",
       "    <tr>\n",
       "      <th>94</th>\n",
       "      <td>624268</td>\n",
       "      <td>Active</td>\n",
       "      <td>2</td>\n",
       "      <td>2</td>\n",
       "      <td>2</td>\n",
       "      <td>2</td>\n",
       "    </tr>\n",
       "    <tr>\n",
       "      <th>128</th>\n",
       "      <td>651819</td>\n",
       "      <td>Active</td>\n",
       "      <td>1</td>\n",
       "      <td>1</td>\n",
       "      <td>1</td>\n",
       "      <td>1</td>\n",
       "    </tr>\n",
       "    <tr>\n",
       "      <th>180</th>\n",
       "      <td>1259415</td>\n",
       "      <td>Active</td>\n",
       "      <td>1</td>\n",
       "      <td>1</td>\n",
       "      <td>1</td>\n",
       "      <td>1</td>\n",
       "    </tr>\n",
       "    <tr>\n",
       "      <th>175</th>\n",
       "      <td>1259318</td>\n",
       "      <td>Active</td>\n",
       "      <td>1</td>\n",
       "      <td>1</td>\n",
       "      <td>1</td>\n",
       "      <td>1</td>\n",
       "    </tr>\n",
       "    <tr>\n",
       "      <th>165</th>\n",
       "      <td>743126</td>\n",
       "      <td>Active</td>\n",
       "      <td>1</td>\n",
       "      <td>1</td>\n",
       "      <td>1</td>\n",
       "      <td>1</td>\n",
       "    </tr>\n",
       "    <tr>\n",
       "      <th>156</th>\n",
       "      <td>720596</td>\n",
       "      <td>Active</td>\n",
       "      <td>1</td>\n",
       "      <td>1</td>\n",
       "      <td>1</td>\n",
       "      <td>1</td>\n",
       "    </tr>\n",
       "    <tr>\n",
       "      <th>141</th>\n",
       "      <td>652067</td>\n",
       "      <td>Active</td>\n",
       "      <td>1</td>\n",
       "      <td>1</td>\n",
       "      <td>1</td>\n",
       "      <td>1</td>\n",
       "    </tr>\n",
       "    <tr>\n",
       "      <th>131</th>\n",
       "      <td>651957</td>\n",
       "      <td>Active</td>\n",
       "      <td>1</td>\n",
       "      <td>1</td>\n",
       "      <td>1</td>\n",
       "      <td>1</td>\n",
       "    </tr>\n",
       "    <tr>\n",
       "      <th>100</th>\n",
       "      <td>624354</td>\n",
       "      <td>Active</td>\n",
       "      <td>1</td>\n",
       "      <td>1</td>\n",
       "      <td>1</td>\n",
       "      <td>1</td>\n",
       "    </tr>\n",
       "    <tr>\n",
       "      <th>120</th>\n",
       "      <td>651699</td>\n",
       "      <td>Active</td>\n",
       "      <td>1</td>\n",
       "      <td>1</td>\n",
       "      <td>1</td>\n",
       "      <td>1</td>\n",
       "    </tr>\n",
       "    <tr>\n",
       "      <th>112</th>\n",
       "      <td>624483</td>\n",
       "      <td>Active</td>\n",
       "      <td>1</td>\n",
       "      <td>1</td>\n",
       "      <td>1</td>\n",
       "      <td>1</td>\n",
       "    </tr>\n",
       "    <tr>\n",
       "      <th>5</th>\n",
       "      <td>2451</td>\n",
       "      <td>Active</td>\n",
       "      <td>1</td>\n",
       "      <td>1</td>\n",
       "      <td>1</td>\n",
       "      <td>1</td>\n",
       "    </tr>\n",
       "    <tr>\n",
       "      <th>63</th>\n",
       "      <td>602250</td>\n",
       "      <td>Active</td>\n",
       "      <td>1</td>\n",
       "      <td>1</td>\n",
       "      <td>1</td>\n",
       "      <td>1</td>\n",
       "    </tr>\n",
       "    <tr>\n",
       "      <th>61</th>\n",
       "      <td>602248</td>\n",
       "      <td>Active</td>\n",
       "      <td>1</td>\n",
       "      <td>1</td>\n",
       "      <td>1</td>\n",
       "      <td>1</td>\n",
       "    </tr>\n",
       "    <tr>\n",
       "      <th>49</th>\n",
       "      <td>588852</td>\n",
       "      <td>Active</td>\n",
       "      <td>1</td>\n",
       "      <td>1</td>\n",
       "      <td>1</td>\n",
       "      <td>1</td>\n",
       "    </tr>\n",
       "    <tr>\n",
       "      <th>45</th>\n",
       "      <td>588814</td>\n",
       "      <td>Active</td>\n",
       "      <td>1</td>\n",
       "      <td>1</td>\n",
       "      <td>1</td>\n",
       "      <td>1</td>\n",
       "    </tr>\n",
       "    <tr>\n",
       "      <th>18</th>\n",
       "      <td>504332</td>\n",
       "      <td>Active</td>\n",
       "      <td>1</td>\n",
       "      <td>1</td>\n",
       "      <td>1</td>\n",
       "      <td>1</td>\n",
       "    </tr>\n",
       "    <tr>\n",
       "      <th>7</th>\n",
       "      <td>2472</td>\n",
       "      <td>Active</td>\n",
       "      <td>1</td>\n",
       "      <td>1</td>\n",
       "      <td>1</td>\n",
       "      <td>1</td>\n",
       "    </tr>\n",
       "    <tr>\n",
       "      <th>189</th>\n",
       "      <td>1508602</td>\n",
       "      <td>Active</td>\n",
       "      <td>1</td>\n",
       "      <td>1</td>\n",
       "      <td>1</td>\n",
       "      <td>1</td>\n",
       "    </tr>\n",
       "  </tbody>\n",
       "</table>\n",
       "</div>"
      ],
      "text/plain": [
       "         aid activity  cid  name  isosmiles  aidname\n",
       "147   686978   Active   12    12         12       12\n",
       "13      2551   Active    3     3          3        3\n",
       "0       1490   Active    2     2          2        2\n",
       "11      2546   Active    2     2          2        2\n",
       "178  1259400   Active    2     2          2        2\n",
       "20    504339   Active    2     2          2        2\n",
       "94    624268   Active    2     2          2        2\n",
       "128   651819   Active    1     1          1        1\n",
       "180  1259415   Active    1     1          1        1\n",
       "175  1259318   Active    1     1          1        1\n",
       "165   743126   Active    1     1          1        1\n",
       "156   720596   Active    1     1          1        1\n",
       "141   652067   Active    1     1          1        1\n",
       "131   651957   Active    1     1          1        1\n",
       "100   624354   Active    1     1          1        1\n",
       "120   651699   Active    1     1          1        1\n",
       "112   624483   Active    1     1          1        1\n",
       "5       2451   Active    1     1          1        1\n",
       "63    602250   Active    1     1          1        1\n",
       "61    602248   Active    1     1          1        1\n",
       "49    588852   Active    1     1          1        1\n",
       "45    588814   Active    1     1          1        1\n",
       "18    504332   Active    1     1          1        1\n",
       "7       2472   Active    1     1          1        1\n",
       "189  1508602   Active    1     1          1        1"
      ]
     },
     "execution_count": 299,
     "metadata": {},
     "output_type": "execute_result"
    }
   ],
   "source": [
    "btb = combined_data_filtered.groupby(['aid', 'activity']).count().sort_values(by=['aid','activity'], ascending = True).reset_index()\n",
    "btb.loc[btb['activity'] == 'Active'].sort_values(by = 'cid', ascending = False)"
   ]
  }
 ],
 "metadata": {
  "kernelspec": {
   "display_name": "Python 3 (ipykernel)",
   "language": "python",
   "name": "python3"
  },
  "language_info": {
   "codemirror_mode": {
    "name": "ipython",
    "version": 3
   },
   "file_extension": ".py",
   "mimetype": "text/x-python",
   "name": "python",
   "nbconvert_exporter": "python",
   "pygments_lexer": "ipython3",
   "version": "3.9.7"
  }
 },
 "nbformat": 4,
 "nbformat_minor": 5
}
