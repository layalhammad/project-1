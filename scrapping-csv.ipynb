{
 "cells": [
  {
   "cell_type": "code",
   "execution_count": null,
   "id": "4ce0d371",
   "metadata": {},
   "outputs": [],
   "source": [
    "!pip install selenium"
   ]
  },
  {
   "cell_type": "code",
   "execution_count": 2,
   "id": "088e4b66",
   "metadata": {},
   "outputs": [],
   "source": [
    "import pandas as pd\n",
    "import numpy as np\n",
    "import selenium\n",
    "from selenium import webdriver\n",
    "from selenium.webdriver.chrome.options import Options\n",
    "from selenium.webdriver.common.keys import Keys\n",
    "from selenium.webdriver.common.by import By\n",
    "import time\n",
    "chrome_options = Options()"
   ]
  },
  {
   "cell_type": "code",
   "execution_count": null,
   "id": "1120bfa0",
   "metadata": {
    "scrolled": true
   },
   "outputs": [],
   "source": [
    "pip install webdriver-manager"
   ]
  },
  {
   "cell_type": "code",
   "execution_count": 30,
   "id": "b56e0ad6",
   "metadata": {},
   "outputs": [],
   "source": [
    "import pandas as pd"
   ]
  },
  {
   "cell_type": "code",
   "execution_count": 47,
   "id": "e96c9146",
   "metadata": {},
   "outputs": [],
   "source": [
    "df = pd.read_csv('CID_3016_compound.csv',nrows=(5606-2806))"
   ]
  },
  {
   "cell_type": "code",
   "execution_count": 57,
   "id": "b5f86cfc",
   "metadata": {},
   "outputs": [],
   "source": [
    "x = list(df['cid'])"
   ]
  },
  {
   "cell_type": "code",
   "execution_count": 83,
   "id": "81a4163d",
   "metadata": {},
   "outputs": [
    {
     "name": "stderr",
     "output_type": "stream",
     "text": [
      "/var/folders/9_/_f4wj22x2_q4fygvls6fc8_m0000gn/T/ipykernel_97050/3051549411.py:4: DeprecationWarning: executable_path has been deprecated, please pass in a Service object\n",
      "  driver = webdriver.Chrome(\"/usr/local/bin/chromedriver\", chrome_options = chromeOptions)\n",
      "/var/folders/9_/_f4wj22x2_q4fygvls6fc8_m0000gn/T/ipykernel_97050/3051549411.py:4: DeprecationWarning: use options instead of chrome_options\n",
      "  driver = webdriver.Chrome(\"/usr/local/bin/chromedriver\", chrome_options = chromeOptions)\n",
      "/var/folders/9_/_f4wj22x2_q4fygvls6fc8_m0000gn/T/ipykernel_97050/3051549411.py:15: DeprecationWarning: find_element_by_xpath is deprecated. Please use find_element(by=By.XPATH, value=xpath) instead\n",
      "  download_button = driver.find_element_by_xpath(\"//button[@id='Download']\")\n",
      "/var/folders/9_/_f4wj22x2_q4fygvls6fc8_m0000gn/T/ipykernel_97050/3051549411.py:22: DeprecationWarning: find_element_by_xpath is deprecated. Please use find_element(by=By.XPATH, value=xpath) instead\n",
      "  download_csv_button = driver.find_element_by_xpath(\"//a[@data-label='Download Section: BioAssay-Results; CSV - Save']\")\n"
     ]
    }
   ],
   "source": [
    "chromeOptions = Options()\n",
    "chromeOptions.add_experimental_option('prefs',{'download.default_directory':'/Users/layalhammad/desktop/nycdsa/scrapped'})\n",
    "\n",
    "driver = webdriver.Chrome(\"/usr/local/bin/chromedriver\", chrome_options = chromeOptions)\n",
    "  \n",
    "    \n",
    "for i in x:    \n",
    "    # Open URL\n",
    "    driver.get(\n",
    "        f'https://pubchem.ncbi.nlm.nih.gov/compound/{i}#section=BioAssay-Results&fullscreen=true')\n",
    "\n",
    "    time.sleep(2)\n",
    "\n",
    "    try:\n",
    "        download_button = driver.find_element_by_xpath(\"//button[@id='Download']\")\n",
    "\n",
    "\n",
    "        download_button.click()\n",
    "\n",
    "        time.sleep(2)\n",
    "\n",
    "        download_csv_button = driver.find_element_by_xpath(\"//a[@data-label='Download Section: BioAssay-Results; CSV - Save']\")\n",
    "\n",
    "        download_csv_button.click()\n",
    "\n",
    "        time.sleep(2)\n",
    "    \n",
    "    except:\n",
    "        continue\n",
    "\n",
    "driver.close()\n",
    "\n",
    "  "
   ]
  }
 ],
 "metadata": {
  "kernelspec": {
   "display_name": "Python 3 (ipykernel)",
   "language": "python",
   "name": "python3"
  },
  "language_info": {
   "codemirror_mode": {
    "name": "ipython",
    "version": 3
   },
   "file_extension": ".py",
   "mimetype": "text/x-python",
   "name": "python",
   "nbconvert_exporter": "python",
   "pygments_lexer": "ipython3",
   "version": "3.9.7"
  }
 },
 "nbformat": 4,
 "nbformat_minor": 5
}
